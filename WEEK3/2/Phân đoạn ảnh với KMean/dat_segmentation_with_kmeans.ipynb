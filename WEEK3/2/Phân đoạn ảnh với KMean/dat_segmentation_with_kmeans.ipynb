{
 "cells": [
  {
   "cell_type": "code",
   "execution_count": 5,
   "metadata": {},
   "outputs": [
    {
     "name": "stdout",
     "output_type": "stream",
     "text": [
      "Collecting yellowbrick\n",
      "  Downloading yellowbrick-1.5-py3-none-any.whl (282 kB)\n",
      "\u001b[2K     \u001b[90m━━━━━━━━━━━━━━━━━━━━━━━━━━━━━━━━━━━━━━━\u001b[0m \u001b[32m282.6/282.6 kB\u001b[0m \u001b[31m6.4 MB/s\u001b[0m eta \u001b[36m0:00:00\u001b[0ma \u001b[36m0:00:01\u001b[0m\n",
      "\u001b[?25hRequirement already satisfied: numpy>=1.16.0 in /Users/lethanhdat/Library/Python/3.10/lib/python/site-packages (from yellowbrick) (2.0.1)\n",
      "Requirement already satisfied: scipy>=1.0.0 in /Users/lethanhdat/Library/Python/3.10/lib/python/site-packages (from yellowbrick) (1.14.0)\n",
      "Requirement already satisfied: cycler>=0.10.0 in /Users/lethanhdat/Library/Python/3.10/lib/python/site-packages (from yellowbrick) (0.12.1)\n",
      "Requirement already satisfied: scikit-learn>=1.0.0 in /Users/lethanhdat/Library/Python/3.10/lib/python/site-packages (from yellowbrick) (1.5.1)\n",
      "Requirement already satisfied: matplotlib!=3.0.0,>=2.0.2 in /Library/Frameworks/Python.framework/Versions/3.10/lib/python3.10/site-packages (from yellowbrick) (3.9.2)\n",
      "Requirement already satisfied: pyparsing>=2.3.1 in /Users/lethanhdat/Library/Python/3.10/lib/python/site-packages (from matplotlib!=3.0.0,>=2.0.2->yellowbrick) (3.1.2)\n",
      "Requirement already satisfied: kiwisolver>=1.3.1 in /Users/lethanhdat/Library/Python/3.10/lib/python/site-packages (from matplotlib!=3.0.0,>=2.0.2->yellowbrick) (1.4.5)\n",
      "Requirement already satisfied: pillow>=8 in /Users/lethanhdat/Library/Python/3.10/lib/python/site-packages (from matplotlib!=3.0.0,>=2.0.2->yellowbrick) (10.4.0)\n",
      "Requirement already satisfied: fonttools>=4.22.0 in /Users/lethanhdat/Library/Python/3.10/lib/python/site-packages (from matplotlib!=3.0.0,>=2.0.2->yellowbrick) (4.53.1)\n",
      "Requirement already satisfied: packaging>=20.0 in /Users/lethanhdat/Library/Python/3.10/lib/python/site-packages (from matplotlib!=3.0.0,>=2.0.2->yellowbrick) (24.1)\n",
      "Requirement already satisfied: contourpy>=1.0.1 in /Users/lethanhdat/Library/Python/3.10/lib/python/site-packages (from matplotlib!=3.0.0,>=2.0.2->yellowbrick) (1.2.1)\n",
      "Requirement already satisfied: python-dateutil>=2.7 in /Users/lethanhdat/Library/Python/3.10/lib/python/site-packages (from matplotlib!=3.0.0,>=2.0.2->yellowbrick) (2.9.0.post0)\n",
      "Requirement already satisfied: threadpoolctl>=3.1.0 in /Users/lethanhdat/Library/Python/3.10/lib/python/site-packages (from scikit-learn>=1.0.0->yellowbrick) (3.5.0)\n",
      "Requirement already satisfied: joblib>=1.2.0 in /Users/lethanhdat/Library/Python/3.10/lib/python/site-packages (from scikit-learn>=1.0.0->yellowbrick) (1.4.2)\n",
      "Requirement already satisfied: six>=1.5 in /Library/Frameworks/Python.framework/Versions/3.10/lib/python3.10/site-packages (from python-dateutil>=2.7->matplotlib!=3.0.0,>=2.0.2->yellowbrick) (1.16.0)\n",
      "Installing collected packages: yellowbrick\n",
      "Successfully installed yellowbrick-1.5\n",
      "\n",
      "\u001b[1m[\u001b[0m\u001b[34;49mnotice\u001b[0m\u001b[1;39;49m]\u001b[0m\u001b[39;49m A new release of pip available: \u001b[0m\u001b[31;49m22.2.2\u001b[0m\u001b[39;49m -> \u001b[0m\u001b[32;49m24.2\u001b[0m\n",
      "\u001b[1m[\u001b[0m\u001b[34;49mnotice\u001b[0m\u001b[1;39;49m]\u001b[0m\u001b[39;49m To update, run: \u001b[0m\u001b[32;49mpip3 install --upgrade pip\u001b[0m\n",
      "Note: you may need to restart the kernel to use updated packages.\n"
     ]
    }
   ],
   "source": [
    "\n",
    "%pip install  yellowbrick\n"
   ]
  },
  {
   "cell_type": "code",
   "execution_count": null,
   "metadata": {},
   "outputs": [],
   "source": [
    "import pandas as pd\n",
    "import numpy as np\n",
    "from sklearn.cluster import KMeans\n",
    "import matplotlib.pyplot as plt\n",
    "import os\n",
    "from yellowbrick.cluster import KElbowVisualizer"
   ]
  }
 ],
 "metadata": {
  "kernelspec": {
   "display_name": "Python 3",
   "language": "python",
   "name": "python3"
  },
  "language_info": {
   "codemirror_mode": {
    "name": "ipython",
    "version": 3
   },
   "file_extension": ".py",
   "mimetype": "text/x-python",
   "name": "python",
   "nbconvert_exporter": "python",
   "pygments_lexer": "ipython3",
   "version": "3.10.7"
  }
 },
 "nbformat": 4,
 "nbformat_minor": 2
}
