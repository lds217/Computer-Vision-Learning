{
 "cells": [
  {
   "cell_type": "markdown",
   "metadata": {},
   "source": [
    "# GNN, LSTM, GRU"
   ]
  },
  {
   "cell_type": "code",
   "execution_count": 36,
   "metadata": {},
   "outputs": [],
   "source": [
    "import pandas as pd\n",
    "import numpy as np\n",
    "import os\n",
    "import keras\n",
    "import tensorflow as tf\n",
    "from keras import Input, Model\n",
    "from keras.layers import LSTM, GRU, Dense, Flatten, Dropout\n",
    "from keras.callbacks import ModelCheckpoint\n",
    "from sklearn.preprocessing import MinMaxScaler\n",
    "from sklearn.model_selection import train_test_split\n",
    "from tensorflow.keras.optimizers import Adam\n",
    "import matplotlib.pyplot as plt\n",
    "from keras.saving import load_model"
   ]
  },
  {
   "cell_type": "code",
   "execution_count": 37,
   "metadata": {},
   "outputs": [],
   "source": [
    "x_start_df_train = pd.read_csv('data/train/export_data_x_start_train_20.csv', names = list(range(1, 22, 1)))\n",
    "x_end_df_train = pd.read_csv('data/train/export_data_x_end_train_20.csv', names = list(range(1, 22, 1)))\n",
    "y_start_df_train = pd.read_csv('data/train/export_data_y_start_train_20.csv', names = list(range(1, 22, 1)))\n",
    "y_end_df_train = pd.read_csv('data/train/export_data_y_end_train_20.csv', names = list(range(1, 22, 1)))"
   ]
  },
  {
   "cell_type": "code",
   "execution_count": 38,
   "metadata": {},
   "outputs": [
    {
     "data": {
      "text/html": [
       "<div>\n",
       "<style scoped>\n",
       "    .dataframe tbody tr th:only-of-type {\n",
       "        vertical-align: middle;\n",
       "    }\n",
       "\n",
       "    .dataframe tbody tr th {\n",
       "        vertical-align: top;\n",
       "    }\n",
       "\n",
       "    .dataframe thead th {\n",
       "        text-align: right;\n",
       "    }\n",
       "</style>\n",
       "<table border=\"1\" class=\"dataframe\">\n",
       "  <thead>\n",
       "    <tr style=\"text-align: right;\">\n",
       "      <th></th>\n",
       "      <th>1</th>\n",
       "      <th>2</th>\n",
       "      <th>3</th>\n",
       "      <th>4</th>\n",
       "      <th>5</th>\n",
       "      <th>6</th>\n",
       "      <th>7</th>\n",
       "      <th>8</th>\n",
       "      <th>9</th>\n",
       "      <th>10</th>\n",
       "      <th>...</th>\n",
       "      <th>12</th>\n",
       "      <th>13</th>\n",
       "      <th>14</th>\n",
       "      <th>15</th>\n",
       "      <th>16</th>\n",
       "      <th>17</th>\n",
       "      <th>18</th>\n",
       "      <th>19</th>\n",
       "      <th>20</th>\n",
       "      <th>21</th>\n",
       "    </tr>\n",
       "  </thead>\n",
       "  <tbody>\n",
       "    <tr>\n",
       "      <th>0</th>\n",
       "      <td>-1</td>\n",
       "      <td>-1</td>\n",
       "      <td>-1</td>\n",
       "      <td>1037</td>\n",
       "      <td>1037</td>\n",
       "      <td>1037</td>\n",
       "      <td>1038</td>\n",
       "      <td>1038</td>\n",
       "      <td>1038</td>\n",
       "      <td>1038</td>\n",
       "      <td>...</td>\n",
       "      <td>1038</td>\n",
       "      <td>1037</td>\n",
       "      <td>1038</td>\n",
       "      <td>1037</td>\n",
       "      <td>1038</td>\n",
       "      <td>1038</td>\n",
       "      <td>1038</td>\n",
       "      <td>1038</td>\n",
       "      <td>1038</td>\n",
       "      <td>1038</td>\n",
       "    </tr>\n",
       "    <tr>\n",
       "      <th>1</th>\n",
       "      <td>-1</td>\n",
       "      <td>-1</td>\n",
       "      <td>1037</td>\n",
       "      <td>1037</td>\n",
       "      <td>1037</td>\n",
       "      <td>1038</td>\n",
       "      <td>1038</td>\n",
       "      <td>1038</td>\n",
       "      <td>1038</td>\n",
       "      <td>1038</td>\n",
       "      <td>...</td>\n",
       "      <td>1037</td>\n",
       "      <td>1038</td>\n",
       "      <td>1037</td>\n",
       "      <td>1038</td>\n",
       "      <td>1038</td>\n",
       "      <td>1038</td>\n",
       "      <td>1038</td>\n",
       "      <td>1038</td>\n",
       "      <td>1038</td>\n",
       "      <td>1038</td>\n",
       "    </tr>\n",
       "    <tr>\n",
       "      <th>2</th>\n",
       "      <td>-1</td>\n",
       "      <td>1037</td>\n",
       "      <td>1037</td>\n",
       "      <td>1037</td>\n",
       "      <td>1038</td>\n",
       "      <td>1038</td>\n",
       "      <td>1038</td>\n",
       "      <td>1038</td>\n",
       "      <td>1038</td>\n",
       "      <td>1038</td>\n",
       "      <td>...</td>\n",
       "      <td>1038</td>\n",
       "      <td>1037</td>\n",
       "      <td>1038</td>\n",
       "      <td>1038</td>\n",
       "      <td>1038</td>\n",
       "      <td>1038</td>\n",
       "      <td>1038</td>\n",
       "      <td>1038</td>\n",
       "      <td>1038</td>\n",
       "      <td>1038</td>\n",
       "    </tr>\n",
       "    <tr>\n",
       "      <th>3</th>\n",
       "      <td>1037</td>\n",
       "      <td>1037</td>\n",
       "      <td>1038</td>\n",
       "      <td>1038</td>\n",
       "      <td>1038</td>\n",
       "      <td>1038</td>\n",
       "      <td>1038</td>\n",
       "      <td>1038</td>\n",
       "      <td>1037</td>\n",
       "      <td>1038</td>\n",
       "      <td>...</td>\n",
       "      <td>1038</td>\n",
       "      <td>1038</td>\n",
       "      <td>1038</td>\n",
       "      <td>1038</td>\n",
       "      <td>1038</td>\n",
       "      <td>1038</td>\n",
       "      <td>1038</td>\n",
       "      <td>1038</td>\n",
       "      <td>1038</td>\n",
       "      <td>1038</td>\n",
       "    </tr>\n",
       "    <tr>\n",
       "      <th>4</th>\n",
       "      <td>1037</td>\n",
       "      <td>1038</td>\n",
       "      <td>1038</td>\n",
       "      <td>1038</td>\n",
       "      <td>1038</td>\n",
       "      <td>1038</td>\n",
       "      <td>1038</td>\n",
       "      <td>1037</td>\n",
       "      <td>1038</td>\n",
       "      <td>1037</td>\n",
       "      <td>...</td>\n",
       "      <td>1038</td>\n",
       "      <td>1038</td>\n",
       "      <td>1038</td>\n",
       "      <td>1038</td>\n",
       "      <td>1038</td>\n",
       "      <td>1038</td>\n",
       "      <td>1038</td>\n",
       "      <td>1038</td>\n",
       "      <td>1038</td>\n",
       "      <td>1038</td>\n",
       "    </tr>\n",
       "    <tr>\n",
       "      <th>...</th>\n",
       "      <td>...</td>\n",
       "      <td>...</td>\n",
       "      <td>...</td>\n",
       "      <td>...</td>\n",
       "      <td>...</td>\n",
       "      <td>...</td>\n",
       "      <td>...</td>\n",
       "      <td>...</td>\n",
       "      <td>...</td>\n",
       "      <td>...</td>\n",
       "      <td>...</td>\n",
       "      <td>...</td>\n",
       "      <td>...</td>\n",
       "      <td>...</td>\n",
       "      <td>...</td>\n",
       "      <td>...</td>\n",
       "      <td>...</td>\n",
       "      <td>...</td>\n",
       "      <td>...</td>\n",
       "      <td>...</td>\n",
       "      <td>...</td>\n",
       "    </tr>\n",
       "    <tr>\n",
       "      <th>745193</th>\n",
       "      <td>1048</td>\n",
       "      <td>1048</td>\n",
       "      <td>1048</td>\n",
       "      <td>1048</td>\n",
       "      <td>1048</td>\n",
       "      <td>1048</td>\n",
       "      <td>1048</td>\n",
       "      <td>1048</td>\n",
       "      <td>1048</td>\n",
       "      <td>1048</td>\n",
       "      <td>...</td>\n",
       "      <td>1048</td>\n",
       "      <td>1048</td>\n",
       "      <td>1048</td>\n",
       "      <td>1048</td>\n",
       "      <td>1048</td>\n",
       "      <td>1048</td>\n",
       "      <td>1048</td>\n",
       "      <td>1048</td>\n",
       "      <td>1048</td>\n",
       "      <td>1049</td>\n",
       "    </tr>\n",
       "    <tr>\n",
       "      <th>745194</th>\n",
       "      <td>1048</td>\n",
       "      <td>1048</td>\n",
       "      <td>1048</td>\n",
       "      <td>1048</td>\n",
       "      <td>1048</td>\n",
       "      <td>1048</td>\n",
       "      <td>1048</td>\n",
       "      <td>1048</td>\n",
       "      <td>1048</td>\n",
       "      <td>1048</td>\n",
       "      <td>...</td>\n",
       "      <td>1048</td>\n",
       "      <td>1048</td>\n",
       "      <td>1048</td>\n",
       "      <td>1048</td>\n",
       "      <td>1048</td>\n",
       "      <td>1048</td>\n",
       "      <td>1048</td>\n",
       "      <td>1048</td>\n",
       "      <td>1049</td>\n",
       "      <td>1048</td>\n",
       "    </tr>\n",
       "    <tr>\n",
       "      <th>745195</th>\n",
       "      <td>1048</td>\n",
       "      <td>1048</td>\n",
       "      <td>1048</td>\n",
       "      <td>1048</td>\n",
       "      <td>1048</td>\n",
       "      <td>1048</td>\n",
       "      <td>1048</td>\n",
       "      <td>1048</td>\n",
       "      <td>1048</td>\n",
       "      <td>1048</td>\n",
       "      <td>...</td>\n",
       "      <td>1048</td>\n",
       "      <td>1048</td>\n",
       "      <td>1048</td>\n",
       "      <td>1048</td>\n",
       "      <td>1048</td>\n",
       "      <td>1048</td>\n",
       "      <td>1048</td>\n",
       "      <td>1049</td>\n",
       "      <td>1048</td>\n",
       "      <td>1048</td>\n",
       "    </tr>\n",
       "    <tr>\n",
       "      <th>745196</th>\n",
       "      <td>1048</td>\n",
       "      <td>1048</td>\n",
       "      <td>1048</td>\n",
       "      <td>1048</td>\n",
       "      <td>1048</td>\n",
       "      <td>1048</td>\n",
       "      <td>1048</td>\n",
       "      <td>1048</td>\n",
       "      <td>1048</td>\n",
       "      <td>1048</td>\n",
       "      <td>...</td>\n",
       "      <td>1048</td>\n",
       "      <td>1048</td>\n",
       "      <td>1048</td>\n",
       "      <td>1048</td>\n",
       "      <td>1048</td>\n",
       "      <td>1048</td>\n",
       "      <td>1049</td>\n",
       "      <td>1048</td>\n",
       "      <td>1048</td>\n",
       "      <td>1048</td>\n",
       "    </tr>\n",
       "    <tr>\n",
       "      <th>745197</th>\n",
       "      <td>1048</td>\n",
       "      <td>1048</td>\n",
       "      <td>1048</td>\n",
       "      <td>1048</td>\n",
       "      <td>1048</td>\n",
       "      <td>1048</td>\n",
       "      <td>1048</td>\n",
       "      <td>1048</td>\n",
       "      <td>1048</td>\n",
       "      <td>1048</td>\n",
       "      <td>...</td>\n",
       "      <td>1048</td>\n",
       "      <td>1048</td>\n",
       "      <td>1048</td>\n",
       "      <td>1048</td>\n",
       "      <td>1048</td>\n",
       "      <td>1049</td>\n",
       "      <td>1048</td>\n",
       "      <td>1048</td>\n",
       "      <td>1048</td>\n",
       "      <td>1049</td>\n",
       "    </tr>\n",
       "  </tbody>\n",
       "</table>\n",
       "<p>745198 rows × 21 columns</p>\n",
       "</div>"
      ],
      "text/plain": [
       "          1     2     3     4     5     6     7     8     9     10  ...    12  \\\n",
       "0         -1    -1    -1  1037  1037  1037  1038  1038  1038  1038  ...  1038   \n",
       "1         -1    -1  1037  1037  1037  1038  1038  1038  1038  1038  ...  1037   \n",
       "2         -1  1037  1037  1037  1038  1038  1038  1038  1038  1038  ...  1038   \n",
       "3       1037  1037  1038  1038  1038  1038  1038  1038  1037  1038  ...  1038   \n",
       "4       1037  1038  1038  1038  1038  1038  1038  1037  1038  1037  ...  1038   \n",
       "...      ...   ...   ...   ...   ...   ...   ...   ...   ...   ...  ...   ...   \n",
       "745193  1048  1048  1048  1048  1048  1048  1048  1048  1048  1048  ...  1048   \n",
       "745194  1048  1048  1048  1048  1048  1048  1048  1048  1048  1048  ...  1048   \n",
       "745195  1048  1048  1048  1048  1048  1048  1048  1048  1048  1048  ...  1048   \n",
       "745196  1048  1048  1048  1048  1048  1048  1048  1048  1048  1048  ...  1048   \n",
       "745197  1048  1048  1048  1048  1048  1048  1048  1048  1048  1048  ...  1048   \n",
       "\n",
       "          13    14    15    16    17    18    19    20    21  \n",
       "0       1037  1038  1037  1038  1038  1038  1038  1038  1038  \n",
       "1       1038  1037  1038  1038  1038  1038  1038  1038  1038  \n",
       "2       1037  1038  1038  1038  1038  1038  1038  1038  1038  \n",
       "3       1038  1038  1038  1038  1038  1038  1038  1038  1038  \n",
       "4       1038  1038  1038  1038  1038  1038  1038  1038  1038  \n",
       "...      ...   ...   ...   ...   ...   ...   ...   ...   ...  \n",
       "745193  1048  1048  1048  1048  1048  1048  1048  1048  1049  \n",
       "745194  1048  1048  1048  1048  1048  1048  1048  1049  1048  \n",
       "745195  1048  1048  1048  1048  1048  1048  1049  1048  1048  \n",
       "745196  1048  1048  1048  1048  1048  1049  1048  1048  1048  \n",
       "745197  1048  1048  1048  1048  1049  1048  1048  1048  1049  \n",
       "\n",
       "[745198 rows x 21 columns]"
      ]
     },
     "execution_count": 38,
     "metadata": {},
     "output_type": "execute_result"
    }
   ],
   "source": [
    "x_start_df_train\n",
    "# Cordinate of cars at the start of the time interval"
   ]
  },
  {
   "cell_type": "code",
   "execution_count": 39,
   "metadata": {},
   "outputs": [
    {
     "data": {
      "text/html": [
       "<div>\n",
       "<style scoped>\n",
       "    .dataframe tbody tr th:only-of-type {\n",
       "        vertical-align: middle;\n",
       "    }\n",
       "\n",
       "    .dataframe tbody tr th {\n",
       "        vertical-align: top;\n",
       "    }\n",
       "\n",
       "    .dataframe thead th {\n",
       "        text-align: right;\n",
       "    }\n",
       "</style>\n",
       "<table border=\"1\" class=\"dataframe\">\n",
       "  <thead>\n",
       "    <tr style=\"text-align: right;\">\n",
       "      <th></th>\n",
       "      <th>1</th>\n",
       "      <th>2</th>\n",
       "      <th>3</th>\n",
       "      <th>4</th>\n",
       "      <th>5</th>\n",
       "      <th>6</th>\n",
       "      <th>7</th>\n",
       "      <th>8</th>\n",
       "      <th>9</th>\n",
       "      <th>10</th>\n",
       "      <th>...</th>\n",
       "      <th>12</th>\n",
       "      <th>13</th>\n",
       "      <th>14</th>\n",
       "      <th>15</th>\n",
       "      <th>16</th>\n",
       "      <th>17</th>\n",
       "      <th>18</th>\n",
       "      <th>19</th>\n",
       "      <th>20</th>\n",
       "      <th>21</th>\n",
       "    </tr>\n",
       "  </thead>\n",
       "  <tbody>\n",
       "    <tr>\n",
       "      <th>0</th>\n",
       "      <td>-1</td>\n",
       "      <td>-1</td>\n",
       "      <td>-1</td>\n",
       "      <td>1054</td>\n",
       "      <td>1055</td>\n",
       "      <td>1055</td>\n",
       "      <td>1055</td>\n",
       "      <td>1055</td>\n",
       "      <td>1055</td>\n",
       "      <td>1055</td>\n",
       "      <td>...</td>\n",
       "      <td>1055</td>\n",
       "      <td>1054</td>\n",
       "      <td>1055</td>\n",
       "      <td>1054</td>\n",
       "      <td>1055</td>\n",
       "      <td>1055</td>\n",
       "      <td>1055</td>\n",
       "      <td>1055</td>\n",
       "      <td>1055</td>\n",
       "      <td>1055</td>\n",
       "    </tr>\n",
       "    <tr>\n",
       "      <th>1</th>\n",
       "      <td>1055</td>\n",
       "      <td>1055</td>\n",
       "      <td>1055</td>\n",
       "      <td>1055</td>\n",
       "      <td>1055</td>\n",
       "      <td>1055</td>\n",
       "      <td>1055</td>\n",
       "      <td>1055</td>\n",
       "      <td>1054</td>\n",
       "      <td>1055</td>\n",
       "      <td>...</td>\n",
       "      <td>1055</td>\n",
       "      <td>1055</td>\n",
       "      <td>1055</td>\n",
       "      <td>1055</td>\n",
       "      <td>1055</td>\n",
       "      <td>1055</td>\n",
       "      <td>1055</td>\n",
       "      <td>1055</td>\n",
       "      <td>1055</td>\n",
       "      <td>1055</td>\n",
       "    </tr>\n",
       "    <tr>\n",
       "      <th>2</th>\n",
       "      <td>1055</td>\n",
       "      <td>1055</td>\n",
       "      <td>1055</td>\n",
       "      <td>1055</td>\n",
       "      <td>1055</td>\n",
       "      <td>1055</td>\n",
       "      <td>1054</td>\n",
       "      <td>1055</td>\n",
       "      <td>1054</td>\n",
       "      <td>1055</td>\n",
       "      <td>...</td>\n",
       "      <td>1055</td>\n",
       "      <td>1055</td>\n",
       "      <td>1055</td>\n",
       "      <td>1055</td>\n",
       "      <td>1055</td>\n",
       "      <td>1055</td>\n",
       "      <td>1055</td>\n",
       "      <td>1055</td>\n",
       "      <td>1055</td>\n",
       "      <td>1055</td>\n",
       "    </tr>\n",
       "    <tr>\n",
       "      <th>3</th>\n",
       "      <td>1055</td>\n",
       "      <td>1055</td>\n",
       "      <td>1055</td>\n",
       "      <td>1055</td>\n",
       "      <td>1054</td>\n",
       "      <td>1055</td>\n",
       "      <td>1054</td>\n",
       "      <td>1055</td>\n",
       "      <td>1055</td>\n",
       "      <td>1055</td>\n",
       "      <td>...</td>\n",
       "      <td>1055</td>\n",
       "      <td>1055</td>\n",
       "      <td>1055</td>\n",
       "      <td>1055</td>\n",
       "      <td>1055</td>\n",
       "      <td>1055</td>\n",
       "      <td>1055</td>\n",
       "      <td>1055</td>\n",
       "      <td>1055</td>\n",
       "      <td>1055</td>\n",
       "    </tr>\n",
       "    <tr>\n",
       "      <th>4</th>\n",
       "      <td>1055</td>\n",
       "      <td>1055</td>\n",
       "      <td>1055</td>\n",
       "      <td>1054</td>\n",
       "      <td>1055</td>\n",
       "      <td>1054</td>\n",
       "      <td>1055</td>\n",
       "      <td>1055</td>\n",
       "      <td>1055</td>\n",
       "      <td>1055</td>\n",
       "      <td>...</td>\n",
       "      <td>1055</td>\n",
       "      <td>1055</td>\n",
       "      <td>1055</td>\n",
       "      <td>1055</td>\n",
       "      <td>1055</td>\n",
       "      <td>1055</td>\n",
       "      <td>1055</td>\n",
       "      <td>1055</td>\n",
       "      <td>1055</td>\n",
       "      <td>1055</td>\n",
       "    </tr>\n",
       "    <tr>\n",
       "      <th>...</th>\n",
       "      <td>...</td>\n",
       "      <td>...</td>\n",
       "      <td>...</td>\n",
       "      <td>...</td>\n",
       "      <td>...</td>\n",
       "      <td>...</td>\n",
       "      <td>...</td>\n",
       "      <td>...</td>\n",
       "      <td>...</td>\n",
       "      <td>...</td>\n",
       "      <td>...</td>\n",
       "      <td>...</td>\n",
       "      <td>...</td>\n",
       "      <td>...</td>\n",
       "      <td>...</td>\n",
       "      <td>...</td>\n",
       "      <td>...</td>\n",
       "      <td>...</td>\n",
       "      <td>...</td>\n",
       "      <td>...</td>\n",
       "      <td>...</td>\n",
       "    </tr>\n",
       "    <tr>\n",
       "      <th>745193</th>\n",
       "      <td>1080</td>\n",
       "      <td>1080</td>\n",
       "      <td>1080</td>\n",
       "      <td>1080</td>\n",
       "      <td>1080</td>\n",
       "      <td>1080</td>\n",
       "      <td>1080</td>\n",
       "      <td>1080</td>\n",
       "      <td>1080</td>\n",
       "      <td>1080</td>\n",
       "      <td>...</td>\n",
       "      <td>1080</td>\n",
       "      <td>1080</td>\n",
       "      <td>1080</td>\n",
       "      <td>1080</td>\n",
       "      <td>1080</td>\n",
       "      <td>1080</td>\n",
       "      <td>1080</td>\n",
       "      <td>1080</td>\n",
       "      <td>1080</td>\n",
       "      <td>1080</td>\n",
       "    </tr>\n",
       "    <tr>\n",
       "      <th>745194</th>\n",
       "      <td>1080</td>\n",
       "      <td>1080</td>\n",
       "      <td>1080</td>\n",
       "      <td>1080</td>\n",
       "      <td>1080</td>\n",
       "      <td>1080</td>\n",
       "      <td>1080</td>\n",
       "      <td>1080</td>\n",
       "      <td>1080</td>\n",
       "      <td>1080</td>\n",
       "      <td>...</td>\n",
       "      <td>1080</td>\n",
       "      <td>1080</td>\n",
       "      <td>1080</td>\n",
       "      <td>1080</td>\n",
       "      <td>1080</td>\n",
       "      <td>1080</td>\n",
       "      <td>1080</td>\n",
       "      <td>1080</td>\n",
       "      <td>1080</td>\n",
       "      <td>1080</td>\n",
       "    </tr>\n",
       "    <tr>\n",
       "      <th>745195</th>\n",
       "      <td>1080</td>\n",
       "      <td>1080</td>\n",
       "      <td>1080</td>\n",
       "      <td>1080</td>\n",
       "      <td>1080</td>\n",
       "      <td>1080</td>\n",
       "      <td>1080</td>\n",
       "      <td>1080</td>\n",
       "      <td>1080</td>\n",
       "      <td>1080</td>\n",
       "      <td>...</td>\n",
       "      <td>1080</td>\n",
       "      <td>1080</td>\n",
       "      <td>1080</td>\n",
       "      <td>1080</td>\n",
       "      <td>1080</td>\n",
       "      <td>1080</td>\n",
       "      <td>1080</td>\n",
       "      <td>1080</td>\n",
       "      <td>1080</td>\n",
       "      <td>1080</td>\n",
       "    </tr>\n",
       "    <tr>\n",
       "      <th>745196</th>\n",
       "      <td>1080</td>\n",
       "      <td>1080</td>\n",
       "      <td>1080</td>\n",
       "      <td>1080</td>\n",
       "      <td>1080</td>\n",
       "      <td>1080</td>\n",
       "      <td>1080</td>\n",
       "      <td>1080</td>\n",
       "      <td>1080</td>\n",
       "      <td>1080</td>\n",
       "      <td>...</td>\n",
       "      <td>1080</td>\n",
       "      <td>1080</td>\n",
       "      <td>1080</td>\n",
       "      <td>1080</td>\n",
       "      <td>1080</td>\n",
       "      <td>1080</td>\n",
       "      <td>1080</td>\n",
       "      <td>1080</td>\n",
       "      <td>1080</td>\n",
       "      <td>1080</td>\n",
       "    </tr>\n",
       "    <tr>\n",
       "      <th>745197</th>\n",
       "      <td>1080</td>\n",
       "      <td>1080</td>\n",
       "      <td>1080</td>\n",
       "      <td>1080</td>\n",
       "      <td>1080</td>\n",
       "      <td>1080</td>\n",
       "      <td>1080</td>\n",
       "      <td>1080</td>\n",
       "      <td>1080</td>\n",
       "      <td>1080</td>\n",
       "      <td>...</td>\n",
       "      <td>1080</td>\n",
       "      <td>1080</td>\n",
       "      <td>1080</td>\n",
       "      <td>1080</td>\n",
       "      <td>1080</td>\n",
       "      <td>1080</td>\n",
       "      <td>1080</td>\n",
       "      <td>1080</td>\n",
       "      <td>1080</td>\n",
       "      <td>1080</td>\n",
       "    </tr>\n",
       "  </tbody>\n",
       "</table>\n",
       "<p>745198 rows × 21 columns</p>\n",
       "</div>"
      ],
      "text/plain": [
       "          1     2     3     4     5     6     7     8     9     10  ...    12  \\\n",
       "0         -1    -1    -1  1054  1055  1055  1055  1055  1055  1055  ...  1055   \n",
       "1       1055  1055  1055  1055  1055  1055  1055  1055  1054  1055  ...  1055   \n",
       "2       1055  1055  1055  1055  1055  1055  1054  1055  1054  1055  ...  1055   \n",
       "3       1055  1055  1055  1055  1054  1055  1054  1055  1055  1055  ...  1055   \n",
       "4       1055  1055  1055  1054  1055  1054  1055  1055  1055  1055  ...  1055   \n",
       "...      ...   ...   ...   ...   ...   ...   ...   ...   ...   ...  ...   ...   \n",
       "745193  1080  1080  1080  1080  1080  1080  1080  1080  1080  1080  ...  1080   \n",
       "745194  1080  1080  1080  1080  1080  1080  1080  1080  1080  1080  ...  1080   \n",
       "745195  1080  1080  1080  1080  1080  1080  1080  1080  1080  1080  ...  1080   \n",
       "745196  1080  1080  1080  1080  1080  1080  1080  1080  1080  1080  ...  1080   \n",
       "745197  1080  1080  1080  1080  1080  1080  1080  1080  1080  1080  ...  1080   \n",
       "\n",
       "          13    14    15    16    17    18    19    20    21  \n",
       "0       1054  1055  1054  1055  1055  1055  1055  1055  1055  \n",
       "1       1055  1055  1055  1055  1055  1055  1055  1055  1055  \n",
       "2       1055  1055  1055  1055  1055  1055  1055  1055  1055  \n",
       "3       1055  1055  1055  1055  1055  1055  1055  1055  1055  \n",
       "4       1055  1055  1055  1055  1055  1055  1055  1055  1055  \n",
       "...      ...   ...   ...   ...   ...   ...   ...   ...   ...  \n",
       "745193  1080  1080  1080  1080  1080  1080  1080  1080  1080  \n",
       "745194  1080  1080  1080  1080  1080  1080  1080  1080  1080  \n",
       "745195  1080  1080  1080  1080  1080  1080  1080  1080  1080  \n",
       "745196  1080  1080  1080  1080  1080  1080  1080  1080  1080  \n",
       "745197  1080  1080  1080  1080  1080  1080  1080  1080  1080  \n",
       "\n",
       "[745198 rows x 21 columns]"
      ]
     },
     "execution_count": 39,
     "metadata": {},
     "output_type": "execute_result"
    }
   ],
   "source": [
    "x_end_df_train"
   ]
  },
  {
   "cell_type": "code",
   "execution_count": 40,
   "metadata": {},
   "outputs": [
    {
     "data": {
      "text/html": [
       "<div>\n",
       "<style scoped>\n",
       "    .dataframe tbody tr th:only-of-type {\n",
       "        vertical-align: middle;\n",
       "    }\n",
       "\n",
       "    .dataframe tbody tr th {\n",
       "        vertical-align: top;\n",
       "    }\n",
       "\n",
       "    .dataframe thead th {\n",
       "        text-align: right;\n",
       "    }\n",
       "</style>\n",
       "<table border=\"1\" class=\"dataframe\">\n",
       "  <thead>\n",
       "    <tr style=\"text-align: right;\">\n",
       "      <th></th>\n",
       "      <th>1</th>\n",
       "      <th>2</th>\n",
       "      <th>3</th>\n",
       "      <th>4</th>\n",
       "      <th>5</th>\n",
       "      <th>6</th>\n",
       "      <th>7</th>\n",
       "      <th>8</th>\n",
       "      <th>9</th>\n",
       "      <th>10</th>\n",
       "      <th>...</th>\n",
       "      <th>12</th>\n",
       "      <th>13</th>\n",
       "      <th>14</th>\n",
       "      <th>15</th>\n",
       "      <th>16</th>\n",
       "      <th>17</th>\n",
       "      <th>18</th>\n",
       "      <th>19</th>\n",
       "      <th>20</th>\n",
       "      <th>21</th>\n",
       "    </tr>\n",
       "  </thead>\n",
       "  <tbody>\n",
       "    <tr>\n",
       "      <th>0</th>\n",
       "      <td>345</td>\n",
       "      <td>345</td>\n",
       "      <td>345</td>\n",
       "      <td>345</td>\n",
       "      <td>345</td>\n",
       "      <td>345</td>\n",
       "      <td>345</td>\n",
       "      <td>345</td>\n",
       "      <td>345</td>\n",
       "      <td>346</td>\n",
       "      <td>...</td>\n",
       "      <td>346</td>\n",
       "      <td>345</td>\n",
       "      <td>345</td>\n",
       "      <td>345</td>\n",
       "      <td>345</td>\n",
       "      <td>345</td>\n",
       "      <td>345</td>\n",
       "      <td>345</td>\n",
       "      <td>345</td>\n",
       "      <td>346</td>\n",
       "    </tr>\n",
       "    <tr>\n",
       "      <th>1</th>\n",
       "      <td>345</td>\n",
       "      <td>345</td>\n",
       "      <td>345</td>\n",
       "      <td>345</td>\n",
       "      <td>345</td>\n",
       "      <td>345</td>\n",
       "      <td>346</td>\n",
       "      <td>345</td>\n",
       "      <td>346</td>\n",
       "      <td>345</td>\n",
       "      <td>...</td>\n",
       "      <td>345</td>\n",
       "      <td>345</td>\n",
       "      <td>345</td>\n",
       "      <td>345</td>\n",
       "      <td>345</td>\n",
       "      <td>345</td>\n",
       "      <td>346</td>\n",
       "      <td>346</td>\n",
       "      <td>346</td>\n",
       "      <td>346</td>\n",
       "    </tr>\n",
       "    <tr>\n",
       "      <th>2</th>\n",
       "      <td>345</td>\n",
       "      <td>345</td>\n",
       "      <td>345</td>\n",
       "      <td>345</td>\n",
       "      <td>345</td>\n",
       "      <td>346</td>\n",
       "      <td>345</td>\n",
       "      <td>346</td>\n",
       "      <td>345</td>\n",
       "      <td>345</td>\n",
       "      <td>...</td>\n",
       "      <td>345</td>\n",
       "      <td>345</td>\n",
       "      <td>345</td>\n",
       "      <td>345</td>\n",
       "      <td>345</td>\n",
       "      <td>346</td>\n",
       "      <td>346</td>\n",
       "      <td>346</td>\n",
       "      <td>346</td>\n",
       "      <td>346</td>\n",
       "    </tr>\n",
       "    <tr>\n",
       "      <th>3</th>\n",
       "      <td>345</td>\n",
       "      <td>345</td>\n",
       "      <td>345</td>\n",
       "      <td>345</td>\n",
       "      <td>346</td>\n",
       "      <td>345</td>\n",
       "      <td>346</td>\n",
       "      <td>345</td>\n",
       "      <td>345</td>\n",
       "      <td>345</td>\n",
       "      <td>...</td>\n",
       "      <td>345</td>\n",
       "      <td>345</td>\n",
       "      <td>345</td>\n",
       "      <td>345</td>\n",
       "      <td>346</td>\n",
       "      <td>346</td>\n",
       "      <td>346</td>\n",
       "      <td>346</td>\n",
       "      <td>346</td>\n",
       "      <td>345</td>\n",
       "    </tr>\n",
       "    <tr>\n",
       "      <th>4</th>\n",
       "      <td>345</td>\n",
       "      <td>345</td>\n",
       "      <td>346</td>\n",
       "      <td>345</td>\n",
       "      <td>346</td>\n",
       "      <td>345</td>\n",
       "      <td>345</td>\n",
       "      <td>345</td>\n",
       "      <td>345</td>\n",
       "      <td>345</td>\n",
       "      <td>...</td>\n",
       "      <td>345</td>\n",
       "      <td>345</td>\n",
       "      <td>346</td>\n",
       "      <td>346</td>\n",
       "      <td>346</td>\n",
       "      <td>346</td>\n",
       "      <td>346</td>\n",
       "      <td>345</td>\n",
       "      <td>345</td>\n",
       "      <td>345</td>\n",
       "    </tr>\n",
       "    <tr>\n",
       "      <th>...</th>\n",
       "      <td>...</td>\n",
       "      <td>...</td>\n",
       "      <td>...</td>\n",
       "      <td>...</td>\n",
       "      <td>...</td>\n",
       "      <td>...</td>\n",
       "      <td>...</td>\n",
       "      <td>...</td>\n",
       "      <td>...</td>\n",
       "      <td>...</td>\n",
       "      <td>...</td>\n",
       "      <td>...</td>\n",
       "      <td>...</td>\n",
       "      <td>...</td>\n",
       "      <td>...</td>\n",
       "      <td>...</td>\n",
       "      <td>...</td>\n",
       "      <td>...</td>\n",
       "      <td>...</td>\n",
       "      <td>...</td>\n",
       "      <td>...</td>\n",
       "    </tr>\n",
       "    <tr>\n",
       "      <th>745193</th>\n",
       "      <td>402</td>\n",
       "      <td>402</td>\n",
       "      <td>402</td>\n",
       "      <td>402</td>\n",
       "      <td>402</td>\n",
       "      <td>402</td>\n",
       "      <td>402</td>\n",
       "      <td>402</td>\n",
       "      <td>402</td>\n",
       "      <td>402</td>\n",
       "      <td>...</td>\n",
       "      <td>402</td>\n",
       "      <td>402</td>\n",
       "      <td>402</td>\n",
       "      <td>402</td>\n",
       "      <td>402</td>\n",
       "      <td>402</td>\n",
       "      <td>402</td>\n",
       "      <td>402</td>\n",
       "      <td>402</td>\n",
       "      <td>402</td>\n",
       "    </tr>\n",
       "    <tr>\n",
       "      <th>745194</th>\n",
       "      <td>402</td>\n",
       "      <td>402</td>\n",
       "      <td>402</td>\n",
       "      <td>402</td>\n",
       "      <td>402</td>\n",
       "      <td>402</td>\n",
       "      <td>402</td>\n",
       "      <td>402</td>\n",
       "      <td>402</td>\n",
       "      <td>402</td>\n",
       "      <td>...</td>\n",
       "      <td>402</td>\n",
       "      <td>402</td>\n",
       "      <td>402</td>\n",
       "      <td>402</td>\n",
       "      <td>402</td>\n",
       "      <td>402</td>\n",
       "      <td>402</td>\n",
       "      <td>402</td>\n",
       "      <td>402</td>\n",
       "      <td>402</td>\n",
       "    </tr>\n",
       "    <tr>\n",
       "      <th>745195</th>\n",
       "      <td>402</td>\n",
       "      <td>402</td>\n",
       "      <td>402</td>\n",
       "      <td>402</td>\n",
       "      <td>402</td>\n",
       "      <td>402</td>\n",
       "      <td>402</td>\n",
       "      <td>402</td>\n",
       "      <td>402</td>\n",
       "      <td>402</td>\n",
       "      <td>...</td>\n",
       "      <td>402</td>\n",
       "      <td>402</td>\n",
       "      <td>402</td>\n",
       "      <td>402</td>\n",
       "      <td>402</td>\n",
       "      <td>402</td>\n",
       "      <td>402</td>\n",
       "      <td>402</td>\n",
       "      <td>402</td>\n",
       "      <td>402</td>\n",
       "    </tr>\n",
       "    <tr>\n",
       "      <th>745196</th>\n",
       "      <td>402</td>\n",
       "      <td>402</td>\n",
       "      <td>402</td>\n",
       "      <td>402</td>\n",
       "      <td>402</td>\n",
       "      <td>402</td>\n",
       "      <td>402</td>\n",
       "      <td>402</td>\n",
       "      <td>402</td>\n",
       "      <td>402</td>\n",
       "      <td>...</td>\n",
       "      <td>402</td>\n",
       "      <td>402</td>\n",
       "      <td>402</td>\n",
       "      <td>402</td>\n",
       "      <td>402</td>\n",
       "      <td>402</td>\n",
       "      <td>402</td>\n",
       "      <td>402</td>\n",
       "      <td>402</td>\n",
       "      <td>402</td>\n",
       "    </tr>\n",
       "    <tr>\n",
       "      <th>745197</th>\n",
       "      <td>402</td>\n",
       "      <td>402</td>\n",
       "      <td>402</td>\n",
       "      <td>402</td>\n",
       "      <td>402</td>\n",
       "      <td>402</td>\n",
       "      <td>402</td>\n",
       "      <td>402</td>\n",
       "      <td>402</td>\n",
       "      <td>402</td>\n",
       "      <td>...</td>\n",
       "      <td>402</td>\n",
       "      <td>402</td>\n",
       "      <td>402</td>\n",
       "      <td>402</td>\n",
       "      <td>402</td>\n",
       "      <td>402</td>\n",
       "      <td>402</td>\n",
       "      <td>402</td>\n",
       "      <td>402</td>\n",
       "      <td>402</td>\n",
       "    </tr>\n",
       "  </tbody>\n",
       "</table>\n",
       "<p>745198 rows × 21 columns</p>\n",
       "</div>"
      ],
      "text/plain": [
       "         1    2    3    4    5    6    7    8    9    10  ...   12   13   14  \\\n",
       "0       345  345  345  345  345  345  345  345  345  346  ...  346  345  345   \n",
       "1       345  345  345  345  345  345  346  345  346  345  ...  345  345  345   \n",
       "2       345  345  345  345  345  346  345  346  345  345  ...  345  345  345   \n",
       "3       345  345  345  345  346  345  346  345  345  345  ...  345  345  345   \n",
       "4       345  345  346  345  346  345  345  345  345  345  ...  345  345  346   \n",
       "...     ...  ...  ...  ...  ...  ...  ...  ...  ...  ...  ...  ...  ...  ...   \n",
       "745193  402  402  402  402  402  402  402  402  402  402  ...  402  402  402   \n",
       "745194  402  402  402  402  402  402  402  402  402  402  ...  402  402  402   \n",
       "745195  402  402  402  402  402  402  402  402  402  402  ...  402  402  402   \n",
       "745196  402  402  402  402  402  402  402  402  402  402  ...  402  402  402   \n",
       "745197  402  402  402  402  402  402  402  402  402  402  ...  402  402  402   \n",
       "\n",
       "         15   16   17   18   19   20   21  \n",
       "0       345  345  345  345  345  345  346  \n",
       "1       345  345  345  346  346  346  346  \n",
       "2       345  345  346  346  346  346  346  \n",
       "3       345  346  346  346  346  346  345  \n",
       "4       346  346  346  346  345  345  345  \n",
       "...     ...  ...  ...  ...  ...  ...  ...  \n",
       "745193  402  402  402  402  402  402  402  \n",
       "745194  402  402  402  402  402  402  402  \n",
       "745195  402  402  402  402  402  402  402  \n",
       "745196  402  402  402  402  402  402  402  \n",
       "745197  402  402  402  402  402  402  402  \n",
       "\n",
       "[745198 rows x 21 columns]"
      ]
     },
     "execution_count": 40,
     "metadata": {},
     "output_type": "execute_result"
    }
   ],
   "source": [
    "y_start_df_train"
   ]
  },
  {
   "cell_type": "code",
   "execution_count": 41,
   "metadata": {},
   "outputs": [
    {
     "data": {
      "text/html": [
       "<div>\n",
       "<style scoped>\n",
       "    .dataframe tbody tr th:only-of-type {\n",
       "        vertical-align: middle;\n",
       "    }\n",
       "\n",
       "    .dataframe tbody tr th {\n",
       "        vertical-align: top;\n",
       "    }\n",
       "\n",
       "    .dataframe thead th {\n",
       "        text-align: right;\n",
       "    }\n",
       "</style>\n",
       "<table border=\"1\" class=\"dataframe\">\n",
       "  <thead>\n",
       "    <tr style=\"text-align: right;\">\n",
       "      <th></th>\n",
       "      <th>1</th>\n",
       "      <th>2</th>\n",
       "      <th>3</th>\n",
       "      <th>4</th>\n",
       "      <th>5</th>\n",
       "      <th>6</th>\n",
       "      <th>7</th>\n",
       "      <th>8</th>\n",
       "      <th>9</th>\n",
       "      <th>10</th>\n",
       "      <th>...</th>\n",
       "      <th>12</th>\n",
       "      <th>13</th>\n",
       "      <th>14</th>\n",
       "      <th>15</th>\n",
       "      <th>16</th>\n",
       "      <th>17</th>\n",
       "      <th>18</th>\n",
       "      <th>19</th>\n",
       "      <th>20</th>\n",
       "      <th>21</th>\n",
       "    </tr>\n",
       "  </thead>\n",
       "  <tbody>\n",
       "    <tr>\n",
       "      <th>0</th>\n",
       "      <td>-1</td>\n",
       "      <td>-1</td>\n",
       "      <td>394</td>\n",
       "      <td>394</td>\n",
       "      <td>394</td>\n",
       "      <td>394</td>\n",
       "      <td>394</td>\n",
       "      <td>394</td>\n",
       "      <td>394</td>\n",
       "      <td>394</td>\n",
       "      <td>...</td>\n",
       "      <td>395</td>\n",
       "      <td>395</td>\n",
       "      <td>395</td>\n",
       "      <td>395</td>\n",
       "      <td>395</td>\n",
       "      <td>395</td>\n",
       "      <td>395</td>\n",
       "      <td>395</td>\n",
       "      <td>395</td>\n",
       "      <td>395</td>\n",
       "    </tr>\n",
       "    <tr>\n",
       "      <th>1</th>\n",
       "      <td>-1</td>\n",
       "      <td>394</td>\n",
       "      <td>394</td>\n",
       "      <td>394</td>\n",
       "      <td>394</td>\n",
       "      <td>394</td>\n",
       "      <td>394</td>\n",
       "      <td>394</td>\n",
       "      <td>394</td>\n",
       "      <td>395</td>\n",
       "      <td>...</td>\n",
       "      <td>395</td>\n",
       "      <td>395</td>\n",
       "      <td>395</td>\n",
       "      <td>395</td>\n",
       "      <td>395</td>\n",
       "      <td>395</td>\n",
       "      <td>395</td>\n",
       "      <td>395</td>\n",
       "      <td>395</td>\n",
       "      <td>395</td>\n",
       "    </tr>\n",
       "    <tr>\n",
       "      <th>2</th>\n",
       "      <td>394</td>\n",
       "      <td>394</td>\n",
       "      <td>394</td>\n",
       "      <td>394</td>\n",
       "      <td>394</td>\n",
       "      <td>394</td>\n",
       "      <td>394</td>\n",
       "      <td>394</td>\n",
       "      <td>395</td>\n",
       "      <td>395</td>\n",
       "      <td>...</td>\n",
       "      <td>395</td>\n",
       "      <td>395</td>\n",
       "      <td>395</td>\n",
       "      <td>395</td>\n",
       "      <td>395</td>\n",
       "      <td>395</td>\n",
       "      <td>395</td>\n",
       "      <td>395</td>\n",
       "      <td>395</td>\n",
       "      <td>394</td>\n",
       "    </tr>\n",
       "    <tr>\n",
       "      <th>3</th>\n",
       "      <td>394</td>\n",
       "      <td>394</td>\n",
       "      <td>394</td>\n",
       "      <td>394</td>\n",
       "      <td>394</td>\n",
       "      <td>394</td>\n",
       "      <td>395</td>\n",
       "      <td>395</td>\n",
       "      <td>395</td>\n",
       "      <td>395</td>\n",
       "      <td>...</td>\n",
       "      <td>395</td>\n",
       "      <td>395</td>\n",
       "      <td>395</td>\n",
       "      <td>395</td>\n",
       "      <td>395</td>\n",
       "      <td>395</td>\n",
       "      <td>395</td>\n",
       "      <td>394</td>\n",
       "      <td>394</td>\n",
       "      <td>394</td>\n",
       "    </tr>\n",
       "    <tr>\n",
       "      <th>4</th>\n",
       "      <td>394</td>\n",
       "      <td>394</td>\n",
       "      <td>394</td>\n",
       "      <td>394</td>\n",
       "      <td>394</td>\n",
       "      <td>395</td>\n",
       "      <td>395</td>\n",
       "      <td>395</td>\n",
       "      <td>395</td>\n",
       "      <td>395</td>\n",
       "      <td>...</td>\n",
       "      <td>395</td>\n",
       "      <td>395</td>\n",
       "      <td>395</td>\n",
       "      <td>395</td>\n",
       "      <td>395</td>\n",
       "      <td>395</td>\n",
       "      <td>394</td>\n",
       "      <td>394</td>\n",
       "      <td>394</td>\n",
       "      <td>394</td>\n",
       "    </tr>\n",
       "    <tr>\n",
       "      <th>...</th>\n",
       "      <td>...</td>\n",
       "      <td>...</td>\n",
       "      <td>...</td>\n",
       "      <td>...</td>\n",
       "      <td>...</td>\n",
       "      <td>...</td>\n",
       "      <td>...</td>\n",
       "      <td>...</td>\n",
       "      <td>...</td>\n",
       "      <td>...</td>\n",
       "      <td>...</td>\n",
       "      <td>...</td>\n",
       "      <td>...</td>\n",
       "      <td>...</td>\n",
       "      <td>...</td>\n",
       "      <td>...</td>\n",
       "      <td>...</td>\n",
       "      <td>...</td>\n",
       "      <td>...</td>\n",
       "      <td>...</td>\n",
       "      <td>...</td>\n",
       "    </tr>\n",
       "    <tr>\n",
       "      <th>745193</th>\n",
       "      <td>461</td>\n",
       "      <td>461</td>\n",
       "      <td>461</td>\n",
       "      <td>461</td>\n",
       "      <td>461</td>\n",
       "      <td>461</td>\n",
       "      <td>461</td>\n",
       "      <td>461</td>\n",
       "      <td>461</td>\n",
       "      <td>461</td>\n",
       "      <td>...</td>\n",
       "      <td>461</td>\n",
       "      <td>461</td>\n",
       "      <td>461</td>\n",
       "      <td>461</td>\n",
       "      <td>461</td>\n",
       "      <td>461</td>\n",
       "      <td>461</td>\n",
       "      <td>461</td>\n",
       "      <td>461</td>\n",
       "      <td>461</td>\n",
       "    </tr>\n",
       "    <tr>\n",
       "      <th>745194</th>\n",
       "      <td>461</td>\n",
       "      <td>461</td>\n",
       "      <td>461</td>\n",
       "      <td>461</td>\n",
       "      <td>461</td>\n",
       "      <td>461</td>\n",
       "      <td>461</td>\n",
       "      <td>461</td>\n",
       "      <td>461</td>\n",
       "      <td>461</td>\n",
       "      <td>...</td>\n",
       "      <td>461</td>\n",
       "      <td>461</td>\n",
       "      <td>461</td>\n",
       "      <td>461</td>\n",
       "      <td>461</td>\n",
       "      <td>461</td>\n",
       "      <td>461</td>\n",
       "      <td>461</td>\n",
       "      <td>461</td>\n",
       "      <td>461</td>\n",
       "    </tr>\n",
       "    <tr>\n",
       "      <th>745195</th>\n",
       "      <td>461</td>\n",
       "      <td>461</td>\n",
       "      <td>461</td>\n",
       "      <td>461</td>\n",
       "      <td>461</td>\n",
       "      <td>461</td>\n",
       "      <td>461</td>\n",
       "      <td>461</td>\n",
       "      <td>461</td>\n",
       "      <td>461</td>\n",
       "      <td>...</td>\n",
       "      <td>461</td>\n",
       "      <td>461</td>\n",
       "      <td>461</td>\n",
       "      <td>461</td>\n",
       "      <td>461</td>\n",
       "      <td>461</td>\n",
       "      <td>461</td>\n",
       "      <td>461</td>\n",
       "      <td>461</td>\n",
       "      <td>461</td>\n",
       "    </tr>\n",
       "    <tr>\n",
       "      <th>745196</th>\n",
       "      <td>461</td>\n",
       "      <td>461</td>\n",
       "      <td>461</td>\n",
       "      <td>461</td>\n",
       "      <td>461</td>\n",
       "      <td>461</td>\n",
       "      <td>461</td>\n",
       "      <td>461</td>\n",
       "      <td>461</td>\n",
       "      <td>461</td>\n",
       "      <td>...</td>\n",
       "      <td>461</td>\n",
       "      <td>461</td>\n",
       "      <td>461</td>\n",
       "      <td>461</td>\n",
       "      <td>461</td>\n",
       "      <td>461</td>\n",
       "      <td>461</td>\n",
       "      <td>461</td>\n",
       "      <td>461</td>\n",
       "      <td>461</td>\n",
       "    </tr>\n",
       "    <tr>\n",
       "      <th>745197</th>\n",
       "      <td>461</td>\n",
       "      <td>461</td>\n",
       "      <td>461</td>\n",
       "      <td>461</td>\n",
       "      <td>461</td>\n",
       "      <td>461</td>\n",
       "      <td>461</td>\n",
       "      <td>461</td>\n",
       "      <td>461</td>\n",
       "      <td>461</td>\n",
       "      <td>...</td>\n",
       "      <td>461</td>\n",
       "      <td>461</td>\n",
       "      <td>461</td>\n",
       "      <td>461</td>\n",
       "      <td>461</td>\n",
       "      <td>461</td>\n",
       "      <td>461</td>\n",
       "      <td>461</td>\n",
       "      <td>461</td>\n",
       "      <td>461</td>\n",
       "    </tr>\n",
       "  </tbody>\n",
       "</table>\n",
       "<p>745198 rows × 21 columns</p>\n",
       "</div>"
      ],
      "text/plain": [
       "         1    2    3    4    5    6    7    8    9    10  ...   12   13   14  \\\n",
       "0        -1   -1  394  394  394  394  394  394  394  394  ...  395  395  395   \n",
       "1        -1  394  394  394  394  394  394  394  394  395  ...  395  395  395   \n",
       "2       394  394  394  394  394  394  394  394  395  395  ...  395  395  395   \n",
       "3       394  394  394  394  394  394  395  395  395  395  ...  395  395  395   \n",
       "4       394  394  394  394  394  395  395  395  395  395  ...  395  395  395   \n",
       "...     ...  ...  ...  ...  ...  ...  ...  ...  ...  ...  ...  ...  ...  ...   \n",
       "745193  461  461  461  461  461  461  461  461  461  461  ...  461  461  461   \n",
       "745194  461  461  461  461  461  461  461  461  461  461  ...  461  461  461   \n",
       "745195  461  461  461  461  461  461  461  461  461  461  ...  461  461  461   \n",
       "745196  461  461  461  461  461  461  461  461  461  461  ...  461  461  461   \n",
       "745197  461  461  461  461  461  461  461  461  461  461  ...  461  461  461   \n",
       "\n",
       "         15   16   17   18   19   20   21  \n",
       "0       395  395  395  395  395  395  395  \n",
       "1       395  395  395  395  395  395  395  \n",
       "2       395  395  395  395  395  395  394  \n",
       "3       395  395  395  395  394  394  394  \n",
       "4       395  395  395  394  394  394  394  \n",
       "...     ...  ...  ...  ...  ...  ...  ...  \n",
       "745193  461  461  461  461  461  461  461  \n",
       "745194  461  461  461  461  461  461  461  \n",
       "745195  461  461  461  461  461  461  461  \n",
       "745196  461  461  461  461  461  461  461  \n",
       "745197  461  461  461  461  461  461  461  \n",
       "\n",
       "[745198 rows x 21 columns]"
      ]
     },
     "execution_count": 41,
     "metadata": {},
     "output_type": "execute_result"
    }
   ],
   "source": [
    "y_end_df_train"
   ]
  },
  {
   "cell_type": "code",
   "execution_count": 42,
   "metadata": {},
   "outputs": [],
   "source": [
    "# Deal with missing values\n",
    "# pooling left\n",
    "# pooling right\n",
    "def deal_with_interuption(table_name):\n",
    "  \"\"\"\n",
    "  Use queue to store -1 index until we find a non -1 index\n",
    "  we will fill the -1 index with the non -1 index\n",
    "  And we continue the process until we reach the end of the table\n",
    "  \"\"\"\n",
    "\n",
    "  ori_table = table_name.to_numpy()\n",
    "  table = ori_table.reshape((ori_table.shape[0]*ori_table.shape[1],))\n",
    "\n",
    "  queue = []\n",
    "\n",
    "  for idx, index in enumerate(table):\n",
    "    if index == -1:\n",
    "      queue.append(idx)\n",
    "\n",
    "  while len(queue) != 0:\n",
    "    top = queue[0]\n",
    "    queue.pop(0)\n",
    "\n",
    "    if top == len(table) - 1:\n",
    "      table[top] = table[top - 1]\n",
    "      if table[top] == -1:\n",
    "        queue.append(top)\n",
    "      continue\n",
    "\n",
    "    if table[top + 1] > -1:\n",
    "      table[top] = table[top + 1]\n",
    "    else:\n",
    "      if top != 0:\n",
    "        table[top] = table[top - 1]\n",
    "\n",
    "\n",
    "    if table[top] == -1:\n",
    "      queue.append(top)\n",
    "\n",
    "  table = table.reshape((ori_table.shape[0], ori_table.shape[1]))\n",
    "  return table"
   ]
  },
  {
   "cell_type": "code",
   "execution_count": 43,
   "metadata": {},
   "outputs": [],
   "source": [
    "# fill -1\n",
    "x_start_df_train = deal_with_interuption(x_start_df_train)\n",
    "x_end_df_train = deal_with_interuption(x_end_df_train)\n",
    "y_start_df_train = deal_with_interuption(y_start_df_train)\n",
    "y_end_df_train = deal_with_interuption(y_end_df_train)\n"
   ]
  },
  {
   "cell_type": "code",
   "execution_count": 44,
   "metadata": {},
   "outputs": [
    {
     "data": {
      "text/plain": [
       "array([[1037, 1037, 1037, ..., 1038, 1038, 1038],\n",
       "       [1038, 1037, 1037, ..., 1038, 1038, 1038],\n",
       "       [1037, 1037, 1037, ..., 1038, 1038, 1038],\n",
       "       ...,\n",
       "       [1048, 1048, 1048, ..., 1049, 1048, 1048],\n",
       "       [1048, 1048, 1048, ..., 1048, 1048, 1048],\n",
       "       [1048, 1048, 1048, ..., 1048, 1048, 1049]], dtype=int64)"
      ]
     },
     "execution_count": 44,
     "metadata": {},
     "output_type": "execute_result"
    }
   ],
   "source": [
    "x_start_df_train"
   ]
  },
  {
   "cell_type": "code",
   "execution_count": 45,
   "metadata": {},
   "outputs": [],
   "source": [
    "x_center_df_train = pd.read_csv('data/train/my_x_center_train_20.csv', names = list(range(1, 22, 1))).to_numpy()\n",
    "y_center_df_train = pd.read_csv('data/train/my_y_center_train_20.csv', names = list(range(1, 22, 1))).to_numpy()"
   ]
  },
  {
   "cell_type": "markdown",
   "metadata": {},
   "source": [
    "## Build model\n",
    "### NN"
   ]
  },
  {
   "cell_type": "code",
   "execution_count": 46,
   "metadata": {},
   "outputs": [],
   "source": [
    "# instead use class like pytorch we can use function to create the model\n",
    "def simple_NN(input_shape = (20, 1)):\n",
    "    #input layer\n",
    "    input = keras.Input(shape=input_shape)\n",
    "    #20 frames, 1 feature (the cordinate of the car)\n",
    "    #flatten the input\n",
    "\n",
    "    #flatten the input\n",
    "    x = Dense(16, activation='relu')(input) \n",
    "    # nn.Linrear(numper of node input, number of node output)\n",
    "    # Dense(number of node output, activation function)\n",
    "\n",
    "    #drop out to avoid overfitting\n",
    "    x = Dropout(0.2)(x)\n",
    "    #Dropout(percentage of node to drop)\n",
    "\n",
    "    x = Dense(8, activation='relu')(x)\n",
    "    x = Dropout(0.2)(x)\n",
    "    output = Dense(1, activation = \"linear\")(x)\n",
    "    model = Model(inputs=input, outputs=output)\n",
    "    model.summary()\n",
    "\n",
    "    return model\n"
   ]
  },
  {
   "cell_type": "markdown",
   "metadata": {},
   "source": [
    "## Vanilla_LSTM"
   ]
  },
  {
   "cell_type": "code",
   "execution_count": 47,
   "metadata": {},
   "outputs": [],
   "source": [
    "# instead use class like pytorch we can use function to create the model\n",
    "def simple_vanilla_LSTM(input_shape = (20, 1)):\n",
    "    #input layer\n",
    "    input = keras.Input(shape=input_shape)\n",
    "    #20 frames, 1 feature (the cordinate of the car)\n",
    "    #flatten the input\n",
    "\n",
    "    x = LSTM(8)(input)\n",
    "    #flatten the input\n",
    "    x = Dense(4, activation='relu')(x) \n",
    "    # nn.Linrear(numper of node input, number of node output)\n",
    "    # Dense(number of node output, activation function)\n",
    "\n",
    "    #drop out to avoid overfitting\n",
    "    x = Dropout(0.35)(x)\n",
    "    #Dropout(percentage of node to drop)\n",
    "    output = Dense(1, activation = \"linear\")(x)\n",
    "    model = Model(inputs = input, outputs = output)\n",
    "    model.summary()\n",
    "\n",
    "    return model\n"
   ]
  },
  {
   "cell_type": "code",
   "execution_count": 48,
   "metadata": {},
   "outputs": [
    {
     "data": {
      "text/html": [
       "<pre style=\"white-space:pre;overflow-x:auto;line-height:normal;font-family:Menlo,'DejaVu Sans Mono',consolas,'Courier New',monospace\"><span style=\"font-weight: bold\">Model: \"functional_3\"</span>\n",
       "</pre>\n"
      ],
      "text/plain": [
       "\u001b[1mModel: \"functional_3\"\u001b[0m\n"
      ]
     },
     "metadata": {},
     "output_type": "display_data"
    },
    {
     "data": {
      "text/html": [
       "<pre style=\"white-space:pre;overflow-x:auto;line-height:normal;font-family:Menlo,'DejaVu Sans Mono',consolas,'Courier New',monospace\">┏━━━━━━━━━━━━━━━━━━━━━━━━━━━━━━━━━┳━━━━━━━━━━━━━━━━━━━━━━━━┳━━━━━━━━━━━━━━━┓\n",
       "┃<span style=\"font-weight: bold\"> Layer (type)                    </span>┃<span style=\"font-weight: bold\"> Output Shape           </span>┃<span style=\"font-weight: bold\">       Param # </span>┃\n",
       "┡━━━━━━━━━━━━━━━━━━━━━━━━━━━━━━━━━╇━━━━━━━━━━━━━━━━━━━━━━━━╇━━━━━━━━━━━━━━━┩\n",
       "│ input_layer_3 (<span style=\"color: #0087ff; text-decoration-color: #0087ff\">InputLayer</span>)      │ (<span style=\"color: #00d7ff; text-decoration-color: #00d7ff\">None</span>, <span style=\"color: #00af00; text-decoration-color: #00af00\">20</span>, <span style=\"color: #00af00; text-decoration-color: #00af00\">1</span>)          │             <span style=\"color: #00af00; text-decoration-color: #00af00\">0</span> │\n",
       "├─────────────────────────────────┼────────────────────────┼───────────────┤\n",
       "│ lstm_2 (<span style=\"color: #0087ff; text-decoration-color: #0087ff\">LSTM</span>)                   │ (<span style=\"color: #00d7ff; text-decoration-color: #00d7ff\">None</span>, <span style=\"color: #00af00; text-decoration-color: #00af00\">8</span>)              │           <span style=\"color: #00af00; text-decoration-color: #00af00\">320</span> │\n",
       "├─────────────────────────────────┼────────────────────────┼───────────────┤\n",
       "│ dense_7 (<span style=\"color: #0087ff; text-decoration-color: #0087ff\">Dense</span>)                 │ (<span style=\"color: #00d7ff; text-decoration-color: #00d7ff\">None</span>, <span style=\"color: #00af00; text-decoration-color: #00af00\">4</span>)              │            <span style=\"color: #00af00; text-decoration-color: #00af00\">36</span> │\n",
       "├─────────────────────────────────┼────────────────────────┼───────────────┤\n",
       "│ dropout_4 (<span style=\"color: #0087ff; text-decoration-color: #0087ff\">Dropout</span>)             │ (<span style=\"color: #00d7ff; text-decoration-color: #00d7ff\">None</span>, <span style=\"color: #00af00; text-decoration-color: #00af00\">4</span>)              │             <span style=\"color: #00af00; text-decoration-color: #00af00\">0</span> │\n",
       "├─────────────────────────────────┼────────────────────────┼───────────────┤\n",
       "│ dense_8 (<span style=\"color: #0087ff; text-decoration-color: #0087ff\">Dense</span>)                 │ (<span style=\"color: #00d7ff; text-decoration-color: #00d7ff\">None</span>, <span style=\"color: #00af00; text-decoration-color: #00af00\">1</span>)              │             <span style=\"color: #00af00; text-decoration-color: #00af00\">5</span> │\n",
       "└─────────────────────────────────┴────────────────────────┴───────────────┘\n",
       "</pre>\n"
      ],
      "text/plain": [
       "┏━━━━━━━━━━━━━━━━━━━━━━━━━━━━━━━━━┳━━━━━━━━━━━━━━━━━━━━━━━━┳━━━━━━━━━━━━━━━┓\n",
       "┃\u001b[1m \u001b[0m\u001b[1mLayer (type)                   \u001b[0m\u001b[1m \u001b[0m┃\u001b[1m \u001b[0m\u001b[1mOutput Shape          \u001b[0m\u001b[1m \u001b[0m┃\u001b[1m \u001b[0m\u001b[1m      Param #\u001b[0m\u001b[1m \u001b[0m┃\n",
       "┡━━━━━━━━━━━━━━━━━━━━━━━━━━━━━━━━━╇━━━━━━━━━━━━━━━━━━━━━━━━╇━━━━━━━━━━━━━━━┩\n",
       "│ input_layer_3 (\u001b[38;5;33mInputLayer\u001b[0m)      │ (\u001b[38;5;45mNone\u001b[0m, \u001b[38;5;34m20\u001b[0m, \u001b[38;5;34m1\u001b[0m)          │             \u001b[38;5;34m0\u001b[0m │\n",
       "├─────────────────────────────────┼────────────────────────┼───────────────┤\n",
       "│ lstm_2 (\u001b[38;5;33mLSTM\u001b[0m)                   │ (\u001b[38;5;45mNone\u001b[0m, \u001b[38;5;34m8\u001b[0m)              │           \u001b[38;5;34m320\u001b[0m │\n",
       "├─────────────────────────────────┼────────────────────────┼───────────────┤\n",
       "│ dense_7 (\u001b[38;5;33mDense\u001b[0m)                 │ (\u001b[38;5;45mNone\u001b[0m, \u001b[38;5;34m4\u001b[0m)              │            \u001b[38;5;34m36\u001b[0m │\n",
       "├─────────────────────────────────┼────────────────────────┼───────────────┤\n",
       "│ dropout_4 (\u001b[38;5;33mDropout\u001b[0m)             │ (\u001b[38;5;45mNone\u001b[0m, \u001b[38;5;34m4\u001b[0m)              │             \u001b[38;5;34m0\u001b[0m │\n",
       "├─────────────────────────────────┼────────────────────────┼───────────────┤\n",
       "│ dense_8 (\u001b[38;5;33mDense\u001b[0m)                 │ (\u001b[38;5;45mNone\u001b[0m, \u001b[38;5;34m1\u001b[0m)              │             \u001b[38;5;34m5\u001b[0m │\n",
       "└─────────────────────────────────┴────────────────────────┴───────────────┘\n"
      ]
     },
     "metadata": {},
     "output_type": "display_data"
    },
    {
     "data": {
      "text/html": [
       "<pre style=\"white-space:pre;overflow-x:auto;line-height:normal;font-family:Menlo,'DejaVu Sans Mono',consolas,'Courier New',monospace\"><span style=\"font-weight: bold\"> Total params: </span><span style=\"color: #00af00; text-decoration-color: #00af00\">361</span> (1.41 KB)\n",
       "</pre>\n"
      ],
      "text/plain": [
       "\u001b[1m Total params: \u001b[0m\u001b[38;5;34m361\u001b[0m (1.41 KB)\n"
      ]
     },
     "metadata": {},
     "output_type": "display_data"
    },
    {
     "data": {
      "text/html": [
       "<pre style=\"white-space:pre;overflow-x:auto;line-height:normal;font-family:Menlo,'DejaVu Sans Mono',consolas,'Courier New',monospace\"><span style=\"font-weight: bold\"> Trainable params: </span><span style=\"color: #00af00; text-decoration-color: #00af00\">361</span> (1.41 KB)\n",
       "</pre>\n"
      ],
      "text/plain": [
       "\u001b[1m Trainable params: \u001b[0m\u001b[38;5;34m361\u001b[0m (1.41 KB)\n"
      ]
     },
     "metadata": {},
     "output_type": "display_data"
    },
    {
     "data": {
      "text/html": [
       "<pre style=\"white-space:pre;overflow-x:auto;line-height:normal;font-family:Menlo,'DejaVu Sans Mono',consolas,'Courier New',monospace\"><span style=\"font-weight: bold\"> Non-trainable params: </span><span style=\"color: #00af00; text-decoration-color: #00af00\">0</span> (0.00 B)\n",
       "</pre>\n"
      ],
      "text/plain": [
       "\u001b[1m Non-trainable params: \u001b[0m\u001b[38;5;34m0\u001b[0m (0.00 B)\n"
      ]
     },
     "metadata": {},
     "output_type": "display_data"
    }
   ],
   "source": [
    "vanilla = simple_vanilla_LSTM()"
   ]
  },
  {
   "cell_type": "code",
   "execution_count": 49,
   "metadata": {},
   "outputs": [
    {
     "data": {
      "text/html": [
       "<pre style=\"white-space:pre;overflow-x:auto;line-height:normal;font-family:Menlo,'DejaVu Sans Mono',consolas,'Courier New',monospace\"><span style=\"font-weight: bold\">Model: \"functional_4\"</span>\n",
       "</pre>\n"
      ],
      "text/plain": [
       "\u001b[1mModel: \"functional_4\"\u001b[0m\n"
      ]
     },
     "metadata": {},
     "output_type": "display_data"
    },
    {
     "data": {
      "text/html": [
       "<pre style=\"white-space:pre;overflow-x:auto;line-height:normal;font-family:Menlo,'DejaVu Sans Mono',consolas,'Courier New',monospace\">┏━━━━━━━━━━━━━━━━━━━━━━━━━━━━━━━━━┳━━━━━━━━━━━━━━━━━━━━━━━━┳━━━━━━━━━━━━━━━┓\n",
       "┃<span style=\"font-weight: bold\"> Layer (type)                    </span>┃<span style=\"font-weight: bold\"> Output Shape           </span>┃<span style=\"font-weight: bold\">       Param # </span>┃\n",
       "┡━━━━━━━━━━━━━━━━━━━━━━━━━━━━━━━━━╇━━━━━━━━━━━━━━━━━━━━━━━━╇━━━━━━━━━━━━━━━┩\n",
       "│ input_layer_4 (<span style=\"color: #0087ff; text-decoration-color: #0087ff\">InputLayer</span>)      │ (<span style=\"color: #00d7ff; text-decoration-color: #00d7ff\">None</span>, <span style=\"color: #00af00; text-decoration-color: #00af00\">20</span>, <span style=\"color: #00af00; text-decoration-color: #00af00\">1</span>)          │             <span style=\"color: #00af00; text-decoration-color: #00af00\">0</span> │\n",
       "├─────────────────────────────────┼────────────────────────┼───────────────┤\n",
       "│ dense_9 (<span style=\"color: #0087ff; text-decoration-color: #0087ff\">Dense</span>)                 │ (<span style=\"color: #00d7ff; text-decoration-color: #00d7ff\">None</span>, <span style=\"color: #00af00; text-decoration-color: #00af00\">20</span>, <span style=\"color: #00af00; text-decoration-color: #00af00\">16</span>)         │            <span style=\"color: #00af00; text-decoration-color: #00af00\">32</span> │\n",
       "├─────────────────────────────────┼────────────────────────┼───────────────┤\n",
       "│ dropout_5 (<span style=\"color: #0087ff; text-decoration-color: #0087ff\">Dropout</span>)             │ (<span style=\"color: #00d7ff; text-decoration-color: #00d7ff\">None</span>, <span style=\"color: #00af00; text-decoration-color: #00af00\">20</span>, <span style=\"color: #00af00; text-decoration-color: #00af00\">16</span>)         │             <span style=\"color: #00af00; text-decoration-color: #00af00\">0</span> │\n",
       "├─────────────────────────────────┼────────────────────────┼───────────────┤\n",
       "│ dense_10 (<span style=\"color: #0087ff; text-decoration-color: #0087ff\">Dense</span>)                │ (<span style=\"color: #00d7ff; text-decoration-color: #00d7ff\">None</span>, <span style=\"color: #00af00; text-decoration-color: #00af00\">20</span>, <span style=\"color: #00af00; text-decoration-color: #00af00\">8</span>)          │           <span style=\"color: #00af00; text-decoration-color: #00af00\">136</span> │\n",
       "├─────────────────────────────────┼────────────────────────┼───────────────┤\n",
       "│ dropout_6 (<span style=\"color: #0087ff; text-decoration-color: #0087ff\">Dropout</span>)             │ (<span style=\"color: #00d7ff; text-decoration-color: #00d7ff\">None</span>, <span style=\"color: #00af00; text-decoration-color: #00af00\">20</span>, <span style=\"color: #00af00; text-decoration-color: #00af00\">8</span>)          │             <span style=\"color: #00af00; text-decoration-color: #00af00\">0</span> │\n",
       "├─────────────────────────────────┼────────────────────────┼───────────────┤\n",
       "│ dense_11 (<span style=\"color: #0087ff; text-decoration-color: #0087ff\">Dense</span>)                │ (<span style=\"color: #00d7ff; text-decoration-color: #00d7ff\">None</span>, <span style=\"color: #00af00; text-decoration-color: #00af00\">20</span>, <span style=\"color: #00af00; text-decoration-color: #00af00\">1</span>)          │             <span style=\"color: #00af00; text-decoration-color: #00af00\">9</span> │\n",
       "└─────────────────────────────────┴────────────────────────┴───────────────┘\n",
       "</pre>\n"
      ],
      "text/plain": [
       "┏━━━━━━━━━━━━━━━━━━━━━━━━━━━━━━━━━┳━━━━━━━━━━━━━━━━━━━━━━━━┳━━━━━━━━━━━━━━━┓\n",
       "┃\u001b[1m \u001b[0m\u001b[1mLayer (type)                   \u001b[0m\u001b[1m \u001b[0m┃\u001b[1m \u001b[0m\u001b[1mOutput Shape          \u001b[0m\u001b[1m \u001b[0m┃\u001b[1m \u001b[0m\u001b[1m      Param #\u001b[0m\u001b[1m \u001b[0m┃\n",
       "┡━━━━━━━━━━━━━━━━━━━━━━━━━━━━━━━━━╇━━━━━━━━━━━━━━━━━━━━━━━━╇━━━━━━━━━━━━━━━┩\n",
       "│ input_layer_4 (\u001b[38;5;33mInputLayer\u001b[0m)      │ (\u001b[38;5;45mNone\u001b[0m, \u001b[38;5;34m20\u001b[0m, \u001b[38;5;34m1\u001b[0m)          │             \u001b[38;5;34m0\u001b[0m │\n",
       "├─────────────────────────────────┼────────────────────────┼───────────────┤\n",
       "│ dense_9 (\u001b[38;5;33mDense\u001b[0m)                 │ (\u001b[38;5;45mNone\u001b[0m, \u001b[38;5;34m20\u001b[0m, \u001b[38;5;34m16\u001b[0m)         │            \u001b[38;5;34m32\u001b[0m │\n",
       "├─────────────────────────────────┼────────────────────────┼───────────────┤\n",
       "│ dropout_5 (\u001b[38;5;33mDropout\u001b[0m)             │ (\u001b[38;5;45mNone\u001b[0m, \u001b[38;5;34m20\u001b[0m, \u001b[38;5;34m16\u001b[0m)         │             \u001b[38;5;34m0\u001b[0m │\n",
       "├─────────────────────────────────┼────────────────────────┼───────────────┤\n",
       "│ dense_10 (\u001b[38;5;33mDense\u001b[0m)                │ (\u001b[38;5;45mNone\u001b[0m, \u001b[38;5;34m20\u001b[0m, \u001b[38;5;34m8\u001b[0m)          │           \u001b[38;5;34m136\u001b[0m │\n",
       "├─────────────────────────────────┼────────────────────────┼───────────────┤\n",
       "│ dropout_6 (\u001b[38;5;33mDropout\u001b[0m)             │ (\u001b[38;5;45mNone\u001b[0m, \u001b[38;5;34m20\u001b[0m, \u001b[38;5;34m8\u001b[0m)          │             \u001b[38;5;34m0\u001b[0m │\n",
       "├─────────────────────────────────┼────────────────────────┼───────────────┤\n",
       "│ dense_11 (\u001b[38;5;33mDense\u001b[0m)                │ (\u001b[38;5;45mNone\u001b[0m, \u001b[38;5;34m20\u001b[0m, \u001b[38;5;34m1\u001b[0m)          │             \u001b[38;5;34m9\u001b[0m │\n",
       "└─────────────────────────────────┴────────────────────────┴───────────────┘\n"
      ]
     },
     "metadata": {},
     "output_type": "display_data"
    },
    {
     "data": {
      "text/html": [
       "<pre style=\"white-space:pre;overflow-x:auto;line-height:normal;font-family:Menlo,'DejaVu Sans Mono',consolas,'Courier New',monospace\"><span style=\"font-weight: bold\"> Total params: </span><span style=\"color: #00af00; text-decoration-color: #00af00\">177</span> (708.00 B)\n",
       "</pre>\n"
      ],
      "text/plain": [
       "\u001b[1m Total params: \u001b[0m\u001b[38;5;34m177\u001b[0m (708.00 B)\n"
      ]
     },
     "metadata": {},
     "output_type": "display_data"
    },
    {
     "data": {
      "text/html": [
       "<pre style=\"white-space:pre;overflow-x:auto;line-height:normal;font-family:Menlo,'DejaVu Sans Mono',consolas,'Courier New',monospace\"><span style=\"font-weight: bold\"> Trainable params: </span><span style=\"color: #00af00; text-decoration-color: #00af00\">177</span> (708.00 B)\n",
       "</pre>\n"
      ],
      "text/plain": [
       "\u001b[1m Trainable params: \u001b[0m\u001b[38;5;34m177\u001b[0m (708.00 B)\n"
      ]
     },
     "metadata": {},
     "output_type": "display_data"
    },
    {
     "data": {
      "text/html": [
       "<pre style=\"white-space:pre;overflow-x:auto;line-height:normal;font-family:Menlo,'DejaVu Sans Mono',consolas,'Courier New',monospace\"><span style=\"font-weight: bold\"> Non-trainable params: </span><span style=\"color: #00af00; text-decoration-color: #00af00\">0</span> (0.00 B)\n",
       "</pre>\n"
      ],
      "text/plain": [
       "\u001b[1m Non-trainable params: \u001b[0m\u001b[38;5;34m0\u001b[0m (0.00 B)\n"
      ]
     },
     "metadata": {},
     "output_type": "display_data"
    }
   ],
   "source": [
    "nn = simple_NN()"
   ]
  },
  {
   "cell_type": "markdown",
   "metadata": {},
   "source": [
    "## Train model"
   ]
  },
  {
   "cell_type": "code",
   "execution_count": 50,
   "metadata": {},
   "outputs": [],
   "source": [
    "# (xI - xmin) / (xmax - xmin)\n",
    "# min max scaler"
   ]
  },
  {
   "cell_type": "code",
   "execution_count": 51,
   "metadata": {},
   "outputs": [],
   "source": [
    "def my_min_max_scaler(data, max_value):\n",
    "    return data / max_value"
   ]
  },
  {
   "cell_type": "code",
   "execution_count": 52,
   "metadata": {},
   "outputs": [
    {
     "name": "stdout",
     "output_type": "stream",
     "text": [
      "(745198, 20)\n",
      "(745198,)\n"
     ]
    }
   ],
   "source": [
    "df_train = my_min_max_scaler(x_start_df_train, 1600.0)\n",
    "X_x, y_x = df_train[:, :(df_train.shape[1] - 1)], df_train[:, (df_train.shape[1] - 1)]\n",
    "# (df_train.shape[1] - 1) (withou:) keep the labels\n",
    "print(X_x.shape)\n",
    "print(y_x.shape)"
   ]
  },
  {
   "cell_type": "code",
   "execution_count": 53,
   "metadata": {},
   "outputs": [
    {
     "name": "stdout",
     "output_type": "stream",
     "text": [
      "(596158, 20, 1)\n",
      "(149040, 20, 1)\n"
     ]
    }
   ],
   "source": [
    "# Split val 80/20\n",
    "X_x_train, X_x_val, y_x_train, y_x_val = train_test_split(X_x, y_x, test_size=0.2, random_state=42)\n",
    "X_x_train = X_x_train.reshape((X_x_train.shape[0], X_x_train.shape[1], 1))\n",
    "X_x_val = X_x_val.reshape((X_x_val.shape[0], X_x_val.shape[1], 1))\n",
    "print(X_x_train.shape)\n",
    "print(X_x_val.shape)"
   ]
  },
  {
   "cell_type": "code",
   "execution_count": 54,
   "metadata": {},
   "outputs": [],
   "source": [
    "# loss is MSE, optimizer is Adam\n",
    "# save the best model ModelCheckpoint\n",
    "vanilla.compile(loss = \"mean_squared_error\", optimizer = Adam(learning_rate = 0.001))\n",
    "callback = [ModelCheckpoint(r\"data/Best model for x/LSTM_x.keras\", save_best_only=True, monitor=\"val_loss\")]"
   ]
  },
  {
   "cell_type": "code",
   "execution_count": 55,
   "metadata": {},
   "outputs": [
    {
     "name": "stdout",
     "output_type": "stream",
     "text": [
      "Epoch 1/5\n",
      "\u001b[1m9315/9315\u001b[0m \u001b[32m━━━━━━━━━━━━━━━━━━━━\u001b[0m\u001b[37m\u001b[0m \u001b[1m20s\u001b[0m 2ms/step - loss: 0.0281 - val_loss: 0.0012\n",
      "Epoch 2/5\n",
      "\u001b[1m9315/9315\u001b[0m \u001b[32m━━━━━━━━━━━━━━━━━━━━\u001b[0m\u001b[37m\u001b[0m \u001b[1m19s\u001b[0m 2ms/step - loss: 0.0031 - val_loss: 0.0012\n",
      "Epoch 3/5\n",
      "\u001b[1m9315/9315\u001b[0m \u001b[32m━━━━━━━━━━━━━━━━━━━━\u001b[0m\u001b[37m\u001b[0m \u001b[1m19s\u001b[0m 2ms/step - loss: 0.0031 - val_loss: 0.0014\n",
      "Epoch 4/5\n",
      "\u001b[1m9315/9315\u001b[0m \u001b[32m━━━━━━━━━━━━━━━━━━━━\u001b[0m\u001b[37m\u001b[0m \u001b[1m19s\u001b[0m 2ms/step - loss: 0.0031 - val_loss: 0.0012\n",
      "Epoch 5/5\n",
      "\u001b[1m9315/9315\u001b[0m \u001b[32m━━━━━━━━━━━━━━━━━━━━\u001b[0m\u001b[37m\u001b[0m \u001b[1m19s\u001b[0m 2ms/step - loss: 0.0031 - val_loss: 0.0013\n"
     ]
    }
   ],
   "source": [
    "# define batch size\n",
    "batch_size = 64\n",
    "\n",
    "step_per_epoch = X_x_train.shape[0] // batch_size + 1\n",
    "validation_steps = X_x_val.shape[0] // batch_size + 1\n",
    "\n",
    "history = vanilla.fit(X_x_train, y_x_train, validation_data= (X_x_val, y_x_val), epochs = 5, batch_size = 64,  validation_batch_size= 64, callbacks = callback)"
   ]
  },
  {
   "cell_type": "code",
   "execution_count": 56,
   "metadata": {},
   "outputs": [
    {
     "data": {
      "image/png": "[encoded data removed]",
      "text/plain": [
       "<Figure size 640x480 with 1 Axes>"
      ]
     },
     "metadata": {},
     "output_type": "display_data"
    }
   ],
   "source": [
    "numOfEpoch = 5\n",
    "plt.plot(list(map(int, np.linspace(1, numOfEpoch, 5))), history.history['loss'], label='training loss')\n",
    "plt.plot(list(map(int, np.linspace(1, numOfEpoch, 5))), history.history['val_loss'], label='validation loss')\n",
    "plt.title(\"Loss\")\n",
    "plt.xlabel('Epoch')\n",
    "plt.ylabel('Loss')\n",
    "plt.show()"
   ]
  },
  {
   "cell_type": "markdown",
   "metadata": {},
   "source": [
    "# NN"
   ]
  },
  {
   "cell_type": "code",
   "execution_count": 57,
   "metadata": {},
   "outputs": [
    {
     "name": "stdout",
     "output_type": "stream",
     "text": [
      "Epoch 1/5\n",
      "\u001b[1m9315/9315\u001b[0m \u001b[32m━━━━━━━━━━━━━━━━━━━━\u001b[0m\u001b[37m\u001b[0m \u001b[1m11s\u001b[0m 1ms/step - loss: 0.0534 - val_loss: 0.0101\n",
      "Epoch 2/5\n",
      "\u001b[1m9315/9315\u001b[0m \u001b[32m━━━━━━━━━━━━━━━━━━━━\u001b[0m\u001b[37m\u001b[0m \u001b[1m11s\u001b[0m 1ms/step - loss: 0.0102 - val_loss: 0.0101\n",
      "Epoch 3/5\n",
      "\u001b[1m9315/9315\u001b[0m \u001b[32m━━━━━━━━━━━━━━━━━━━━\u001b[0m\u001b[37m\u001b[0m \u001b[1m11s\u001b[0m 1ms/step - loss: 0.0101 - val_loss: 0.0101\n",
      "Epoch 4/5\n",
      "\u001b[1m9315/9315\u001b[0m \u001b[32m━━━━━━━━━━━━━━━━━━━━\u001b[0m\u001b[37m\u001b[0m \u001b[1m11s\u001b[0m 1ms/step - loss: 0.0101 - val_loss: 0.0101\n",
      "Epoch 5/5\n",
      "\u001b[1m9315/9315\u001b[0m \u001b[32m━━━━━━━━━━━━━━━━━━━━\u001b[0m\u001b[37m\u001b[0m \u001b[1m11s\u001b[0m 1ms/step - loss: 0.0101 - val_loss: 0.0101\n"
     ]
    }
   ],
   "source": [
    "nn.compile(loss = \"mean_squared_error\", optimizer = Adam(learning_rate = 0.001))\n",
    "# callback = [ModelCheckpoint(r\"data/Best model for x/nn_x.h5\", save_best_only=True, monitor=\"val_loss\")]\n",
    "callback = [ModelCheckpoint(r\"data/Best model for x/nn_x.keras\", save_best_only=True, monitor=\"val_loss\")]\n",
    "steps_per_epoch = X_x_train.shape[0] // 64 + 1\n",
    "validation_step = X_x_val.shape[0] // 64 + 1\n",
    "# history = nn.fit(X_x_train, y_x_train, validation_data= (X_x_val, y_x_val), epochs = 5, batch_size = 64, steps_per_epoch = steps_per_epoch, callbacks = callback, validation_steps = validation_step)\n",
    "history = nn.fit(X_x_train, y_x_train, validation_data= (X_x_val, y_x_val), epochs = 5, batch_size = 64,  validation_batch_size= 64, callbacks = callback)"
   ]
  },
  {
   "cell_type": "code",
   "execution_count": 58,
   "metadata": {},
   "outputs": [
    {
     "data": {
      "image/png": "[encoded data removed]",
      "text/plain": [
       "<Figure size 640x480 with 1 Axes>"
      ]
     },
     "metadata": {},
     "output_type": "display_data"
    }
   ],
   "source": [
    "numOfEpoch = 5\n",
    "plt.plot(list(map(int, np.linspace(1, numOfEpoch, 5))), history.history['loss'], label='training loss')\n",
    "plt.plot(list(map(int, np.linspace(1, numOfEpoch, 5))), history.history['val_loss'], label='validation loss')\n",
    "plt.title(\"Loss\")\n",
    "plt.xlabel('Epoch')\n",
    "plt.ylabel('Loss')\n",
    "plt.show()"
   ]
  },
  {
   "cell_type": "markdown",
   "metadata": {},
   "source": [
    "### Test"
   ]
  },
  {
   "cell_type": "code",
   "execution_count": 59,
   "metadata": {},
   "outputs": [],
   "source": [
    "x_start_df_test = pd.read_csv(\"data/test/export_data_x_start_test_20.csv\", names = list(range(1, 22, 1)))\n",
    "x_end_df_test = pd.read_csv(\"data/test/export_data_x_end_test_20.csv\", names = list(range(1, 22, 1)))\n",
    "y_start_df_test = pd.read_csv(\"data/test/export_data_y_start_test_20.csv\", names = list(range(1, 22, 1)))\n",
    "y_end_df_test = pd.read_csv(\"data/test/export_data_y_end_test_20.csv\", names = list(range(1, 22, 1)))"
   ]
  },
  {
   "cell_type": "code",
   "execution_count": 60,
   "metadata": {},
   "outputs": [],
   "source": [
    "#-1 data\n",
    "x_start_df_test = deal_with_interuption(x_start_df_test)\n",
    "y_start_df_test = deal_with_interuption(y_start_df_test)\n",
    "x_end_df_test = deal_with_interuption(x_end_df_test)\n",
    "y_end_df_test = deal_with_interuption(y_end_df_test)"
   ]
  },
  {
   "cell_type": "code",
   "execution_count": 61,
   "metadata": {},
   "outputs": [],
   "source": [
    "# center cord \n",
    "x_center_df_test = (x_start_df_test + x_end_df_test)/2\n",
    "y_center_df_test = (y_start_df_test + y_end_df_test)/2"
   ]
  },
  {
   "cell_type": "code",
   "execution_count": 63,
   "metadata": {},
   "outputs": [],
   "source": [
    "pd.DataFrame(x_center_df_test).to_csv(\"data/test/my_x_center_test_20.csv\", index = False)\n",
    "pd.DataFrame(y_center_df_test).to_csv(\"data/test/my_y_center_test_20.csv\", index = False)\n",
    "# save csv"
   ]
  },
  {
   "cell_type": "code",
   "execution_count": 64,
   "metadata": {},
   "outputs": [
    {
     "name": "stdout",
     "output_type": "stream",
     "text": [
      "(319372, 20)\n",
      "(319372,)\n"
     ]
    }
   ],
   "source": [
    "df_test = my_min_max_scaler(x_center_df_test, 1600.0)\n",
    "X_x, y_x = df_test[:, :(df_test.shape[1] - 1)], df_test[:, (df_test.shape[1] - 1)]\n",
    "print(X_x.shape)\n",
    "print(y_x.shape)"
   ]
  },
  {
   "cell_type": "code",
   "execution_count": 66,
   "metadata": {},
   "outputs": [],
   "source": [
    "X_x = X_x.reshape((X_x.shape[0], X_x.shape[1], 1))"
   ]
  },
  {
   "cell_type": "code",
   "execution_count": 65,
   "metadata": {},
   "outputs": [],
   "source": [
    "model = load_model(\"data/Best model for x/LSTM_x.keras\")"
   ]
  },
  {
   "cell_type": "code",
   "execution_count": 67,
   "metadata": {},
   "outputs": [
    {
     "name": "stdout",
     "output_type": "stream",
     "text": [
      "\u001b[1m9981/9981\u001b[0m \u001b[32m━━━━━━━━━━━━━━━━━━━━\u001b[0m\u001b[37m\u001b[0m \u001b[1m7s\u001b[0m 670us/step - loss: 8.7899e-04\n"
     ]
    },
    {
     "data": {
      "text/plain": [
       "0.0006346080917865038"
      ]
     },
     "execution_count": 67,
     "metadata": {},
     "output_type": "execute_result"
    }
   ],
   "source": [
    "model.evaluate(X_x, y_x)"
   ]
  },
  {
   "cell_type": "code",
   "execution_count": 68,
   "metadata": {},
   "outputs": [
    {
     "name": "stdout",
     "output_type": "stream",
     "text": [
      "\u001b[1m9981/9981\u001b[0m \u001b[32m━━━━━━━━━━━━━━━━━━━━\u001b[0m\u001b[37m\u001b[0m \u001b[1m7s\u001b[0m 675us/step - loss: 8.7899e-04\n"
     ]
    },
    {
     "data": {
      "text/plain": [
       "0.0006346080917865038"
      ]
     },
     "execution_count": 68,
     "metadata": {},
     "output_type": "execute_result"
    }
   ],
   "source": [
    "model.evaluate(X_x, y_x)"
   ]
  },
  {
   "cell_type": "markdown",
   "metadata": {},
   "source": [
    "### Test NN"
   ]
  },
  {
   "cell_type": "code",
   "execution_count": 69,
   "metadata": {},
   "outputs": [
    {
     "name": "stdout",
     "output_type": "stream",
     "text": [
      "\u001b[1m9981/9981\u001b[0m \u001b[32m━━━━━━━━━━━━━━━━━━━━\u001b[0m\u001b[37m\u001b[0m \u001b[1m4s\u001b[0m 400us/step - loss: 0.0080\n"
     ]
    },
    {
     "data": {
      "text/plain": [
       "0.006268518511205912"
      ]
     },
     "execution_count": 69,
     "metadata": {},
     "output_type": "execute_result"
    }
   ],
   "source": [
    "model_nn = load_model(\"data/Best model for x/nn_x.keras\")\n",
    "model_nn.evaluate(X_x, y_x)"
   ]
  },
  {
   "cell_type": "markdown",
   "metadata": {},
   "source": [
    "### Train for y"
   ]
  },
  {
   "cell_type": "code",
   "execution_count": 71,
   "metadata": {},
   "outputs": [
    {
     "name": "stdout",
     "output_type": "stream",
     "text": [
      "(745199, 20)\n",
      "(745199,)\n"
     ]
    }
   ],
   "source": [
    "df_train = my_min_max_scaler(y_center_df_train, 1080.0)\n",
    "X_x, y_x = df_train[:, :(df_train.shape[1] - 1)], df_train[:, (df_train.shape[1] - 1)]\n",
    "print(X_x.shape)\n",
    "print(y_x.shape)"
   ]
  },
  {
   "cell_type": "code",
   "execution_count": 72,
   "metadata": {},
   "outputs": [
    {
     "name": "stdout",
     "output_type": "stream",
     "text": [
      "(596159, 20, 1)\n",
      "(149040, 20, 1)\n"
     ]
    }
   ],
   "source": [
    "X_x_train, X_x_val, y_x_train, y_x_val = train_test_split(X_x, y_x, test_size = 0.2)\n",
    "X_x_train = X_x_train.reshape((X_x_train.shape[0], X_x_train.shape[1], 1))\n",
    "X_x_val = X_x_val.reshape((X_x_val.shape[0], X_x_val.shape[1], 1))\n",
    "print(X_x_train.shape)\n",
    "print(X_x_val.shape)"
   ]
  },
  {
   "cell_type": "code",
   "execution_count": 73,
   "metadata": {},
   "outputs": [],
   "source": [
    "vanilla.compile(loss = \"mean_squared_error\", optimizer = Adam(learning_rate = 0.001))\n",
    "callback = [ModelCheckpoint(r\"data/Best model for x/LSTM_y.keras\", save_best_only=True, monitor=\"val_loss\")]"
   ]
  },
  {
   "cell_type": "code",
   "execution_count": 74,
   "metadata": {},
   "outputs": [
    {
     "name": "stdout",
     "output_type": "stream",
     "text": [
      "Epoch 1/5\n",
      "\u001b[1m9315/9315\u001b[0m \u001b[32m━━━━━━━━━━━━━━━━━━━━\u001b[0m\u001b[37m\u001b[0m \u001b[1m20s\u001b[0m 2ms/step - loss: 0.0038 - val_loss: 3.5954e-04\n",
      "Epoch 2/5\n",
      "\u001b[1m9315/9315\u001b[0m \u001b[32m━━━━━━━━━━━━━━━━━━━━\u001b[0m\u001b[37m\u001b[0m \u001b[1m19s\u001b[0m 2ms/step - loss: 0.0013 - val_loss: 3.2078e-04\n",
      "Epoch 3/5\n",
      "\u001b[1m9315/9315\u001b[0m \u001b[32m━━━━━━━━━━━━━━━━━━━━\u001b[0m\u001b[37m\u001b[0m \u001b[1m19s\u001b[0m 2ms/step - loss: 0.0013 - val_loss: 3.9719e-04\n",
      "Epoch 4/5\n",
      "\u001b[1m9315/9315\u001b[0m \u001b[32m━━━━━━━━━━━━━━━━━━━━\u001b[0m\u001b[37m\u001b[0m \u001b[1m18s\u001b[0m 2ms/step - loss: 0.0013 - val_loss: 3.5113e-04\n",
      "Epoch 5/5\n",
      "\u001b[1m9315/9315\u001b[0m \u001b[32m━━━━━━━━━━━━━━━━━━━━\u001b[0m\u001b[37m\u001b[0m \u001b[1m19s\u001b[0m 2ms/step - loss: 0.0013 - val_loss: 3.3359e-04\n"
     ]
    }
   ],
   "source": [
    "steps_per_epoch = X_x_train.shape[0] // 64 + 1\n",
    "validation_step = X_x_val.shape[0] // 64 + 1\n",
    "history = vanilla.fit(X_x_train, y_x_train, validation_data= (X_x_val, y_x_val), epochs = 5, batch_size = 64,  validation_batch_size= 64, callbacks = callback)"
   ]
  },
  {
   "cell_type": "code",
   "execution_count": 75,
   "metadata": {},
   "outputs": [
    {
     "data": {
      "image/png": "[encoded data removed]",
      "text/plain": [
       "<Figure size 640x480 with 1 Axes>"
      ]
     },
     "metadata": {},
     "output_type": "display_data"
    }
   ],
   "source": [
    "numOfEpoch = 5\n",
    "plt.plot(list(map(int, np.linspace(1, numOfEpoch, 5))), history.history['loss'], label='training loss')\n",
    "plt.plot(list(map(int, np.linspace(1, numOfEpoch, 5))), history.history['val_loss'], label='validation loss')\n",
    "plt.title(\"Loss\")\n",
    "plt.xlabel('Epoch')\n",
    "plt.ylabel('Loss')\n",
    "plt.show()"
   ]
  },
  {
   "cell_type": "code",
   "execution_count": 76,
   "metadata": {},
   "outputs": [],
   "source": [
    "nn.compile(loss = \"mean_squared_error\", optimizer = Adam(learning_rate = 0.001))\n",
    "callback = [ModelCheckpoint(r\"data/Best model for x/nn_y.keras\", save_best_only=True, monitor=\"val_loss\")]"
   ]
  },
  {
   "cell_type": "code",
   "execution_count": 77,
   "metadata": {},
   "outputs": [
    {
     "name": "stdout",
     "output_type": "stream",
     "text": [
      "Epoch 1/5\n",
      "\u001b[1m9315/9315\u001b[0m \u001b[32m━━━━━━━━━━━━━━━━━━━━\u001b[0m\u001b[37m\u001b[0m \u001b[1m11s\u001b[0m 1ms/step - loss: 0.0121 - val_loss: 0.0058\n",
      "Epoch 2/5\n",
      "\u001b[1m9315/9315\u001b[0m \u001b[32m━━━━━━━━━━━━━━━━━━━━\u001b[0m\u001b[37m\u001b[0m \u001b[1m11s\u001b[0m 1ms/step - loss: 0.0058 - val_loss: 0.0058\n",
      "Epoch 3/5\n",
      "\u001b[1m9315/9315\u001b[0m \u001b[32m━━━━━━━━━━━━━━━━━━━━\u001b[0m\u001b[37m\u001b[0m \u001b[1m10s\u001b[0m 1ms/step - loss: 0.0058 - val_loss: 0.0058\n",
      "Epoch 4/5\n",
      "\u001b[1m9315/9315\u001b[0m \u001b[32m━━━━━━━━━━━━━━━━━━━━\u001b[0m\u001b[37m\u001b[0m \u001b[1m10s\u001b[0m 1ms/step - loss: 0.0058 - val_loss: 0.0058\n",
      "Epoch 5/5\n",
      "\u001b[1m9315/9315\u001b[0m \u001b[32m━━━━━━━━━━━━━━━━━━━━\u001b[0m\u001b[37m\u001b[0m \u001b[1m11s\u001b[0m 1ms/step - loss: 0.0059 - val_loss: 0.0058\n"
     ]
    }
   ],
   "source": [
    "steps_per_epoch = X_x_train.shape[0] // 64 + 1\n",
    "validation_step = X_x_val.shape[0] // 64 + 1\n",
    "history = nn.fit(X_x_train, y_x_train, validation_data= (X_x_val, y_x_val), epochs = 5, batch_size = 64,  validation_batch_size= 64, callbacks = callback)"
   ]
  },
  {
   "cell_type": "markdown",
   "metadata": {},
   "source": [
    "### Test"
   ]
  },
  {
   "cell_type": "code",
   "execution_count": 78,
   "metadata": {},
   "outputs": [
    {
     "name": "stdout",
     "output_type": "stream",
     "text": [
      "(319372, 20)\n",
      "(319372,)\n"
     ]
    }
   ],
   "source": [
    "df_test = my_min_max_scaler(y_center_df_test, 1080.0)\n",
    "X_x, y_x = df_test[:, :(df_test.shape[1] - 1)], df_test[:, (df_test.shape[1] - 1)]\n",
    "print(X_x.shape)\n",
    "print(y_x.shape)"
   ]
  },
  {
   "cell_type": "code",
   "execution_count": 79,
   "metadata": {},
   "outputs": [
    {
     "name": "stdout",
     "output_type": "stream",
     "text": [
      "\u001b[1m9981/9981\u001b[0m \u001b[32m━━━━━━━━━━━━━━━━━━━━\u001b[0m\u001b[37m\u001b[0m \u001b[1m7s\u001b[0m 664us/step - loss: 3.8554e-04\n"
     ]
    },
    {
     "data": {
      "text/plain": [
       "0.0002815817715600133"
      ]
     },
     "execution_count": 79,
     "metadata": {},
     "output_type": "execute_result"
    }
   ],
   "source": [
    "X_x = X_x.reshape((X_x.shape[0], X_x.shape[1], 1))\n",
    "model = load_model(\"data/Best model for x/LSTM_y.keras\")\n",
    "model.evaluate(X_x, y_x)"
   ]
  },
  {
   "cell_type": "code",
   "execution_count": 80,
   "metadata": {},
   "outputs": [],
   "source": [
    "model = load_model(\"data/Best model for x/nn_y.keras\")"
   ]
  },
  {
   "cell_type": "code",
   "execution_count": 81,
   "metadata": {},
   "outputs": [
    {
     "name": "stdout",
     "output_type": "stream",
     "text": [
      "\u001b[1m9981/9981\u001b[0m \u001b[32m━━━━━━━━━━━━━━━━━━━━\u001b[0m\u001b[37m\u001b[0m \u001b[1m4s\u001b[0m 410us/step - loss: 0.0064\n"
     ]
    },
    {
     "data": {
      "text/plain": [
       "0.005062380339950323"
      ]
     },
     "execution_count": 81,
     "metadata": {},
     "output_type": "execute_result"
    }
   ],
   "source": [
    "model.evaluate(X_x, y_x)"
   ]
  },
  {
   "cell_type": "code",
   "execution_count": 82,
   "metadata": {},
   "outputs": [],
   "source": [
    "model_x = load_model(\"data/Best model for x/LSTM_x.keras\")\n",
    "model_y = load_model(\"data/Best model for x/LSTM_y.keras\")"
   ]
  },
  {
   "cell_type": "code",
   "execution_count": 83,
   "metadata": {},
   "outputs": [],
   "source": [
    "# car 1\n",
    "x_start1 = np.array([1037, 1037, 1037, 1038, 1038, 1038, 1038, 1038, 1038, 1037, 1038, 1037, 1038, 1038, 1038, 1038, 1038, 1038, 1038, 1038])\n",
    "y_start1 = np.array([345, 345, 345, 345, 345, 345, 345, 345, 345, 345, 345, 345, 345, 346, 345, 346, 345, 345, 345, 345])\n",
    "x_end1 = np.array([1054, 1054, 1054, 1055, 1055, 1055, 1055, 1055, 1055, 1055, 1055, 1054, 1055, 1054, 1055, 1055, 1055, 1055, 1055, 1055])\n",
    "y_end1 = np.array([394, 394, 394, 394, 394, 394, 394, 394, 394, 394, 394, 395, 395, 395, 395, 395, 395, 395, 395, 395])\n",
    "w1 = (x_start1[0] - x_end1[0])**2\n",
    "h1 = (y_start1[0] - y_end1[0])**2\n",
    "x_center1 = (x_start1 + x_end1)/2\n",
    "y_center1 = (y_start1 + y_end1)/2"
   ]
  },
  {
   "cell_type": "code",
   "execution_count": 84,
   "metadata": {},
   "outputs": [],
   "source": [
    "# car 2\n",
    "x_start2 = np.array([1040, 1040, 1040, 1041, 1041, 1041, 1041, 1041, 1042, 1042, 1043, 1043, 1044, 1045, 1045, 1046, 1047, 1047, 1048, 1049])\n",
    "y_start2 = np.array([348, 348, 348, 349, 349, 349, 350, 350, 351, 352, 352, 352, 353, 354, 354, 354, 354, 354, 348, 349])\n",
    "x_end2 = np.array([1055, 1056, 1055, 1056, 1056, 1056, 1056, 1056, 1056, 1056, 1056, 1056, 1056, 1056, 1056, 1056, 1057, 1057, 1057, 1057])\n",
    "y_end2 = np.array([394, 394, 394, 395, 395, 396, 397, 397, 398, 398, 398, 398, 398, 400, 400, 400, 400, 401, 401, 402])\n",
    "w2 = (x_start2[0] - x_end2[0])**2\n",
    "h2 = (y_start2[0] - y_end2[0])**2\n",
    "x_center2 = (x_start2 + x_end2)/2\n",
    "y_center2 = (y_start2 + y_end2)/2"
   ]
  },
  {
   "cell_type": "code",
   "execution_count": 85,
   "metadata": {},
   "outputs": [
    {
     "name": "stdout",
     "output_type": "stream",
     "text": [
      "\u001b[1m1/1\u001b[0m \u001b[32m━━━━━━━━━━━━━━━━━━━━\u001b[0m\u001b[37m\u001b[0m \u001b[1m0s\u001b[0m 91ms/step\n"
     ]
    },
    {
     "name": "stderr",
     "output_type": "stream",
     "text": [
      "c:\\Users\\Owner\\AppData\\Local\\Programs\\Python\\Python312\\Lib\\site-packages\\keras\\src\\models\\functional.py:225: UserWarning: The structure of `inputs` doesn't match the expected structure: input_layer_3. Received: the structure of inputs=('*',)\n",
      "  warnings.warn(\n"
     ]
    },
    {
     "name": "stdout",
     "output_type": "stream",
     "text": [
      "\u001b[1m1/1\u001b[0m \u001b[32m━━━━━━━━━━━━━━━━━━━━\u001b[0m\u001b[37m\u001b[0m \u001b[1m0s\u001b[0m 100ms/step\n",
      "\u001b[1m1/1\u001b[0m \u001b[32m━━━━━━━━━━━━━━━━━━━━\u001b[0m\u001b[37m\u001b[0m \u001b[1m0s\u001b[0m 15ms/step\n",
      "\u001b[1m1/1\u001b[0m \u001b[32m━━━━━━━━━━━━━━━━━━━━\u001b[0m\u001b[37m\u001b[0m \u001b[1m0s\u001b[0m 14ms/step\n",
      "Warning collision :<\n",
      "[1179.0491]\t [407.5296]\t [1180.4927]\t [408.29776]\n",
      "\u001b[1m1/1\u001b[0m \u001b[32m━━━━━━━━━━━━━━━━━━━━\u001b[0m\u001b[37m\u001b[0m \u001b[1m0s\u001b[0m 14ms/step\n",
      "\u001b[1m1/1\u001b[0m \u001b[32m━━━━━━━━━━━━━━━━━━━━\u001b[0m\u001b[37m\u001b[0m \u001b[1m0s\u001b[0m 15ms/step\n",
      "\u001b[1m1/1\u001b[0m \u001b[32m━━━━━━━━━━━━━━━━━━━━\u001b[0m\u001b[37m\u001b[0m \u001b[1m0s\u001b[0m 14ms/step\n",
      "\u001b[1m1/1\u001b[0m \u001b[32m━━━━━━━━━━━━━━━━━━━━\u001b[0m\u001b[37m\u001b[0m \u001b[1m0s\u001b[0m 14ms/step\n",
      "Warning collision :<\n",
      "[1179.0491]\t [407.5296]\t [1180.8536]\t [408.29776]\n",
      "\u001b[1m1/1\u001b[0m \u001b[32m━━━━━━━━━━━━━━━━━━━━\u001b[0m\u001b[37m\u001b[0m \u001b[1m0s\u001b[0m 14ms/step\n"
     ]
    },
    {
     "name": "stderr",
     "output_type": "stream",
     "text": [
      "C:\\Users\\Owner\\AppData\\Local\\Temp\\ipykernel_5016\\60691500.py:21: DeprecationWarning: Conversion of an array with ndim > 0 to a scalar is deprecated, and will error in future. Ensure you extract a single element from your array before performing this operation. (Deprecated NumPy 1.25.)\n",
      "  x_c1 = np.array(list(x_c1)[1:] + [float(next_x1)]).astype(np.float32)\n",
      "C:\\Users\\Owner\\AppData\\Local\\Temp\\ipykernel_5016\\60691500.py:22: DeprecationWarning: Conversion of an array with ndim > 0 to a scalar is deprecated, and will error in future. Ensure you extract a single element from your array before performing this operation. (Deprecated NumPy 1.25.)\n",
      "  x_c2 = np.array(list(x_c2)[1:] + [float(next_x1)]).astype(np.float32)\n",
      "C:\\Users\\Owner\\AppData\\Local\\Temp\\ipykernel_5016\\60691500.py:23: DeprecationWarning: Conversion of an array with ndim > 0 to a scalar is deprecated, and will error in future. Ensure you extract a single element from your array before performing this operation. (Deprecated NumPy 1.25.)\n",
      "  y_c2 = np.array(list(y_c2)[1:] + [float(next_x1)]).astype(np.float32)\n",
      "C:\\Users\\Owner\\AppData\\Local\\Temp\\ipykernel_5016\\60691500.py:24: DeprecationWarning: Conversion of an array with ndim > 0 to a scalar is deprecated, and will error in future. Ensure you extract a single element from your array before performing this operation. (Deprecated NumPy 1.25.)\n",
      "  y_c1 = np.array(list(y_c1)[1:] + [float(next_x1)]).astype(np.float32)\n"
     ]
    },
    {
     "name": "stdout",
     "output_type": "stream",
     "text": [
      "\u001b[1m1/1\u001b[0m \u001b[32m━━━━━━━━━━━━━━━━━━━━\u001b[0m\u001b[37m\u001b[0m \u001b[1m0s\u001b[0m 40ms/step\n",
      "\u001b[1m1/1\u001b[0m \u001b[32m━━━━━━━━━━━━━━━━━━━━\u001b[0m\u001b[37m\u001b[0m \u001b[1m0s\u001b[0m 14ms/step\n",
      "\u001b[1m1/1\u001b[0m \u001b[32m━━━━━━━━━━━━━━━━━━━━\u001b[0m\u001b[37m\u001b[0m \u001b[1m0s\u001b[0m 33ms/step\n",
      "Warning collision :<\n",
      "[1179.0491]\t [407.5296]\t [1180.4927]\t [408.29776]\n",
      "\u001b[1m1/1\u001b[0m \u001b[32m━━━━━━━━━━━━━━━━━━━━\u001b[0m\u001b[37m\u001b[0m \u001b[1m0s\u001b[0m 14ms/step\n",
      "\u001b[1m1/1\u001b[0m \u001b[32m━━━━━━━━━━━━━━━━━━━━\u001b[0m\u001b[37m\u001b[0m \u001b[1m0s\u001b[0m 14ms/step\n",
      "\u001b[1m1/1\u001b[0m \u001b[32m━━━━━━━━━━━━━━━━━━━━\u001b[0m\u001b[37m\u001b[0m \u001b[1m0s\u001b[0m 27ms/step\n",
      "\u001b[1m1/1\u001b[0m \u001b[32m━━━━━━━━━━━━━━━━━━━━\u001b[0m\u001b[37m\u001b[0m \u001b[1m0s\u001b[0m 14ms/step\n",
      "Warning collision :<\n",
      "[1179.7709]\t [407.5296]\t [1181.2147]\t [408.81036]\n",
      "\u001b[1m1/1\u001b[0m \u001b[32m━━━━━━━━━━━━━━━━━━━━\u001b[0m\u001b[37m\u001b[0m \u001b[1m0s\u001b[0m 34ms/step\n",
      "\u001b[1m1/1\u001b[0m \u001b[32m━━━━━━━━━━━━━━━━━━━━\u001b[0m\u001b[37m\u001b[0m \u001b[1m0s\u001b[0m 15ms/step\n",
      "\u001b[1m1/1\u001b[0m \u001b[32m━━━━━━━━━━━━━━━━━━━━\u001b[0m\u001b[37m\u001b[0m \u001b[1m0s\u001b[0m 15ms/step\n",
      "\u001b[1m1/1\u001b[0m \u001b[32m━━━━━━━━━━━━━━━━━━━━\u001b[0m\u001b[37m\u001b[0m \u001b[1m0s\u001b[0m 13ms/step\n",
      "Warning collision :<\n",
      "[1179.7709]\t [407.5296]\t [1181.2147]\t [408.81036]\n",
      "\u001b[1m1/1\u001b[0m \u001b[32m━━━━━━━━━━━━━━━━━━━━\u001b[0m\u001b[37m\u001b[0m \u001b[1m0s\u001b[0m 13ms/step\n",
      "\u001b[1m1/1\u001b[0m \u001b[32m━━━━━━━━━━━━━━━━━━━━\u001b[0m\u001b[37m\u001b[0m \u001b[1m0s\u001b[0m 14ms/step\n",
      "\u001b[1m1/1\u001b[0m \u001b[32m━━━━━━━━━━━━━━━━━━━━\u001b[0m\u001b[37m\u001b[0m \u001b[1m0s\u001b[0m 13ms/step\n",
      "\u001b[1m1/1\u001b[0m \u001b[32m━━━━━━━━━━━━━━━━━━━━\u001b[0m\u001b[37m\u001b[0m \u001b[1m0s\u001b[0m 14ms/step\n",
      "Warning collision :<\n",
      "[1179.7709]\t [407.5296]\t [1181.2147]\t [409.06683]\n",
      "\u001b[1m1/1\u001b[0m \u001b[32m━━━━━━━━━━━━━━━━━━━━\u001b[0m\u001b[37m\u001b[0m \u001b[1m0s\u001b[0m 13ms/step\n",
      "\u001b[1m1/1\u001b[0m \u001b[32m━━━━━━━━━━━━━━━━━━━━\u001b[0m\u001b[37m\u001b[0m \u001b[1m0s\u001b[0m 13ms/step\n",
      "\u001b[1m1/1\u001b[0m \u001b[32m━━━━━━━━━━━━━━━━━━━━\u001b[0m\u001b[37m\u001b[0m \u001b[1m0s\u001b[0m 13ms/step\n",
      "\u001b[1m1/1\u001b[0m \u001b[32m━━━━━━━━━━━━━━━━━━━━\u001b[0m\u001b[37m\u001b[0m \u001b[1m0s\u001b[0m 14ms/step\n",
      "Warning collision :<\n",
      "[1179.7709]\t [407.5296]\t [1181.2147]\t [409.58008]\n",
      "\u001b[1m1/1\u001b[0m \u001b[32m━━━━━━━━━━━━━━━━━━━━\u001b[0m\u001b[37m\u001b[0m \u001b[1m0s\u001b[0m 13ms/step\n",
      "\u001b[1m1/1\u001b[0m \u001b[32m━━━━━━━━━━━━━━━━━━━━\u001b[0m\u001b[37m\u001b[0m \u001b[1m0s\u001b[0m 30ms/step\n",
      "\u001b[1m1/1\u001b[0m \u001b[32m━━━━━━━━━━━━━━━━━━━━\u001b[0m\u001b[37m\u001b[0m \u001b[1m0s\u001b[0m 13ms/step\n",
      "\u001b[1m1/1\u001b[0m \u001b[32m━━━━━━━━━━━━━━━━━━━━\u001b[0m\u001b[37m\u001b[0m \u001b[1m0s\u001b[0m 13ms/step\n",
      "Warning collision :<\n",
      "[1179.7709]\t [407.5296]\t [1181.2147]\t [409.58008]\n",
      "\u001b[1m1/1\u001b[0m \u001b[32m━━━━━━━━━━━━━━━━━━━━\u001b[0m\u001b[37m\u001b[0m \u001b[1m0s\u001b[0m 14ms/step\n",
      "\u001b[1m1/1\u001b[0m \u001b[32m━━━━━━━━━━━━━━━━━━━━\u001b[0m\u001b[37m\u001b[0m \u001b[1m0s\u001b[0m 23ms/step\n",
      "\u001b[1m1/1\u001b[0m \u001b[32m━━━━━━━━━━━━━━━━━━━━\u001b[0m\u001b[37m\u001b[0m \u001b[1m0s\u001b[0m 13ms/step\n",
      "\u001b[1m1/1\u001b[0m \u001b[32m━━━━━━━━━━━━━━━━━━━━\u001b[0m\u001b[37m\u001b[0m \u001b[1m0s\u001b[0m 36ms/step\n",
      "Warning collision :<\n",
      "[1179.7709]\t [407.5296]\t [1181.5759]\t [410.09372]\n",
      "\u001b[1m1/1\u001b[0m \u001b[32m━━━━━━━━━━━━━━━━━━━━\u001b[0m\u001b[37m\u001b[0m \u001b[1m0s\u001b[0m 13ms/step\n",
      "\u001b[1m1/1\u001b[0m \u001b[32m━━━━━━━━━━━━━━━━━━━━\u001b[0m\u001b[37m\u001b[0m \u001b[1m0s\u001b[0m 38ms/step\n",
      "\u001b[1m1/1\u001b[0m \u001b[32m━━━━━━━━━━━━━━━━━━━━\u001b[0m\u001b[37m\u001b[0m \u001b[1m0s\u001b[0m 13ms/step\n",
      "\u001b[1m1/1\u001b[0m \u001b[32m━━━━━━━━━━━━━━━━━━━━\u001b[0m\u001b[37m\u001b[0m \u001b[1m0s\u001b[0m 12ms/step\n",
      "Warning collision :<\n",
      "[1179.41]\t [407.5296]\t [1181.5759]\t [410.35068]\n"
     ]
    }
   ],
   "source": [
    "def alarm_collision(model_x, model_y, x_s1, y_s1, x_s2, y_s2, num_frame, w1, h1, w2, h2, C = 2):\n",
    "    #standardize the input\n",
    "    x_c1 = my_min_max_scaler(x_s1, 1600.0)\n",
    "    y_c1 = my_min_max_scaler(y_s1, 1080.0)\n",
    "\n",
    "    x_c2 = my_min_max_scaler(x_s2, 1600.0)\n",
    "    y_c2 = my_min_max_scaler(y_s2, 1080.0)\n",
    "\n",
    "    for i in list(range(0, num_frame)):\n",
    "        next_x1 = model_x.predict([x_c1.reshape((20, 1))])[0]\n",
    "        next_y1 = model_y.predict([y_c1.reshape((20, 1))])[0]\n",
    "\n",
    "        next_x2 = model_x.predict([x_c2.reshape((20, 1))])[0]\n",
    "        next_y2 = model_y.predict([y_c2.reshape((20, 1))])[0]\n",
    "\n",
    "        if (abs(next_x1 - next_x2) <= (w1/2 + w2/2 + C)) or (abs(next_y1 - next_y2) <= (h1/2 + h2/2 + C)):\n",
    "            print(\"Warning collision :<\")\n",
    "\n",
    "        print(\"{}\\t {}\\t {}\\t {}\".format(next_x1*1600, next_y1*1080, next_x2*1600, next_y2*1080))\n",
    "        # only use num_frame to train, remove the first add the new one \n",
    "        x_c1 = np.array(list(x_c1)[1:] + [float(next_x1)]).astype(np.float32)\n",
    "        x_c2 = np.array(list(x_c2)[1:] + [float(next_x1)]).astype(np.float32)\n",
    "        y_c2 = np.array(list(y_c2)[1:] + [float(next_x1)]).astype(np.float32)\n",
    "        y_c1 = np.array(list(y_c1)[1:] + [float(next_x1)]).astype(np.float32)\n",
    "\n",
    "alarm_collision(model_x, model_y, x_center1, y_center1, x_center2, y_center2, 10, w1, h1, w2, h2)"
   ]
  },
  {
   "cell_type": "code",
   "execution_count": null,
   "metadata": {},
   "outputs": [],
   "source": []
  }
 ],
 "metadata": {
  "kernelspec": {
   "display_name": "Python 3",
   "language": "python",
   "name": "python3"
  },
  "language_info": {
   "codemirror_mode": {
    "name": "ipython",
    "version": 3
   },
   "file_extension": ".py",
   "mimetype": "text/x-python",
   "name": "python",
   "nbconvert_exporter": "python",
   "pygments_lexer": "ipython3",
   "version": "3.12.6"
  }
 },
 "nbformat": 4,
 "nbformat_minor": 2
}
