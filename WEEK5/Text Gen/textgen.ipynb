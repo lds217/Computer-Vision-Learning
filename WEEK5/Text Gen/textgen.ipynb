{
 "cells": [
  {
   "cell_type": "markdown",
   "metadata": {},
   "source": [
    "# Text Gen with LSTM"
   ]
  },
  {
   "cell_type": "code",
   "execution_count": 3,
   "metadata": {},
   "outputs": [],
   "source": [
    "import sys\n",
    "import numpy as np\n",
    "import torch \n",
    "import torch.nn as nn"
   ]
  },
  {
   "cell_type": "code",
   "execution_count": 4,
   "metadata": {},
   "outputs": [],
   "source": [
    "device = torch.device(\"cuda\" if torch.cuda.is_available() else \"cpu\")"
   ]
  },
  {
   "cell_type": "code",
   "execution_count": 5,
   "metadata": {},
   "outputs": [],
   "source": [
    "# load data as ASCII\n",
    "# and lower all\n",
    "filename = \"data/wonderland.txt\"\n",
    "raw_text = open(filename, 'r', encoding='utf-8').read()\n",
    "raw_text = raw_text.lower()"
   ]
  },
  {
   "cell_type": "code",
   "execution_count": 6,
   "metadata": {},
   "outputs": [
    {
     "name": "stdout",
     "output_type": "stream",
     "text": [
      "Total Characters:  144512\n",
      "Total Vocab:  45\n"
     ]
    }
   ],
   "source": [
    "# Summarize the dataset\n",
    "# set to remove duplicates\n",
    "# sorted to sort the characters\n",
    "# preapare a dictionary for mapping characters to integers\n",
    "chars = sorted(list(set(raw_text)))\n",
    "chars_to_int = dict((c, i) for i, c in enumerate(chars))\n",
    "int_to_chars = dict((i, c) for i, c in enumerate(chars))\n",
    "n_chars = len(raw_text)\n",
    "n_vocab = len(chars)\n",
    "print(\"Total Characters: \", n_chars)\n",
    "print(\"Total Vocab: \", n_vocab)"
   ]
  },
  {
   "cell_type": "code",
   "execution_count": 7,
   "metadata": {},
   "outputs": [
    {
     "name": "stdout",
     "output_type": "stream",
     "text": [
      "Total Patterns:  144462\n"
     ]
    }
   ],
   "source": [
    "# preapre data_length to gen the next character\n",
    "seq_length = 50\n",
    "dataX = []\n",
    "dataY = []\n",
    "for i in range(0, n_chars - seq_length, 1):\n",
    "    seq_in = raw_text[i:i + seq_length]\n",
    "    seq_out = raw_text[i + seq_length]\n",
    "    dataX.append([chars_to_int[char] for char in seq_in])\n",
    "    dataY.append(chars_to_int[seq_out])\n",
    "\n",
    "n_patterns = len(dataX)\n",
    "print(\"Total Patterns: \", n_patterns)"
   ]
  },
  {
   "cell_type": "code",
   "execution_count": 8,
   "metadata": {},
   "outputs": [],
   "source": [
    "# change the shape of the data to format for LSTM\n",
    "# [samples, time steps, features]\n",
    "# normalize the data\n",
    "X = np.reshape(dataX, (n_patterns, seq_length, 1))\n",
    "X = X / float(n_vocab)\n",
    "y = dataY"
   ]
  },
  {
   "cell_type": "code",
   "execution_count": 9,
   "metadata": {},
   "outputs": [],
   "source": [
    "class TextModel(nn.Module):\n",
    "    def __init__(self):\n",
    "        super().__init__()\n",
    "\n",
    "        self.lstm = nn.LSTM(1, 256, batch_first=True)\n",
    "        self.classifier = nn.Sequential(\n",
    "            nn.Linear(256, 256),\n",
    "            nn.Dropout(0.2),\n",
    "            nn.ReLU(),\n",
    "            nn.Linear(256, n_vocab),\n",
    "        )\n",
    "    def forward(self, x):\n",
    "        output, (h, c) = self.lstm(x)\n",
    "        # h is the hidden state of the LSTM\n",
    "        # c is the cell state of the LSTM\n",
    "        x = self.classifier(h.squeeze(0))\n",
    "        return x"
   ]
  },
  {
   "cell_type": "code",
   "execution_count": 10,
   "metadata": {},
   "outputs": [],
   "source": [
    "x = torch.randn(2, 50, 1).to(device)\n",
    "net = TextModel().to(device)\n"
   ]
  },
  {
   "cell_type": "code",
   "execution_count": 11,
   "metadata": {},
   "outputs": [],
   "source": [
    "from tqdm import tqdm\n",
    "from tqdm.notebook import tqdm\n",
    "from torch.utils.data import Dataset, DataLoader"
   ]
  },
  {
   "cell_type": "code",
   "execution_count": 12,
   "metadata": {},
   "outputs": [],
   "source": [
    "# It is designed to store and provide training data for a sequence-based task, such as language modeling or text generation\n",
    "class TextDataset(Dataset):\n",
    "    def __init__(self, data, next_chars):\n",
    "        super().__init__()\n",
    "\n",
    "        self.data = data\n",
    "        self.next_chars = next_chars\n",
    "\n",
    "    def __getitem__(self, index):\n",
    "        return torch.tensor(self.data[index], dtype=torch.float32), self.next_chars[index]\n",
    "\n",
    "    def __len__(self):\n",
    "        return len(self.data)"
   ]
  },
  {
   "cell_type": "code",
   "execution_count": 13,
   "metadata": {},
   "outputs": [],
   "source": [
    "text_dataset = TextDataset(X, y)\n",
    "text_loader = DataLoader(\n",
    "    dataset=text_dataset,\n",
    "    shuffle=True,\n",
    "    batch_size=32,\n",
    "    num_workers=0\n",
    ")\n"
   ]
  },
  {
   "cell_type": "code",
   "execution_count": 14,
   "metadata": {},
   "outputs": [],
   "source": [
    "loss_fn = torch.nn.CrossEntropyLoss()\n",
    "optimizer = torch.optim.Adam(net.parameters(), lr=0.001)"
   ]
  },
  {
   "cell_type": "code",
   "execution_count": 15,
   "metadata": {},
   "outputs": [
    {
     "name": "stderr",
     "output_type": "stream",
     "text": [
      "Epoch 0: Total loss: 2.766194622381977, Accuracy: 0.2330: 100%|██████████| 4515/4515 [00:23<00:00, 191.69it/s] \n"
     ]
    },
    {
     "name": "stdout",
     "output_type": "stream",
     "text": [
      "Save best model with loss = 2.766194622381977\n"
     ]
    },
    {
     "name": "stderr",
     "output_type": "stream",
     "text": [
      "Epoch 1: Total loss: 2.4867214611334396, Accuracy: 0.2929: 100%|██████████| 4515/4515 [00:23<00:00, 192.59it/s]\n"
     ]
    },
    {
     "name": "stdout",
     "output_type": "stream",
     "text": [
      "Save best model with loss = 2.4867214611334396\n"
     ]
    },
    {
     "name": "stderr",
     "output_type": "stream",
     "text": [
      "Epoch 2: Total loss: 2.3324534436529, Accuracy: 0.3318: 100%|██████████| 4515/4515 [00:22<00:00, 196.59it/s]   \n"
     ]
    },
    {
     "name": "stdout",
     "output_type": "stream",
     "text": [
      "Save best model with loss = 2.3324534436529\n"
     ]
    },
    {
     "name": "stderr",
     "output_type": "stream",
     "text": [
      "Epoch 3: Total loss: 2.2028206046633545, Accuracy: 0.3678: 100%|██████████| 4515/4515 [00:22<00:00, 198.54it/s]\n"
     ]
    },
    {
     "name": "stdout",
     "output_type": "stream",
     "text": [
      "Save best model with loss = 2.2028206046633545\n"
     ]
    },
    {
     "name": "stderr",
     "output_type": "stream",
     "text": [
      "Epoch 4: Total loss: 2.104635653464105, Accuracy: 0.3932: 100%|██████████| 4515/4515 [00:22<00:00, 199.83it/s] \n"
     ]
    },
    {
     "name": "stdout",
     "output_type": "stream",
     "text": [
      "Save best model with loss = 2.104635653464105\n"
     ]
    },
    {
     "name": "stderr",
     "output_type": "stream",
     "text": [
      "Epoch 5: Total loss: 2.0233613750863313, Accuracy: 0.4136: 100%|██████████| 4515/4515 [00:22<00:00, 197.89it/s]\n"
     ]
    },
    {
     "name": "stdout",
     "output_type": "stream",
     "text": [
      "Save best model with loss = 2.0233613750863313\n"
     ]
    },
    {
     "name": "stderr",
     "output_type": "stream",
     "text": [
      "Epoch 6: Total loss: 1.9529382000465858, Accuracy: 0.4300: 100%|██████████| 4515/4515 [00:23<00:00, 196.30it/s]\n"
     ]
    },
    {
     "name": "stdout",
     "output_type": "stream",
     "text": [
      "Save best model with loss = 1.9529382000465858\n"
     ]
    },
    {
     "name": "stderr",
     "output_type": "stream",
     "text": [
      "Epoch 7: Total loss: 1.891975955947293, Accuracy: 0.4467: 100%|██████████| 4515/4515 [00:22<00:00, 197.61it/s] \n"
     ]
    },
    {
     "name": "stdout",
     "output_type": "stream",
     "text": [
      "Save best model with loss = 1.891975955947293\n"
     ]
    },
    {
     "name": "stderr",
     "output_type": "stream",
     "text": [
      "Epoch 8: Total loss: 1.8406418929200368, Accuracy: 0.4593: 100%|██████████| 4515/4515 [00:22<00:00, 199.12it/s]\n"
     ]
    },
    {
     "name": "stdout",
     "output_type": "stream",
     "text": [
      "Save best model with loss = 1.8406418929200368\n"
     ]
    },
    {
     "name": "stderr",
     "output_type": "stream",
     "text": [
      "Epoch 9: Total loss: 1.7871006035593524, Accuracy: 0.4730: 100%|██████████| 4515/4515 [00:23<00:00, 196.15it/s]\n"
     ]
    },
    {
     "name": "stdout",
     "output_type": "stream",
     "text": [
      "Save best model with loss = 1.7871006035593524\n"
     ]
    },
    {
     "name": "stderr",
     "output_type": "stream",
     "text": [
      "Epoch 10: Total loss: 1.7443735960710087, Accuracy: 0.4818: 100%|██████████| 4515/4515 [00:22<00:00, 199.60it/s]\n"
     ]
    },
    {
     "name": "stdout",
     "output_type": "stream",
     "text": [
      "Save best model with loss = 1.7443735960710087\n"
     ]
    },
    {
     "name": "stderr",
     "output_type": "stream",
     "text": [
      "Epoch 11: Total loss: 1.7022929077396625, Accuracy: 0.4936: 100%|██████████| 4515/4515 [00:23<00:00, 190.39it/s]\n"
     ]
    },
    {
     "name": "stdout",
     "output_type": "stream",
     "text": [
      "Save best model with loss = 1.7022929077396625\n"
     ]
    },
    {
     "name": "stderr",
     "output_type": "stream",
     "text": [
      "Epoch 12: Total loss: 1.659168501747803, Accuracy: 0.5036: 100%|██████████| 4515/4515 [00:24<00:00, 180.93it/s] \n"
     ]
    },
    {
     "name": "stdout",
     "output_type": "stream",
     "text": [
      "Save best model with loss = 1.659168501747803\n"
     ]
    },
    {
     "name": "stderr",
     "output_type": "stream",
     "text": [
      "Epoch 13: Total loss: 1.625417039811545, Accuracy: 0.5097: 100%|██████████| 4515/4515 [00:24<00:00, 184.77it/s] \n"
     ]
    },
    {
     "name": "stdout",
     "output_type": "stream",
     "text": [
      "Save best model with loss = 1.625417039811545\n"
     ]
    },
    {
     "name": "stderr",
     "output_type": "stream",
     "text": [
      "Epoch 14: Total loss: 1.5892631211550132, Accuracy: 0.5204: 100%|██████████| 4515/4515 [00:23<00:00, 190.45it/s]\n"
     ]
    },
    {
     "name": "stdout",
     "output_type": "stream",
     "text": [
      "Save best model with loss = 1.5892631211550132\n"
     ]
    },
    {
     "name": "stderr",
     "output_type": "stream",
     "text": [
      "Epoch 15: Total loss: 1.5573169736899146, Accuracy: 0.5271: 100%|██████████| 4515/4515 [00:23<00:00, 195.40it/s]\n"
     ]
    },
    {
     "name": "stdout",
     "output_type": "stream",
     "text": [
      "Save best model with loss = 1.5573169736899146\n"
     ]
    },
    {
     "name": "stderr",
     "output_type": "stream",
     "text": [
      "Epoch 16: Total loss: 1.5273986336664769, Accuracy: 0.5339: 100%|██████████| 4515/4515 [00:22<00:00, 196.82it/s]\n"
     ]
    },
    {
     "name": "stdout",
     "output_type": "stream",
     "text": [
      "Save best model with loss = 1.5273986336664769\n"
     ]
    },
    {
     "name": "stderr",
     "output_type": "stream",
     "text": [
      "Epoch 17: Total loss: 1.4953168171584805, Accuracy: 0.5414: 100%|██████████| 4515/4515 [00:22<00:00, 205.03it/s]\n"
     ]
    },
    {
     "name": "stdout",
     "output_type": "stream",
     "text": [
      "Save best model with loss = 1.4953168171584805\n"
     ]
    },
    {
     "name": "stderr",
     "output_type": "stream",
     "text": [
      "Epoch 18: Total loss: 1.4698564516349488, Accuracy: 0.5485: 100%|██████████| 4515/4515 [00:22<00:00, 200.69it/s]\n"
     ]
    },
    {
     "name": "stdout",
     "output_type": "stream",
     "text": [
      "Save best model with loss = 1.4698564516349488\n"
     ]
    },
    {
     "name": "stderr",
     "output_type": "stream",
     "text": [
      "Epoch 19: Total loss: 1.4458377007498167, Accuracy: 0.5534: 100%|██████████| 4515/4515 [00:22<00:00, 204.72it/s]\n"
     ]
    },
    {
     "name": "stdout",
     "output_type": "stream",
     "text": [
      "Save best model with loss = 1.4458377007498167\n"
     ]
    },
    {
     "name": "stderr",
     "output_type": "stream",
     "text": [
      "Epoch 20: Total loss: 1.419925053491941, Accuracy: 0.5606: 100%|██████████| 4515/4515 [00:22<00:00, 202.70it/s] \n"
     ]
    },
    {
     "name": "stdout",
     "output_type": "stream",
     "text": [
      "Save best model with loss = 1.419925053491941\n"
     ]
    },
    {
     "name": "stderr",
     "output_type": "stream",
     "text": [
      "Epoch 21: Total loss: 1.398134809831448, Accuracy: 0.5661: 100%|██████████| 4515/4515 [00:21<00:00, 207.67it/s] \n"
     ]
    },
    {
     "name": "stdout",
     "output_type": "stream",
     "text": [
      "Save best model with loss = 1.398134809831448\n"
     ]
    },
    {
     "name": "stderr",
     "output_type": "stream",
     "text": [
      "Epoch 22: Total loss: 1.3768215602154483, Accuracy: 0.5709: 100%|██████████| 4515/4515 [00:21<00:00, 205.56it/s]\n"
     ]
    },
    {
     "name": "stdout",
     "output_type": "stream",
     "text": [
      "Save best model with loss = 1.3768215602154483\n"
     ]
    },
    {
     "name": "stderr",
     "output_type": "stream",
     "text": [
      "Epoch 23: Total loss: 1.3557753303782356, Accuracy: 0.5759: 100%|██████████| 4515/4515 [00:21<00:00, 205.78it/s]\n"
     ]
    },
    {
     "name": "stdout",
     "output_type": "stream",
     "text": [
      "Save best model with loss = 1.3557753303782356\n"
     ]
    },
    {
     "name": "stderr",
     "output_type": "stream",
     "text": [
      "Epoch 24: Total loss: 1.3358347409191322, Accuracy: 0.5817: 100%|██████████| 4515/4515 [00:22<00:00, 203.51it/s]\n"
     ]
    },
    {
     "name": "stdout",
     "output_type": "stream",
     "text": [
      "Save best model with loss = 1.3358347409191322\n"
     ]
    },
    {
     "name": "stderr",
     "output_type": "stream",
     "text": [
      "Epoch 25: Total loss: 1.3140025776882107, Accuracy: 0.5863: 100%|██████████| 4515/4515 [00:22<00:00, 202.02it/s]\n"
     ]
    },
    {
     "name": "stdout",
     "output_type": "stream",
     "text": [
      "Save best model with loss = 1.3140025776882107\n"
     ]
    },
    {
     "name": "stderr",
     "output_type": "stream",
     "text": [
      "Epoch 26: Total loss: 1.2988812082233618, Accuracy: 0.5908: 100%|██████████| 4515/4515 [00:22<00:00, 202.05it/s]\n"
     ]
    },
    {
     "name": "stdout",
     "output_type": "stream",
     "text": [
      "Save best model with loss = 1.2988812082233618\n"
     ]
    },
    {
     "name": "stderr",
     "output_type": "stream",
     "text": [
      "Epoch 27: Total loss: 1.2810793632288708, Accuracy: 0.5948: 100%|██████████| 4515/4515 [00:22<00:00, 203.90it/s]\n"
     ]
    },
    {
     "name": "stdout",
     "output_type": "stream",
     "text": [
      "Save best model with loss = 1.2810793632288708\n"
     ]
    },
    {
     "name": "stderr",
     "output_type": "stream",
     "text": [
      "Epoch 28: Total loss: 1.2650211887766225, Accuracy: 0.5981: 100%|██████████| 4515/4515 [00:22<00:00, 199.61it/s]\n"
     ]
    },
    {
     "name": "stdout",
     "output_type": "stream",
     "text": [
      "Save best model with loss = 1.2650211887766225\n"
     ]
    },
    {
     "name": "stderr",
     "output_type": "stream",
     "text": [
      "Epoch 29: Total loss: 1.2463971077009688, Accuracy: 0.6034: 100%|██████████| 4515/4515 [00:21<00:00, 205.91it/s]\n"
     ]
    },
    {
     "name": "stdout",
     "output_type": "stream",
     "text": [
      "Save best model with loss = 1.2463971077009688\n"
     ]
    },
    {
     "name": "stderr",
     "output_type": "stream",
     "text": [
      "Epoch 30: Total loss: 1.2351007993831191, Accuracy: 0.6054: 100%|██████████| 4515/4515 [00:22<00:00, 202.69it/s]\n"
     ]
    },
    {
     "name": "stdout",
     "output_type": "stream",
     "text": [
      "Save best model with loss = 1.2351007993831191\n"
     ]
    },
    {
     "name": "stderr",
     "output_type": "stream",
     "text": [
      "Epoch 31: Total loss: 1.2206786671086138, Accuracy: 0.6085: 100%|██████████| 4515/4515 [00:22<00:00, 204.17it/s]\n"
     ]
    },
    {
     "name": "stdout",
     "output_type": "stream",
     "text": [
      "Save best model with loss = 1.2206786671086138\n"
     ]
    },
    {
     "name": "stderr",
     "output_type": "stream",
     "text": [
      "Epoch 32: Total loss: 1.206980159010734, Accuracy: 0.6137: 100%|██████████| 4515/4515 [00:22<00:00, 202.06it/s] \n"
     ]
    },
    {
     "name": "stdout",
     "output_type": "stream",
     "text": [
      "Save best model with loss = 1.206980159010734\n"
     ]
    },
    {
     "name": "stderr",
     "output_type": "stream",
     "text": [
      "Epoch 33: Total loss: 1.194997566872393, Accuracy: 0.6154: 100%|██████████| 4515/4515 [00:22<00:00, 203.01it/s] \n"
     ]
    },
    {
     "name": "stdout",
     "output_type": "stream",
     "text": [
      "Save best model with loss = 1.194997566872393\n"
     ]
    },
    {
     "name": "stderr",
     "output_type": "stream",
     "text": [
      "Epoch 34: Total loss: 1.1801089018484288, Accuracy: 0.6195: 100%|██████████| 4515/4515 [00:22<00:00, 202.76it/s]\n"
     ]
    },
    {
     "name": "stdout",
     "output_type": "stream",
     "text": [
      "Save best model with loss = 1.1801089018484288\n"
     ]
    },
    {
     "name": "stderr",
     "output_type": "stream",
     "text": [
      "Epoch 35: Total loss: 1.174023895973911, Accuracy: 0.6227: 100%|██████████| 4515/4515 [00:22<00:00, 203.30it/s] \n"
     ]
    },
    {
     "name": "stdout",
     "output_type": "stream",
     "text": [
      "Save best model with loss = 1.174023895973911\n"
     ]
    },
    {
     "name": "stderr",
     "output_type": "stream",
     "text": [
      "Epoch 36: Total loss: 1.1543913258204561, Accuracy: 0.6282: 100%|██████████| 4515/4515 [00:21<00:00, 206.33it/s]\n"
     ]
    },
    {
     "name": "stdout",
     "output_type": "stream",
     "text": [
      "Save best model with loss = 1.1543913258204561\n"
     ]
    },
    {
     "name": "stderr",
     "output_type": "stream",
     "text": [
      "Epoch 37: Total loss: 1.1439434367622912, Accuracy: 0.6291: 100%|██████████| 4515/4515 [00:22<00:00, 202.80it/s]\n"
     ]
    },
    {
     "name": "stdout",
     "output_type": "stream",
     "text": [
      "Save best model with loss = 1.1439434367622912\n"
     ]
    },
    {
     "name": "stderr",
     "output_type": "stream",
     "text": [
      "Epoch 38: Total loss: 1.1354701010161725, Accuracy: 0.6317: 100%|██████████| 4515/4515 [00:22<00:00, 200.82it/s]\n"
     ]
    },
    {
     "name": "stdout",
     "output_type": "stream",
     "text": [
      "Save best model with loss = 1.1354701010161725\n"
     ]
    },
    {
     "name": "stderr",
     "output_type": "stream",
     "text": [
      "Epoch 39: Total loss: 1.1235142288479958, Accuracy: 0.6354: 100%|██████████| 4515/4515 [00:22<00:00, 204.83it/s]\n"
     ]
    },
    {
     "name": "stdout",
     "output_type": "stream",
     "text": [
      "Save best model with loss = 1.1235142288479958\n"
     ]
    },
    {
     "name": "stderr",
     "output_type": "stream",
     "text": [
      "Epoch 40: Total loss: 1.1137048363619602, Accuracy: 0.6377: 100%|██████████| 4515/4515 [00:22<00:00, 201.52it/s]\n"
     ]
    },
    {
     "name": "stdout",
     "output_type": "stream",
     "text": [
      "Save best model with loss = 1.1137048363619602\n"
     ]
    },
    {
     "name": "stderr",
     "output_type": "stream",
     "text": [
      "Epoch 41: Total loss: 1.1017117275418105, Accuracy: 0.6409: 100%|██████████| 4515/4515 [00:22<00:00, 204.65it/s]\n"
     ]
    },
    {
     "name": "stdout",
     "output_type": "stream",
     "text": [
      "Save best model with loss = 1.1017117275418105\n"
     ]
    },
    {
     "name": "stderr",
     "output_type": "stream",
     "text": [
      "Epoch 42: Total loss: 1.0934137098812977, Accuracy: 0.6421: 100%|██████████| 4515/4515 [00:22<00:00, 201.40it/s]\n"
     ]
    },
    {
     "name": "stdout",
     "output_type": "stream",
     "text": [
      "Save best model with loss = 1.0934137098812977\n"
     ]
    },
    {
     "name": "stderr",
     "output_type": "stream",
     "text": [
      "Epoch 43: Total loss: 1.0849622462741033, Accuracy: 0.6456: 100%|██████████| 4515/4515 [00:22<00:00, 204.34it/s]\n"
     ]
    },
    {
     "name": "stdout",
     "output_type": "stream",
     "text": [
      "Save best model with loss = 1.0849622462741033\n"
     ]
    },
    {
     "name": "stderr",
     "output_type": "stream",
     "text": [
      "Epoch 44: Total loss: 1.0756037350178822, Accuracy: 0.6486: 100%|██████████| 4515/4515 [00:22<00:00, 203.63it/s]\n"
     ]
    },
    {
     "name": "stdout",
     "output_type": "stream",
     "text": [
      "Save best model with loss = 1.0756037350178822\n"
     ]
    },
    {
     "name": "stderr",
     "output_type": "stream",
     "text": [
      "Epoch 45: Total loss: 1.0678967271598339, Accuracy: 0.6498: 100%|██████████| 4515/4515 [00:22<00:00, 202.78it/s]\n"
     ]
    },
    {
     "name": "stdout",
     "output_type": "stream",
     "text": [
      "Save best model with loss = 1.0678967271598339\n"
     ]
    },
    {
     "name": "stderr",
     "output_type": "stream",
     "text": [
      "Epoch 46: Total loss: 1.055363470447948, Accuracy: 0.6544: 100%|██████████| 4515/4515 [00:22<00:00, 203.30it/s] \n"
     ]
    },
    {
     "name": "stdout",
     "output_type": "stream",
     "text": [
      "Save best model with loss = 1.055363470447948\n"
     ]
    },
    {
     "name": "stderr",
     "output_type": "stream",
     "text": [
      "Epoch 47: Total loss: 1.0477096158074646, Accuracy: 0.6566: 100%|██████████| 4515/4515 [00:22<00:00, 201.47it/s]\n"
     ]
    },
    {
     "name": "stdout",
     "output_type": "stream",
     "text": [
      "Save best model with loss = 1.0477096158074646\n"
     ]
    },
    {
     "name": "stderr",
     "output_type": "stream",
     "text": [
      "Epoch 48: Total loss: 1.0392741319217027, Accuracy: 0.6584: 100%|██████████| 4515/4515 [00:22<00:00, 204.49it/s]\n"
     ]
    },
    {
     "name": "stdout",
     "output_type": "stream",
     "text": [
      "Save best model with loss = 1.0392741319217027\n"
     ]
    },
    {
     "name": "stderr",
     "output_type": "stream",
     "text": [
      "Epoch 49: Total loss: 1.0374860538926765, Accuracy: 0.6580: 100%|██████████| 4515/4515 [00:22<00:00, 204.09it/s]\n"
     ]
    },
    {
     "name": "stdout",
     "output_type": "stream",
     "text": [
      "Save best model with loss = 1.0374860538926765\n"
     ]
    },
    {
     "name": "stderr",
     "output_type": "stream",
     "text": [
      "Epoch 50: Total loss: 1.0280701469609375, Accuracy: 0.6606: 100%|██████████| 4515/4515 [00:22<00:00, 201.20it/s]\n"
     ]
    },
    {
     "name": "stdout",
     "output_type": "stream",
     "text": [
      "Save best model with loss = 1.0280701469609375\n"
     ]
    },
    {
     "name": "stderr",
     "output_type": "stream",
     "text": [
      "Epoch 51: Total loss: 1.0191588761204502, Accuracy: 0.6644: 100%|██████████| 4515/4515 [00:22<00:00, 203.60it/s]\n"
     ]
    },
    {
     "name": "stdout",
     "output_type": "stream",
     "text": [
      "Save best model with loss = 1.0191588761204502\n"
     ]
    },
    {
     "name": "stderr",
     "output_type": "stream",
     "text": [
      "Epoch 52: Total loss: 1.0117187117091313, Accuracy: 0.6669: 100%|██████████| 4515/4515 [00:21<00:00, 205.54it/s]\n"
     ]
    },
    {
     "name": "stdout",
     "output_type": "stream",
     "text": [
      "Save best model with loss = 1.0117187117091313\n"
     ]
    },
    {
     "name": "stderr",
     "output_type": "stream",
     "text": [
      "Epoch 53: Total loss: 1.0065667409107402, Accuracy: 0.6674: 100%|██████████| 4515/4515 [00:22<00:00, 203.41it/s]\n"
     ]
    },
    {
     "name": "stdout",
     "output_type": "stream",
     "text": [
      "Save best model with loss = 1.0065667409107402\n"
     ]
    },
    {
     "name": "stderr",
     "output_type": "stream",
     "text": [
      "Epoch 54: Total loss: 0.9966794754249577, Accuracy: 0.6700: 100%|██████████| 4515/4515 [00:22<00:00, 203.23it/s]\n"
     ]
    },
    {
     "name": "stdout",
     "output_type": "stream",
     "text": [
      "Save best model with loss = 0.9966794754249577\n"
     ]
    },
    {
     "name": "stderr",
     "output_type": "stream",
     "text": [
      "Epoch 55: Total loss: 0.9951214239578838, Accuracy: 0.6715: 100%|██████████| 4515/4515 [00:22<00:00, 202.62it/s]\n"
     ]
    },
    {
     "name": "stdout",
     "output_type": "stream",
     "text": [
      "Save best model with loss = 0.9951214239578838\n"
     ]
    },
    {
     "name": "stderr",
     "output_type": "stream",
     "text": [
      "Epoch 56: Total loss: 0.9829793885366729, Accuracy: 0.6735: 100%|██████████| 4515/4515 [00:22<00:00, 203.88it/s]\n"
     ]
    },
    {
     "name": "stdout",
     "output_type": "stream",
     "text": [
      "Save best model with loss = 0.9829793885366729\n"
     ]
    },
    {
     "name": "stderr",
     "output_type": "stream",
     "text": [
      "Epoch 57: Total loss: 0.9767223277295283, Accuracy: 0.6751: 100%|██████████| 4515/4515 [00:23<00:00, 195.56it/s]\n"
     ]
    },
    {
     "name": "stdout",
     "output_type": "stream",
     "text": [
      "Save best model with loss = 0.9767223277295283\n"
     ]
    },
    {
     "name": "stderr",
     "output_type": "stream",
     "text": [
      "Epoch 58: Total loss: 0.9756987229006103, Accuracy: 0.6753: 100%|██████████| 4515/4515 [00:22<00:00, 203.06it/s]\n"
     ]
    },
    {
     "name": "stdout",
     "output_type": "stream",
     "text": [
      "Save best model with loss = 0.9756987229006103\n"
     ]
    },
    {
     "name": "stderr",
     "output_type": "stream",
     "text": [
      "Epoch 59: Total loss: 0.9674692335978959, Accuracy: 0.6788: 100%|██████████| 4515/4515 [00:22<00:00, 201.37it/s]\n"
     ]
    },
    {
     "name": "stdout",
     "output_type": "stream",
     "text": [
      "Save best model with loss = 0.9674692335978959\n"
     ]
    },
    {
     "name": "stderr",
     "output_type": "stream",
     "text": [
      "Epoch 60: Total loss: 0.9590281005053557, Accuracy: 0.6806: 100%|██████████| 4515/4515 [00:22<00:00, 201.72it/s]\n"
     ]
    },
    {
     "name": "stdout",
     "output_type": "stream",
     "text": [
      "Save best model with loss = 0.9590281005053557\n"
     ]
    },
    {
     "name": "stderr",
     "output_type": "stream",
     "text": [
      "Epoch 61: Total loss: 0.9585126144413404, Accuracy: 0.6807: 100%|██████████| 4515/4515 [00:22<00:00, 202.79it/s]\n"
     ]
    },
    {
     "name": "stdout",
     "output_type": "stream",
     "text": [
      "Save best model with loss = 0.9585126144413404\n"
     ]
    },
    {
     "name": "stderr",
     "output_type": "stream",
     "text": [
      "Epoch 62: Total loss: 0.9499756266376372, Accuracy: 0.6835: 100%|██████████| 4515/4515 [00:22<00:00, 203.34it/s]\n"
     ]
    },
    {
     "name": "stdout",
     "output_type": "stream",
     "text": [
      "Save best model with loss = 0.9499756266376372\n"
     ]
    },
    {
     "name": "stderr",
     "output_type": "stream",
     "text": [
      "Epoch 63: Total loss: 0.9457246348113316, Accuracy: 0.6835: 100%|██████████| 4515/4515 [00:22<00:00, 202.43it/s]\n"
     ]
    },
    {
     "name": "stdout",
     "output_type": "stream",
     "text": [
      "Save best model with loss = 0.9457246348113316\n"
     ]
    },
    {
     "name": "stderr",
     "output_type": "stream",
     "text": [
      "Epoch 64: Total loss: 0.9407827825509301, Accuracy: 0.6860: 100%|██████████| 4515/4515 [00:22<00:00, 203.18it/s]\n"
     ]
    },
    {
     "name": "stdout",
     "output_type": "stream",
     "text": [
      "Save best model with loss = 0.9407827825509301\n"
     ]
    },
    {
     "name": "stderr",
     "output_type": "stream",
     "text": [
      "Epoch 65: Total loss: 0.9307458250031518, Accuracy: 0.6894: 100%|██████████| 4515/4515 [00:22<00:00, 203.50it/s]\n"
     ]
    },
    {
     "name": "stdout",
     "output_type": "stream",
     "text": [
      "Save best model with loss = 0.9307458250031518\n"
     ]
    },
    {
     "name": "stderr",
     "output_type": "stream",
     "text": [
      "Epoch 66: Total loss: 0.9280237861447952, Accuracy: 0.6890: 100%|██████████| 4515/4515 [00:22<00:00, 203.39it/s]\n"
     ]
    },
    {
     "name": "stdout",
     "output_type": "stream",
     "text": [
      "Save best model with loss = 0.9280237861447952\n"
     ]
    },
    {
     "name": "stderr",
     "output_type": "stream",
     "text": [
      "Epoch 67: Total loss: 0.9204116164911889, Accuracy: 0.6912: 100%|██████████| 4515/4515 [00:22<00:00, 201.04it/s]\n"
     ]
    },
    {
     "name": "stdout",
     "output_type": "stream",
     "text": [
      "Save best model with loss = 0.9204116164911889\n"
     ]
    },
    {
     "name": "stderr",
     "output_type": "stream",
     "text": [
      "Epoch 68: Total loss: 0.9144640635876429, Accuracy: 0.6936: 100%|██████████| 4515/4515 [00:21<00:00, 206.74it/s]\n"
     ]
    },
    {
     "name": "stdout",
     "output_type": "stream",
     "text": [
      "Save best model with loss = 0.9144640635876429\n"
     ]
    },
    {
     "name": "stderr",
     "output_type": "stream",
     "text": [
      "Epoch 69: Total loss: 0.9137485228635676, Accuracy: 0.6944: 100%|██████████| 4515/4515 [00:22<00:00, 203.48it/s]\n"
     ]
    },
    {
     "name": "stdout",
     "output_type": "stream",
     "text": [
      "Save best model with loss = 0.9137485228635676\n"
     ]
    },
    {
     "name": "stderr",
     "output_type": "stream",
     "text": [
      "Epoch 70: Total loss: 0.9074132174154452, Accuracy: 0.6965: 100%|██████████| 4515/4515 [00:21<00:00, 207.13it/s]\n"
     ]
    },
    {
     "name": "stdout",
     "output_type": "stream",
     "text": [
      "Save best model with loss = 0.9074132174154452\n"
     ]
    },
    {
     "name": "stderr",
     "output_type": "stream",
     "text": [
      "Epoch 71: Total loss: 0.9064879079131721, Accuracy: 0.6951: 100%|██████████| 4515/4515 [00:22<00:00, 203.06it/s]\n"
     ]
    },
    {
     "name": "stdout",
     "output_type": "stream",
     "text": [
      "Save best model with loss = 0.9064879079131721\n"
     ]
    },
    {
     "name": "stderr",
     "output_type": "stream",
     "text": [
      "Epoch 72: Total loss: 0.8986360215863516, Accuracy: 0.6997: 100%|██████████| 4515/4515 [00:21<00:00, 205.66it/s]\n"
     ]
    },
    {
     "name": "stdout",
     "output_type": "stream",
     "text": [
      "Save best model with loss = 0.8986360215863516\n"
     ]
    },
    {
     "name": "stderr",
     "output_type": "stream",
     "text": [
      "Epoch 73: Total loss: 0.8949151603222422, Accuracy: 0.7002: 100%|██████████| 4515/4515 [00:22<00:00, 202.28it/s]\n"
     ]
    },
    {
     "name": "stdout",
     "output_type": "stream",
     "text": [
      "Save best model with loss = 0.8949151603222422\n"
     ]
    },
    {
     "name": "stderr",
     "output_type": "stream",
     "text": [
      "Epoch 74: Total loss: 0.8937097576105449, Accuracy: 0.7006: 100%|██████████| 4515/4515 [00:22<00:00, 202.28it/s]\n"
     ]
    },
    {
     "name": "stdout",
     "output_type": "stream",
     "text": [
      "Save best model with loss = 0.8937097576105449\n"
     ]
    },
    {
     "name": "stderr",
     "output_type": "stream",
     "text": [
      "Epoch 75: Total loss: 0.8851124614939209, Accuracy: 0.7020: 100%|██████████| 4515/4515 [00:22<00:00, 202.93it/s]\n"
     ]
    },
    {
     "name": "stdout",
     "output_type": "stream",
     "text": [
      "Save best model with loss = 0.8851124614939209\n"
     ]
    },
    {
     "name": "stderr",
     "output_type": "stream",
     "text": [
      "Epoch 76: Total loss: 0.881085236679148, Accuracy: 0.7031: 100%|██████████| 4515/4515 [00:22<00:00, 203.07it/s] \n"
     ]
    },
    {
     "name": "stdout",
     "output_type": "stream",
     "text": [
      "Save best model with loss = 0.881085236679148\n"
     ]
    },
    {
     "name": "stderr",
     "output_type": "stream",
     "text": [
      "Epoch 77: Total loss: 0.8705854357675065, Accuracy: 0.7065: 100%|██████████| 4515/4515 [00:22<00:00, 202.93it/s]\n"
     ]
    },
    {
     "name": "stdout",
     "output_type": "stream",
     "text": [
      "Save best model with loss = 0.8705854357675065\n"
     ]
    },
    {
     "name": "stderr",
     "output_type": "stream",
     "text": [
      "Epoch 78: Total loss: 0.8709334268390406, Accuracy: 0.7071: 100%|██████████| 4515/4515 [00:22<00:00, 204.92it/s]\n",
      "Epoch 79: Total loss: 0.8716522105442461, Accuracy: 0.7057: 100%|██████████| 4515/4515 [00:23<00:00, 190.97it/s]\n",
      "Epoch 80: Total loss: 0.8647029217790527, Accuracy: 0.7096: 100%|██████████| 4515/4515 [00:23<00:00, 196.29it/s]\n"
     ]
    },
    {
     "name": "stdout",
     "output_type": "stream",
     "text": [
      "Save best model with loss = 0.8647029217790527\n"
     ]
    },
    {
     "name": "stderr",
     "output_type": "stream",
     "text": [
      "Epoch 81: Total loss: 0.8636644287164821, Accuracy: 0.7103: 100%|██████████| 4515/4515 [00:22<00:00, 197.74it/s]\n"
     ]
    },
    {
     "name": "stdout",
     "output_type": "stream",
     "text": [
      "Save best model with loss = 0.8636644287164821\n"
     ]
    },
    {
     "name": "stderr",
     "output_type": "stream",
     "text": [
      "Epoch 82: Total loss: 0.8585123281476241, Accuracy: 0.7088: 100%|██████████| 4515/4515 [00:22<00:00, 198.37it/s]\n"
     ]
    },
    {
     "name": "stdout",
     "output_type": "stream",
     "text": [
      "Save best model with loss = 0.8585123281476241\n"
     ]
    },
    {
     "name": "stderr",
     "output_type": "stream",
     "text": [
      "Epoch 83: Total loss: 0.8560013509535974, Accuracy: 0.7124: 100%|██████████| 4515/4515 [00:22<00:00, 198.35it/s]\n"
     ]
    },
    {
     "name": "stdout",
     "output_type": "stream",
     "text": [
      "Save best model with loss = 0.8560013509535974\n"
     ]
    },
    {
     "name": "stderr",
     "output_type": "stream",
     "text": [
      "Epoch 84: Total loss: 0.8551672062637534, Accuracy: 0.7111: 100%|██████████| 4515/4515 [00:22<00:00, 203.82it/s]\n"
     ]
    },
    {
     "name": "stdout",
     "output_type": "stream",
     "text": [
      "Save best model with loss = 0.8551672062637534\n"
     ]
    },
    {
     "name": "stderr",
     "output_type": "stream",
     "text": [
      "Epoch 85: Total loss: 0.8452143907084946, Accuracy: 0.7135: 100%|██████████| 4515/4515 [00:21<00:00, 207.96it/s]\n"
     ]
    },
    {
     "name": "stdout",
     "output_type": "stream",
     "text": [
      "Save best model with loss = 0.8452143907084946\n"
     ]
    },
    {
     "name": "stderr",
     "output_type": "stream",
     "text": [
      "Epoch 86: Total loss: 0.8458129470068487, Accuracy: 0.7150: 100%|██████████| 4515/4515 [00:22<00:00, 204.02it/s]\n",
      "Epoch 87: Total loss: 0.839702624627126, Accuracy: 0.7170: 100%|██████████| 4515/4515 [00:21<00:00, 208.64it/s] \n"
     ]
    },
    {
     "name": "stdout",
     "output_type": "stream",
     "text": [
      "Save best model with loss = 0.839702624627126\n"
     ]
    },
    {
     "name": "stderr",
     "output_type": "stream",
     "text": [
      "Epoch 88: Total loss: 0.8391391026881314, Accuracy: 0.7165: 100%|██████████| 4515/4515 [00:21<00:00, 205.60it/s]\n"
     ]
    },
    {
     "name": "stdout",
     "output_type": "stream",
     "text": [
      "Save best model with loss = 0.8391391026881314\n"
     ]
    },
    {
     "name": "stderr",
     "output_type": "stream",
     "text": [
      "Epoch 89: Total loss: 0.8310639964913741, Accuracy: 0.7185: 100%|██████████| 4515/4515 [00:21<00:00, 206.42it/s]\n"
     ]
    },
    {
     "name": "stdout",
     "output_type": "stream",
     "text": [
      "Save best model with loss = 0.8310639964913741\n"
     ]
    },
    {
     "name": "stderr",
     "output_type": "stream",
     "text": [
      "Epoch 90: Total loss: 0.8277770907346856, Accuracy: 0.7190: 100%|██████████| 4515/4515 [00:22<00:00, 204.65it/s]\n"
     ]
    },
    {
     "name": "stdout",
     "output_type": "stream",
     "text": [
      "Save best model with loss = 0.8277770907346856\n"
     ]
    },
    {
     "name": "stderr",
     "output_type": "stream",
     "text": [
      "Epoch 91: Total loss: 0.8207522976537084, Accuracy: 0.7225: 100%|██████████| 4515/4515 [00:21<00:00, 205.81it/s]\n"
     ]
    },
    {
     "name": "stdout",
     "output_type": "stream",
     "text": [
      "Save best model with loss = 0.8207522976537084\n"
     ]
    },
    {
     "name": "stderr",
     "output_type": "stream",
     "text": [
      "Epoch 92: Total loss: 0.8186088541483431, Accuracy: 0.7219: 100%|██████████| 4515/4515 [00:21<00:00, 205.96it/s]\n"
     ]
    },
    {
     "name": "stdout",
     "output_type": "stream",
     "text": [
      "Save best model with loss = 0.8186088541483431\n"
     ]
    },
    {
     "name": "stderr",
     "output_type": "stream",
     "text": [
      "Epoch 93: Total loss: 0.8192734082143832, Accuracy: 0.7226: 100%|██████████| 4515/4515 [00:22<00:00, 204.20it/s]\n",
      "Epoch 94: Total loss: 0.8126723997121633, Accuracy: 0.7242: 100%|██████████| 4515/4515 [00:22<00:00, 203.93it/s]\n"
     ]
    },
    {
     "name": "stdout",
     "output_type": "stream",
     "text": [
      "Save best model with loss = 0.8126723997121633\n"
     ]
    },
    {
     "name": "stderr",
     "output_type": "stream",
     "text": [
      "Epoch 95: Total loss: 0.8083297580744605, Accuracy: 0.7252: 100%|██████████| 4515/4515 [00:22<00:00, 202.29it/s]\n"
     ]
    },
    {
     "name": "stdout",
     "output_type": "stream",
     "text": [
      "Save best model with loss = 0.8083297580744605\n"
     ]
    },
    {
     "name": "stderr",
     "output_type": "stream",
     "text": [
      "Epoch 96: Total loss: 0.8081178957012669, Accuracy: 0.7260: 100%|██████████| 4515/4515 [00:22<00:00, 202.08it/s]\n"
     ]
    },
    {
     "name": "stdout",
     "output_type": "stream",
     "text": [
      "Save best model with loss = 0.8081178957012669\n"
     ]
    },
    {
     "name": "stderr",
     "output_type": "stream",
     "text": [
      "Epoch 97: Total loss: 0.8043799383035662, Accuracy: 0.7274: 100%|██████████| 4515/4515 [00:21<00:00, 205.50it/s]\n"
     ]
    },
    {
     "name": "stdout",
     "output_type": "stream",
     "text": [
      "Save best model with loss = 0.8043799383035662\n"
     ]
    },
    {
     "name": "stderr",
     "output_type": "stream",
     "text": [
      "Epoch 98: Total loss: 0.8080570940757511, Accuracy: 0.7259: 100%|██████████| 4515/4515 [00:22<00:00, 201.22it/s]\n",
      "Epoch 99: Total loss: 0.7995002424532129, Accuracy: 0.7269: 100%|██████████| 4515/4515 [00:22<00:00, 205.00it/s]\n"
     ]
    },
    {
     "name": "stdout",
     "output_type": "stream",
     "text": [
      "Save best model with loss = 0.7995002424532129\n"
     ]
    },
    {
     "name": "stderr",
     "output_type": "stream",
     "text": [
      "Epoch 100: Total loss: 0.7984323241352903, Accuracy: 0.7286: 100%|██████████| 4515/4515 [00:22<00:00, 203.69it/s]\n"
     ]
    },
    {
     "name": "stdout",
     "output_type": "stream",
     "text": [
      "Save best model with loss = 0.7984323241352903\n"
     ]
    },
    {
     "name": "stderr",
     "output_type": "stream",
     "text": [
      "Epoch 101: Total loss: 0.7943918878585925, Accuracy: 0.7290: 100%|██████████| 4515/4515 [00:21<00:00, 206.12it/s]\n"
     ]
    },
    {
     "name": "stdout",
     "output_type": "stream",
     "text": [
      "Save best model with loss = 0.7943918878585925\n"
     ]
    },
    {
     "name": "stderr",
     "output_type": "stream",
     "text": [
      "Epoch 102: Total loss: 0.7908672231079336, Accuracy: 0.7306: 100%|██████████| 4515/4515 [00:22<00:00, 204.64it/s]\n"
     ]
    },
    {
     "name": "stdout",
     "output_type": "stream",
     "text": [
      "Save best model with loss = 0.7908672231079336\n"
     ]
    },
    {
     "name": "stderr",
     "output_type": "stream",
     "text": [
      "Epoch 103: Total loss: 0.7875699349713088, Accuracy: 0.7315: 100%|██████████| 4515/4515 [00:22<00:00, 204.00it/s]\n"
     ]
    },
    {
     "name": "stdout",
     "output_type": "stream",
     "text": [
      "Save best model with loss = 0.7875699349713088\n"
     ]
    },
    {
     "name": "stderr",
     "output_type": "stream",
     "text": [
      "Epoch 104: Total loss: 0.7887975094425321, Accuracy: 0.7312: 100%|██████████| 4515/4515 [00:22<00:00, 203.94it/s]\n",
      "Epoch 105: Total loss: 0.7809398749209981, Accuracy: 0.7326: 100%|██████████| 4515/4515 [00:21<00:00, 205.51it/s]\n"
     ]
    },
    {
     "name": "stdout",
     "output_type": "stream",
     "text": [
      "Save best model with loss = 0.7809398749209981\n"
     ]
    },
    {
     "name": "stderr",
     "output_type": "stream",
     "text": [
      "Epoch 106: Total loss: 0.7805132936269606, Accuracy: 0.7335: 100%|██████████| 4515/4515 [00:22<00:00, 204.75it/s]\n"
     ]
    },
    {
     "name": "stdout",
     "output_type": "stream",
     "text": [
      "Save best model with loss = 0.7805132936269606\n"
     ]
    },
    {
     "name": "stderr",
     "output_type": "stream",
     "text": [
      "Epoch 107: Total loss: 0.7746111304392979, Accuracy: 0.7358: 100%|██████████| 4515/4515 [00:22<00:00, 203.57it/s]\n"
     ]
    },
    {
     "name": "stdout",
     "output_type": "stream",
     "text": [
      "Save best model with loss = 0.7746111304392979\n"
     ]
    },
    {
     "name": "stderr",
     "output_type": "stream",
     "text": [
      "Epoch 108: Total loss: 0.7799876466938032, Accuracy: 0.7332: 100%|██████████| 4515/4515 [00:22<00:00, 202.95it/s]\n",
      "Epoch 109: Total loss: 0.7714275706349021, Accuracy: 0.7368: 100%|██████████| 4515/4515 [00:21<00:00, 206.26it/s]\n"
     ]
    },
    {
     "name": "stdout",
     "output_type": "stream",
     "text": [
      "Save best model with loss = 0.7714275706349021\n"
     ]
    },
    {
     "name": "stderr",
     "output_type": "stream",
     "text": [
      "Epoch 110: Total loss: 0.770172449573462, Accuracy: 0.7368: 100%|██████████| 4515/4515 [00:22<00:00, 202.73it/s] \n"
     ]
    },
    {
     "name": "stdout",
     "output_type": "stream",
     "text": [
      "Save best model with loss = 0.770172449573462\n"
     ]
    },
    {
     "name": "stderr",
     "output_type": "stream",
     "text": [
      "Epoch 111: Total loss: 0.7644808554867177, Accuracy: 0.7387: 100%|██████████| 4515/4515 [00:21<00:00, 206.02it/s]\n"
     ]
    },
    {
     "name": "stdout",
     "output_type": "stream",
     "text": [
      "Save best model with loss = 0.7644808554867177\n"
     ]
    },
    {
     "name": "stderr",
     "output_type": "stream",
     "text": [
      "Epoch 112: Total loss: 0.7653872878382504, Accuracy: 0.7377: 100%|██████████| 4515/4515 [00:22<00:00, 204.02it/s]\n",
      "Epoch 113: Total loss: 0.7613936661551826, Accuracy: 0.7400: 100%|██████████| 4515/4515 [00:22<00:00, 203.30it/s]\n"
     ]
    },
    {
     "name": "stdout",
     "output_type": "stream",
     "text": [
      "Save best model with loss = 0.7613936661551826\n"
     ]
    },
    {
     "name": "stderr",
     "output_type": "stream",
     "text": [
      "Epoch 114: Total loss: 0.7605274604371484, Accuracy: 0.7411: 100%|██████████| 4515/4515 [00:22<00:00, 204.91it/s]\n"
     ]
    },
    {
     "name": "stdout",
     "output_type": "stream",
     "text": [
      "Save best model with loss = 0.7605274604371484\n"
     ]
    },
    {
     "name": "stderr",
     "output_type": "stream",
     "text": [
      "Epoch 115: Total loss: 0.7581285132060152, Accuracy: 0.7404: 100%|██████████| 4515/4515 [00:22<00:00, 203.51it/s]\n"
     ]
    },
    {
     "name": "stdout",
     "output_type": "stream",
     "text": [
      "Save best model with loss = 0.7581285132060152\n"
     ]
    },
    {
     "name": "stderr",
     "output_type": "stream",
     "text": [
      "Epoch 116: Total loss: 0.7554250951654227, Accuracy: 0.7412: 100%|██████████| 4515/4515 [00:22<00:00, 203.56it/s]\n"
     ]
    },
    {
     "name": "stdout",
     "output_type": "stream",
     "text": [
      "Save best model with loss = 0.7554250951654227\n"
     ]
    },
    {
     "name": "stderr",
     "output_type": "stream",
     "text": [
      "Epoch 117: Total loss: 0.7511103468974959, Accuracy: 0.7429: 100%|██████████| 4515/4515 [00:22<00:00, 202.25it/s]\n"
     ]
    },
    {
     "name": "stdout",
     "output_type": "stream",
     "text": [
      "Save best model with loss = 0.7511103468974959\n"
     ]
    },
    {
     "name": "stderr",
     "output_type": "stream",
     "text": [
      "Epoch 118: Total loss: 0.7531677232793267, Accuracy: 0.7431: 100%|██████████| 4515/4515 [00:22<00:00, 203.46it/s]\n",
      "Epoch 119: Total loss: 0.7463425838703069, Accuracy: 0.7439: 100%|██████████| 4515/4515 [00:24<00:00, 187.76it/s]\n"
     ]
    },
    {
     "name": "stdout",
     "output_type": "stream",
     "text": [
      "Save best model with loss = 0.7463425838703069\n"
     ]
    },
    {
     "name": "stderr",
     "output_type": "stream",
     "text": [
      "Epoch 120: Total loss: 0.7436191885376293, Accuracy: 0.7462: 100%|██████████| 4515/4515 [00:23<00:00, 191.99it/s]\n"
     ]
    },
    {
     "name": "stdout",
     "output_type": "stream",
     "text": [
      "Save best model with loss = 0.7436191885376293\n"
     ]
    },
    {
     "name": "stderr",
     "output_type": "stream",
     "text": [
      "Epoch 121: Total loss: 0.7414596329396745, Accuracy: 0.7453: 100%|██████████| 4515/4515 [00:22<00:00, 198.22it/s]\n"
     ]
    },
    {
     "name": "stdout",
     "output_type": "stream",
     "text": [
      "Save best model with loss = 0.7414596329396745\n"
     ]
    },
    {
     "name": "stderr",
     "output_type": "stream",
     "text": [
      "Epoch 122: Total loss: 0.7372238145681183, Accuracy: 0.7467: 100%|██████████| 4515/4515 [00:23<00:00, 192.79it/s]\n"
     ]
    },
    {
     "name": "stdout",
     "output_type": "stream",
     "text": [
      "Save best model with loss = 0.7372238145681183\n"
     ]
    },
    {
     "name": "stderr",
     "output_type": "stream",
     "text": [
      "Epoch 123: Total loss: 0.7412382345460974, Accuracy: 0.7459: 100%|██████████| 4515/4515 [00:24<00:00, 187.34it/s]\n",
      "Epoch 124: Total loss: 0.7324989209539471, Accuracy: 0.7476: 100%|██████████| 4515/4515 [00:24<00:00, 182.91it/s]\n"
     ]
    },
    {
     "name": "stdout",
     "output_type": "stream",
     "text": [
      "Save best model with loss = 0.7324989209539471\n"
     ]
    },
    {
     "name": "stderr",
     "output_type": "stream",
     "text": [
      "Epoch 125: Total loss: 0.7373524168203044, Accuracy: 0.7486: 100%|██████████| 4515/4515 [00:28<00:00, 161.04it/s]\n",
      "Epoch 126: Total loss: 0.7344250998029677, Accuracy: 0.7481: 100%|██████████| 4515/4515 [00:28<00:00, 156.92it/s]\n",
      "Epoch 127: Total loss: 0.7295464498722144, Accuracy: 0.7507: 100%|██████████| 4515/4515 [00:30<00:00, 149.33it/s]\n"
     ]
    },
    {
     "name": "stdout",
     "output_type": "stream",
     "text": [
      "Save best model with loss = 0.7295464498722144\n"
     ]
    },
    {
     "name": "stderr",
     "output_type": "stream",
     "text": [
      "Epoch 128: Total loss: 0.7295948353782709, Accuracy: 0.7497: 100%|██████████| 4515/4515 [00:25<00:00, 179.47it/s]\n",
      "Epoch 129: Total loss: 0.7258689821426523, Accuracy: 0.7508: 100%|██████████| 4515/4515 [00:24<00:00, 183.99it/s]\n"
     ]
    },
    {
     "name": "stdout",
     "output_type": "stream",
     "text": [
      "Save best model with loss = 0.7258689821426523\n"
     ]
    },
    {
     "name": "stderr",
     "output_type": "stream",
     "text": [
      "Epoch 130: Total loss: 0.7239373878189099, Accuracy: 0.7511: 100%|██████████| 4515/4515 [00:25<00:00, 176.35it/s]\n"
     ]
    },
    {
     "name": "stdout",
     "output_type": "stream",
     "text": [
      "Save best model with loss = 0.7239373878189099\n"
     ]
    },
    {
     "name": "stderr",
     "output_type": "stream",
     "text": [
      "Epoch 131: Total loss: 0.7263656803275792, Accuracy: 0.7517: 100%|██████████| 4515/4515 [00:25<00:00, 175.99it/s]\n",
      "Epoch 132: Total loss: 0.7227818834590225, Accuracy: 0.7537: 100%|██████████| 4515/4515 [00:24<00:00, 187.27it/s]\n"
     ]
    },
    {
     "name": "stdout",
     "output_type": "stream",
     "text": [
      "Save best model with loss = 0.7227818834590225\n"
     ]
    },
    {
     "name": "stderr",
     "output_type": "stream",
     "text": [
      "Epoch 133: Total loss: 0.7218267777829471, Accuracy: 0.7518: 100%|██████████| 4515/4515 [00:24<00:00, 182.31it/s]\n"
     ]
    },
    {
     "name": "stdout",
     "output_type": "stream",
     "text": [
      "Save best model with loss = 0.7218267777829471\n"
     ]
    },
    {
     "name": "stderr",
     "output_type": "stream",
     "text": [
      "Epoch 134: Total loss: 0.7166747815090161, Accuracy: 0.7544: 100%|██████████| 4515/4515 [00:24<00:00, 184.32it/s]\n"
     ]
    },
    {
     "name": "stdout",
     "output_type": "stream",
     "text": [
      "Save best model with loss = 0.7166747815090161\n"
     ]
    },
    {
     "name": "stderr",
     "output_type": "stream",
     "text": [
      "Epoch 135: Total loss: 0.7147549709872418, Accuracy: 0.7561: 100%|██████████| 4515/4515 [00:25<00:00, 180.04it/s]\n"
     ]
    },
    {
     "name": "stdout",
     "output_type": "stream",
     "text": [
      "Save best model with loss = 0.7147549709872418\n"
     ]
    },
    {
     "name": "stderr",
     "output_type": "stream",
     "text": [
      "Epoch 136: Total loss: 0.7095599947544692, Accuracy: 0.7563: 100%|██████████| 4515/4515 [00:25<00:00, 175.20it/s]\n"
     ]
    },
    {
     "name": "stdout",
     "output_type": "stream",
     "text": [
      "Save best model with loss = 0.7095599947544692\n"
     ]
    },
    {
     "name": "stderr",
     "output_type": "stream",
     "text": [
      "Epoch 137: Total loss: 0.7135002562274965, Accuracy: 0.7556: 100%|██████████| 4515/4515 [00:27<00:00, 166.61it/s]\n",
      "Epoch 138: Total loss: 0.7092805430507607, Accuracy: 0.7579: 100%|██████████| 4515/4515 [00:26<00:00, 169.25it/s]\n"
     ]
    },
    {
     "name": "stdout",
     "output_type": "stream",
     "text": [
      "Save best model with loss = 0.7092805430507607\n"
     ]
    },
    {
     "name": "stderr",
     "output_type": "stream",
     "text": [
      "Epoch 139: Total loss: 0.7069895388511064, Accuracy: 0.7579: 100%|██████████| 4515/4515 [00:30<00:00, 150.50it/s]\n"
     ]
    },
    {
     "name": "stdout",
     "output_type": "stream",
     "text": [
      "Save best model with loss = 0.7069895388511064\n"
     ]
    },
    {
     "name": "stderr",
     "output_type": "stream",
     "text": [
      "Epoch 140: Total loss: 0.7060281155084323, Accuracy: 0.7581: 100%|██████████| 4515/4515 [00:27<00:00, 166.86it/s]\n"
     ]
    },
    {
     "name": "stdout",
     "output_type": "stream",
     "text": [
      "Save best model with loss = 0.7060281155084323\n"
     ]
    },
    {
     "name": "stderr",
     "output_type": "stream",
     "text": [
      "Epoch 141: Total loss: 0.7015583984083511, Accuracy: 0.7583: 100%|██████████| 4515/4515 [00:27<00:00, 161.28it/s]\n"
     ]
    },
    {
     "name": "stdout",
     "output_type": "stream",
     "text": [
      "Save best model with loss = 0.7015583984083511\n"
     ]
    },
    {
     "name": "stderr",
     "output_type": "stream",
     "text": [
      "Epoch 142: Total loss: 0.7019103980374627, Accuracy: 0.7586: 100%|██████████| 4515/4515 [00:27<00:00, 164.34it/s]\n",
      "Epoch 143: Total loss: 0.7011269480270537, Accuracy: 0.7592: 100%|██████████| 4515/4515 [00:26<00:00, 173.32it/s]\n"
     ]
    },
    {
     "name": "stdout",
     "output_type": "stream",
     "text": [
      "Save best model with loss = 0.7011269480270537\n"
     ]
    },
    {
     "name": "stderr",
     "output_type": "stream",
     "text": [
      "Epoch 144: Total loss: 0.695067617409385, Accuracy: 0.7616: 100%|██████████| 4515/4515 [00:26<00:00, 173.64it/s] \n"
     ]
    },
    {
     "name": "stdout",
     "output_type": "stream",
     "text": [
      "Save best model with loss = 0.695067617409385\n"
     ]
    },
    {
     "name": "stderr",
     "output_type": "stream",
     "text": [
      "Epoch 145: Total loss: 0.7027132077272549, Accuracy: 0.7582: 100%|██████████| 4515/4515 [00:24<00:00, 183.00it/s]\n",
      "Epoch 146: Total loss: 0.6968304328117128, Accuracy: 0.7605: 100%|██████████| 4515/4515 [00:26<00:00, 173.06it/s]\n",
      "Epoch 147: Total loss: 0.6943532867190054, Accuracy: 0.7619: 100%|██████████| 4515/4515 [00:25<00:00, 174.63it/s]\n"
     ]
    },
    {
     "name": "stdout",
     "output_type": "stream",
     "text": [
      "Save best model with loss = 0.6943532867190054\n"
     ]
    },
    {
     "name": "stderr",
     "output_type": "stream",
     "text": [
      "Epoch 148: Total loss: 0.687576812056872, Accuracy: 0.7639: 100%|██████████| 4515/4515 [00:26<00:00, 173.49it/s] \n"
     ]
    },
    {
     "name": "stdout",
     "output_type": "stream",
     "text": [
      "Save best model with loss = 0.687576812056872\n"
     ]
    },
    {
     "name": "stderr",
     "output_type": "stream",
     "text": [
      "Epoch 149: Total loss: 0.6839913973545579, Accuracy: 0.7640: 100%|██████████| 4515/4515 [00:26<00:00, 171.63it/s]\n"
     ]
    },
    {
     "name": "stdout",
     "output_type": "stream",
     "text": [
      "Save best model with loss = 0.6839913973545579\n"
     ]
    },
    {
     "name": "stderr",
     "output_type": "stream",
     "text": [
      "Epoch 150: Total loss: 0.6863516335636543, Accuracy: 0.7647: 100%|██████████| 4515/4515 [00:25<00:00, 174.60it/s]\n",
      "Epoch 151: Total loss: 0.6867698142595862, Accuracy: 0.7636: 100%|██████████| 4515/4515 [00:26<00:00, 173.25it/s]\n",
      "Epoch 152: Total loss: 0.687340613694682, Accuracy: 0.7651: 100%|██████████| 4515/4515 [00:25<00:00, 174.94it/s] \n",
      "Epoch 153: Total loss: 0.6817318368443223, Accuracy: 0.7660: 100%|██████████| 4515/4515 [00:26<00:00, 173.44it/s]\n"
     ]
    },
    {
     "name": "stdout",
     "output_type": "stream",
     "text": [
      "Save best model with loss = 0.6817318368443223\n"
     ]
    },
    {
     "name": "stderr",
     "output_type": "stream",
     "text": [
      "Epoch 154: Total loss: 0.6830576424780874, Accuracy: 0.7649: 100%|██████████| 4515/4515 [00:25<00:00, 174.64it/s]\n",
      "Epoch 155: Total loss: 0.674754128206608, Accuracy: 0.7687: 100%|██████████| 4515/4515 [00:25<00:00, 174.40it/s] \n"
     ]
    },
    {
     "name": "stdout",
     "output_type": "stream",
     "text": [
      "Save best model with loss = 0.674754128206608\n"
     ]
    },
    {
     "name": "stderr",
     "output_type": "stream",
     "text": [
      "Epoch 156: Total loss: 0.6779035959363908, Accuracy: 0.7675: 100%|██████████| 4515/4515 [00:25<00:00, 176.54it/s]\n",
      "Epoch 157: Total loss: 0.6757940922761676, Accuracy: 0.7681: 100%|██████████| 4515/4515 [00:25<00:00, 176.34it/s]\n",
      "Epoch 158: Total loss: 0.6711352002977137, Accuracy: 0.7689: 100%|██████████| 4515/4515 [00:27<00:00, 166.50it/s]\n"
     ]
    },
    {
     "name": "stdout",
     "output_type": "stream",
     "text": [
      "Save best model with loss = 0.6711352002977137\n"
     ]
    },
    {
     "name": "stderr",
     "output_type": "stream",
     "text": [
      "Epoch 159: Total loss: 0.6709793071942208, Accuracy: 0.7697: 100%|██████████| 4515/4515 [00:23<00:00, 193.10it/s]\n"
     ]
    },
    {
     "name": "stdout",
     "output_type": "stream",
     "text": [
      "Save best model with loss = 0.6709793071942208\n"
     ]
    },
    {
     "name": "stderr",
     "output_type": "stream",
     "text": [
      "Epoch 160: Total loss: 0.6678664319571994, Accuracy: 0.7701: 100%|██████████| 4515/4515 [00:23<00:00, 193.72it/s]\n"
     ]
    },
    {
     "name": "stdout",
     "output_type": "stream",
     "text": [
      "Save best model with loss = 0.6678664319571994\n"
     ]
    },
    {
     "name": "stderr",
     "output_type": "stream",
     "text": [
      "Epoch 161: Total loss: 0.6741111688109596, Accuracy: 0.7679: 100%|██████████| 4515/4515 [00:23<00:00, 189.43it/s]\n",
      "Epoch 162: Total loss: 0.6621895777591703, Accuracy: 0.7715: 100%|██████████| 4515/4515 [00:28<00:00, 157.55it/s]\n"
     ]
    },
    {
     "name": "stdout",
     "output_type": "stream",
     "text": [
      "Save best model with loss = 0.6621895777591703\n"
     ]
    },
    {
     "name": "stderr",
     "output_type": "stream",
     "text": [
      "Epoch 163: Total loss: 0.6625017385282126, Accuracy: 0.7719: 100%|██████████| 4515/4515 [00:27<00:00, 161.94it/s]\n",
      "Epoch 164: Total loss: 0.6641592564558402, Accuracy: 0.7713: 100%|██████████| 4515/4515 [00:28<00:00, 160.71it/s]\n",
      "Epoch 165: Total loss: 0.662957776965757, Accuracy: 0.7709: 100%|██████████| 4515/4515 [00:28<00:00, 159.90it/s] \n",
      "Epoch 166: Total loss: 0.6622754717057989, Accuracy: 0.7713: 100%|██████████| 4515/4515 [00:28<00:00, 158.80it/s]\n",
      "Epoch 167: Total loss: 0.6588668469739779, Accuracy: 0.7737: 100%|██████████| 4515/4515 [00:29<00:00, 155.42it/s]\n"
     ]
    },
    {
     "name": "stdout",
     "output_type": "stream",
     "text": [
      "Save best model with loss = 0.6588668469739779\n"
     ]
    },
    {
     "name": "stderr",
     "output_type": "stream",
     "text": [
      "Epoch 168: Total loss: 0.6595314931400854, Accuracy: 0.7724: 100%|██████████| 4515/4515 [00:25<00:00, 175.32it/s]\n",
      "Epoch 169: Total loss: 0.6571319539879643, Accuracy: 0.7741: 100%|██████████| 4515/4515 [00:28<00:00, 160.26it/s]\n"
     ]
    },
    {
     "name": "stdout",
     "output_type": "stream",
     "text": [
      "Save best model with loss = 0.6571319539879643\n"
     ]
    },
    {
     "name": "stderr",
     "output_type": "stream",
     "text": [
      "Epoch 170: Total loss: 0.6549700960104383, Accuracy: 0.7740: 100%|██████████| 4515/4515 [00:26<00:00, 173.33it/s]\n"
     ]
    },
    {
     "name": "stdout",
     "output_type": "stream",
     "text": [
      "Save best model with loss = 0.6549700960104383\n"
     ]
    },
    {
     "name": "stderr",
     "output_type": "stream",
     "text": [
      "Epoch 171: Total loss: 0.6537368420218577, Accuracy: 0.7735: 100%|██████████| 4515/4515 [00:27<00:00, 167.02it/s]\n"
     ]
    },
    {
     "name": "stdout",
     "output_type": "stream",
     "text": [
      "Save best model with loss = 0.6537368420218577\n"
     ]
    },
    {
     "name": "stderr",
     "output_type": "stream",
     "text": [
      "Epoch 172: Total loss: 0.6499526667832536, Accuracy: 0.7759: 100%|██████████| 4515/4515 [00:27<00:00, 166.54it/s]\n"
     ]
    },
    {
     "name": "stdout",
     "output_type": "stream",
     "text": [
      "Save best model with loss = 0.6499526667832536\n"
     ]
    },
    {
     "name": "stderr",
     "output_type": "stream",
     "text": [
      "Epoch 173: Total loss: 0.6515159891194283, Accuracy: 0.7768: 100%|██████████| 4515/4515 [00:27<00:00, 165.29it/s]\n",
      "Epoch 174: Total loss: 0.6475018759535529, Accuracy: 0.7772: 100%|██████████| 4515/4515 [00:24<00:00, 183.28it/s]\n"
     ]
    },
    {
     "name": "stdout",
     "output_type": "stream",
     "text": [
      "Save best model with loss = 0.6475018759535529\n"
     ]
    },
    {
     "name": "stderr",
     "output_type": "stream",
     "text": [
      "Epoch 175: Total loss: 0.6431034545631767, Accuracy: 0.7778: 100%|██████████| 4515/4515 [00:22<00:00, 197.96it/s]\n"
     ]
    },
    {
     "name": "stdout",
     "output_type": "stream",
     "text": [
      "Save best model with loss = 0.6431034545631767\n"
     ]
    },
    {
     "name": "stderr",
     "output_type": "stream",
     "text": [
      "Epoch 176: Total loss: 0.6476047061507488, Accuracy: 0.7757: 100%|██████████| 4515/4515 [00:21<00:00, 205.24it/s]\n",
      "Epoch 177: Total loss: 0.6472924045979118, Accuracy: 0.7773: 100%|██████████| 4515/4515 [00:21<00:00, 208.89it/s]\n",
      "Epoch 178: Total loss: 0.6438629465443747, Accuracy: 0.7785: 100%|██████████| 4515/4515 [00:21<00:00, 211.00it/s]\n",
      "Epoch 179: Total loss: 0.6417659571367509, Accuracy: 0.7779: 100%|██████████| 4515/4515 [00:21<00:00, 209.54it/s]\n"
     ]
    },
    {
     "name": "stdout",
     "output_type": "stream",
     "text": [
      "Save best model with loss = 0.6417659571367509\n"
     ]
    },
    {
     "name": "stderr",
     "output_type": "stream",
     "text": [
      "Epoch 180: Total loss: 0.6410343376356502, Accuracy: 0.7797: 100%|██████████| 4515/4515 [00:21<00:00, 210.31it/s]\n"
     ]
    },
    {
     "name": "stdout",
     "output_type": "stream",
     "text": [
      "Save best model with loss = 0.6410343376356502\n"
     ]
    },
    {
     "name": "stderr",
     "output_type": "stream",
     "text": [
      "Epoch 181: Total loss: 0.6437840463199621, Accuracy: 0.7775: 100%|██████████| 4515/4515 [00:21<00:00, 208.46it/s]\n",
      "Epoch 182: Total loss: 0.6400198762995064, Accuracy: 0.7803: 100%|██████████| 4515/4515 [00:21<00:00, 210.88it/s]\n"
     ]
    },
    {
     "name": "stdout",
     "output_type": "stream",
     "text": [
      "Save best model with loss = 0.6400198762995064\n"
     ]
    },
    {
     "name": "stderr",
     "output_type": "stream",
     "text": [
      "Epoch 183: Total loss: 0.6360092732333398, Accuracy: 0.7796: 100%|██████████| 4515/4515 [00:21<00:00, 210.75it/s]\n"
     ]
    },
    {
     "name": "stdout",
     "output_type": "stream",
     "text": [
      "Save best model with loss = 0.6360092732333398\n"
     ]
    },
    {
     "name": "stderr",
     "output_type": "stream",
     "text": [
      "Epoch 184: Total loss: 0.6345041425801723, Accuracy: 0.7821: 100%|██████████| 4515/4515 [00:21<00:00, 211.72it/s]\n"
     ]
    },
    {
     "name": "stdout",
     "output_type": "stream",
     "text": [
      "Save best model with loss = 0.6345041425801723\n"
     ]
    },
    {
     "name": "stderr",
     "output_type": "stream",
     "text": [
      "Epoch 185: Total loss: 0.6334073834575028, Accuracy: 0.7811: 100%|██████████| 4515/4515 [00:21<00:00, 211.34it/s]\n"
     ]
    },
    {
     "name": "stdout",
     "output_type": "stream",
     "text": [
      "Save best model with loss = 0.6334073834575028\n"
     ]
    },
    {
     "name": "stderr",
     "output_type": "stream",
     "text": [
      "Epoch 186: Total loss: 0.6387058569413351, Accuracy: 0.7795: 100%|██████████| 4515/4515 [00:21<00:00, 214.86it/s]\n",
      "Epoch 187: Total loss: 0.6303449174626458, Accuracy: 0.7820: 100%|██████████| 4515/4515 [00:21<00:00, 211.59it/s]\n"
     ]
    },
    {
     "name": "stdout",
     "output_type": "stream",
     "text": [
      "Save best model with loss = 0.6303449174626458\n"
     ]
    },
    {
     "name": "stderr",
     "output_type": "stream",
     "text": [
      "Epoch 188: Total loss: 0.635301253339843, Accuracy: 0.7814: 100%|██████████| 4515/4515 [00:21<00:00, 211.22it/s] \n",
      "Epoch 189: Total loss: 0.6262369317502806, Accuracy: 0.7841: 100%|██████████| 4515/4515 [00:20<00:00, 216.13it/s]\n"
     ]
    },
    {
     "name": "stdout",
     "output_type": "stream",
     "text": [
      "Save best model with loss = 0.6262369317502806\n"
     ]
    },
    {
     "name": "stderr",
     "output_type": "stream",
     "text": [
      "Epoch 190: Total loss: 0.62790906224998, Accuracy: 0.7832: 100%|██████████| 4515/4515 [00:21<00:00, 213.70it/s]  \n",
      "Epoch 191: Total loss: 0.6285326530816547, Accuracy: 0.7839: 100%|██████████| 4515/4515 [00:21<00:00, 214.82it/s]\n",
      "Epoch 192: Total loss: 0.6220264739471416, Accuracy: 0.7850: 100%|██████████| 4515/4515 [00:20<00:00, 215.33it/s]\n"
     ]
    },
    {
     "name": "stdout",
     "output_type": "stream",
     "text": [
      "Save best model with loss = 0.6220264739471416\n"
     ]
    },
    {
     "name": "stderr",
     "output_type": "stream",
     "text": [
      "Epoch 193: Total loss: 0.628318770908042, Accuracy: 0.7841: 100%|██████████| 4515/4515 [00:21<00:00, 213.13it/s] \n",
      "Epoch 194: Total loss: 0.6244358728230329, Accuracy: 0.7849: 100%|██████████| 4515/4515 [00:20<00:00, 215.76it/s]\n",
      "Epoch 195: Total loss: 0.6225369016131426, Accuracy: 0.7858: 100%|██████████| 4515/4515 [00:21<00:00, 212.07it/s]\n",
      "Epoch 196: Total loss: 0.6200293504914572, Accuracy: 0.7862: 100%|██████████| 4515/4515 [00:21<00:00, 213.96it/s]\n"
     ]
    },
    {
     "name": "stdout",
     "output_type": "stream",
     "text": [
      "Save best model with loss = 0.6200293504914572\n"
     ]
    },
    {
     "name": "stderr",
     "output_type": "stream",
     "text": [
      "Epoch 197: Total loss: 0.6227585097649037, Accuracy: 0.7845: 100%|██████████| 4515/4515 [00:21<00:00, 214.30it/s]\n",
      "Epoch 198: Total loss: 0.6177923494729225, Accuracy: 0.7870: 100%|██████████| 4515/4515 [00:21<00:00, 212.67it/s]\n"
     ]
    },
    {
     "name": "stdout",
     "output_type": "stream",
     "text": [
      "Save best model with loss = 0.6177923494729225\n"
     ]
    },
    {
     "name": "stderr",
     "output_type": "stream",
     "text": [
      "Epoch 199: Total loss: 0.6173806494388602, Accuracy: 0.7863: 100%|██████████| 4515/4515 [00:21<00:00, 213.85it/s]\n"
     ]
    },
    {
     "name": "stdout",
     "output_type": "stream",
     "text": [
      "Save best model with loss = 0.6173806494388602\n"
     ]
    },
    {
     "name": "stderr",
     "output_type": "stream",
     "text": [
      "Epoch 200: Total loss: 0.6126279440961143, Accuracy: 0.7874: 100%|██████████| 4515/4515 [00:21<00:00, 211.78it/s]\n"
     ]
    },
    {
     "name": "stdout",
     "output_type": "stream",
     "text": [
      "Save best model with loss = 0.6126279440961143\n"
     ]
    },
    {
     "name": "stderr",
     "output_type": "stream",
     "text": [
      "Epoch 201: Total loss: 0.6174863575502884, Accuracy: 0.7873: 100%|██████████| 4515/4515 [00:21<00:00, 212.34it/s]\n",
      "Epoch 202: Total loss: 0.6173499721427297, Accuracy: 0.7874: 100%|██████████| 4515/4515 [00:21<00:00, 214.25it/s]\n",
      "Epoch 203: Total loss: 0.6132436068648119, Accuracy: 0.7872: 100%|██████████| 4515/4515 [00:21<00:00, 213.35it/s]\n",
      "Epoch 204: Total loss: 0.6147641996839646, Accuracy: 0.7883: 100%|██████████| 4515/4515 [00:21<00:00, 211.07it/s]\n",
      "Epoch 205: Total loss: 0.607294265161849, Accuracy: 0.7901: 100%|██████████| 4515/4515 [00:21<00:00, 213.96it/s] \n"
     ]
    },
    {
     "name": "stdout",
     "output_type": "stream",
     "text": [
      "Save best model with loss = 0.607294265161849\n"
     ]
    },
    {
     "name": "stderr",
     "output_type": "stream",
     "text": [
      "Epoch 206: Total loss: 0.6128384855663526, Accuracy: 0.7887: 100%|██████████| 4515/4515 [00:20<00:00, 217.62it/s]\n",
      "Epoch 207: Total loss: 0.6091080055432858, Accuracy: 0.7886: 100%|██████████| 4515/4515 [00:21<00:00, 213.96it/s]\n",
      "Epoch 208: Total loss: 0.6112286326992156, Accuracy: 0.7905: 100%|██████████| 4515/4515 [00:21<00:00, 214.83it/s]\n",
      "Epoch 209: Total loss: 0.609491171307474, Accuracy: 0.7889: 100%|██████████| 4515/4515 [00:20<00:00, 215.28it/s] \n",
      "Epoch 210: Total loss: 0.6036667296656738, Accuracy: 0.7915: 100%|██████████| 4515/4515 [00:21<00:00, 214.33it/s]\n"
     ]
    },
    {
     "name": "stdout",
     "output_type": "stream",
     "text": [
      "Save best model with loss = 0.6036667296656738\n"
     ]
    },
    {
     "name": "stderr",
     "output_type": "stream",
     "text": [
      "Epoch 211: Total loss: 0.6062241001151593, Accuracy: 0.7903: 100%|██████████| 4515/4515 [00:21<00:00, 214.51it/s]\n",
      "Epoch 212: Total loss: 0.6007995549626525, Accuracy: 0.7922: 100%|██████████| 4515/4515 [00:21<00:00, 214.62it/s]\n"
     ]
    },
    {
     "name": "stdout",
     "output_type": "stream",
     "text": [
      "Save best model with loss = 0.6007995549626525\n"
     ]
    },
    {
     "name": "stderr",
     "output_type": "stream",
     "text": [
      "Epoch 213: Total loss: 0.6013956950566961, Accuracy: 0.7928: 100%|██████████| 4515/4515 [00:21<00:00, 214.31it/s]\n",
      "Epoch 214: Total loss: 0.5982210710034154, Accuracy: 0.7919: 100%|██████████| 4515/4515 [00:21<00:00, 212.06it/s]\n"
     ]
    },
    {
     "name": "stdout",
     "output_type": "stream",
     "text": [
      "Save best model with loss = 0.5982210710034154\n"
     ]
    },
    {
     "name": "stderr",
     "output_type": "stream",
     "text": [
      "Epoch 215: Total loss: 0.6019806268999347, Accuracy: 0.7923: 100%|██████████| 4515/4515 [00:21<00:00, 211.85it/s]\n",
      "Epoch 216: Total loss: 0.5958127333806335, Accuracy: 0.7929: 100%|██████████| 4515/4515 [00:21<00:00, 210.44it/s]\n"
     ]
    },
    {
     "name": "stdout",
     "output_type": "stream",
     "text": [
      "Save best model with loss = 0.5958127333806335\n"
     ]
    },
    {
     "name": "stderr",
     "output_type": "stream",
     "text": [
      "Epoch 217: Total loss: 0.5990095056799691, Accuracy: 0.7920: 100%|██████████| 4515/4515 [00:21<00:00, 214.35it/s]\n",
      "Epoch 218: Total loss: 0.5934641622130657, Accuracy: 0.7945: 100%|██████████| 4515/4515 [00:21<00:00, 210.79it/s]\n"
     ]
    },
    {
     "name": "stdout",
     "output_type": "stream",
     "text": [
      "Save best model with loss = 0.5934641622130657\n"
     ]
    },
    {
     "name": "stderr",
     "output_type": "stream",
     "text": [
      "Epoch 219: Total loss: 0.5934596116542156, Accuracy: 0.7946: 100%|██████████| 4515/4515 [00:21<00:00, 212.65it/s]\n"
     ]
    },
    {
     "name": "stdout",
     "output_type": "stream",
     "text": [
      "Save best model with loss = 0.5934596116542156\n"
     ]
    },
    {
     "name": "stderr",
     "output_type": "stream",
     "text": [
      "Epoch 220: Total loss: 0.5913603683147716, Accuracy: 0.7944: 100%|██████████| 4515/4515 [00:21<00:00, 212.63it/s]\n"
     ]
    },
    {
     "name": "stdout",
     "output_type": "stream",
     "text": [
      "Save best model with loss = 0.5913603683147716\n"
     ]
    },
    {
     "name": "stderr",
     "output_type": "stream",
     "text": [
      "Epoch 221: Total loss: 0.5911694135347738, Accuracy: 0.7960: 100%|██████████| 4515/4515 [00:21<00:00, 211.34it/s]\n"
     ]
    },
    {
     "name": "stdout",
     "output_type": "stream",
     "text": [
      "Save best model with loss = 0.5911694135347738\n"
     ]
    },
    {
     "name": "stderr",
     "output_type": "stream",
     "text": [
      "Epoch 222: Total loss: 0.5892086087023697, Accuracy: 0.7959: 100%|██████████| 4515/4515 [00:21<00:00, 213.07it/s]\n"
     ]
    },
    {
     "name": "stdout",
     "output_type": "stream",
     "text": [
      "Save best model with loss = 0.5892086087023697\n"
     ]
    },
    {
     "name": "stderr",
     "output_type": "stream",
     "text": [
      "Epoch 223: Total loss: 0.5880517199074443, Accuracy: 0.7957: 100%|██████████| 4515/4515 [00:20<00:00, 218.15it/s]\n"
     ]
    },
    {
     "name": "stdout",
     "output_type": "stream",
     "text": [
      "Save best model with loss = 0.5880517199074443\n"
     ]
    },
    {
     "name": "stderr",
     "output_type": "stream",
     "text": [
      "Epoch 224: Total loss: 0.5886603307634889, Accuracy: 0.7959: 100%|██████████| 4515/4515 [00:21<00:00, 213.67it/s]\n",
      "Epoch 225: Total loss: 0.5917241071842834, Accuracy: 0.7954: 100%|██████████| 4515/4515 [00:20<00:00, 215.99it/s]\n",
      "Epoch 226: Total loss: 0.581552132289209, Accuracy: 0.7989: 100%|██████████| 4515/4515 [00:21<00:00, 214.02it/s] \n"
     ]
    },
    {
     "name": "stdout",
     "output_type": "stream",
     "text": [
      "Save best model with loss = 0.581552132289209\n"
     ]
    },
    {
     "name": "stderr",
     "output_type": "stream",
     "text": [
      "Epoch 227: Total loss: 0.588224077247834, Accuracy: 0.7969: 100%|██████████| 4515/4515 [00:21<00:00, 213.83it/s] \n",
      "Epoch 228: Total loss: 0.5858517886165236, Accuracy: 0.7967: 100%|██████████| 4515/4515 [00:21<00:00, 212.76it/s]\n",
      "Epoch 229: Total loss: 0.586065346050434, Accuracy: 0.7969: 100%|██████████| 4515/4515 [00:20<00:00, 215.59it/s] \n",
      "Epoch 230: Total loss: 0.5814975228255506, Accuracy: 0.7986: 100%|██████████| 4515/4515 [00:21<00:00, 213.29it/s]\n"
     ]
    },
    {
     "name": "stdout",
     "output_type": "stream",
     "text": [
      "Save best model with loss = 0.5814975228255506\n"
     ]
    },
    {
     "name": "stderr",
     "output_type": "stream",
     "text": [
      "Epoch 231: Total loss: 0.5813572357098261, Accuracy: 0.7974: 100%|██████████| 4515/4515 [00:21<00:00, 213.50it/s]\n"
     ]
    },
    {
     "name": "stdout",
     "output_type": "stream",
     "text": [
      "Save best model with loss = 0.5813572357098261\n"
     ]
    },
    {
     "name": "stderr",
     "output_type": "stream",
     "text": [
      "Epoch 232: Total loss: 0.583326949533962, Accuracy: 0.7979: 100%|██████████| 4515/4515 [00:21<00:00, 212.57it/s] \n",
      "Epoch 233: Total loss: 0.5847882365517046, Accuracy: 0.7984: 100%|██████████| 4515/4515 [00:21<00:00, 213.22it/s]\n",
      "Epoch 234: Total loss: 0.5824301114246034, Accuracy: 0.7987: 100%|██████████| 4515/4515 [00:21<00:00, 211.89it/s]\n",
      "Epoch 235: Total loss: 0.5872868467390471, Accuracy: 0.7981: 100%|██████████| 4515/4515 [00:21<00:00, 212.99it/s]\n",
      "Epoch 236: Total loss: 0.580250999975046, Accuracy: 0.7991: 100%|██████████| 4515/4515 [00:21<00:00, 212.33it/s] \n"
     ]
    },
    {
     "name": "stdout",
     "output_type": "stream",
     "text": [
      "Save best model with loss = 0.580250999975046\n"
     ]
    },
    {
     "name": "stderr",
     "output_type": "stream",
     "text": [
      "Epoch 237: Total loss: 0.5727280940130304, Accuracy: 0.8008: 100%|██████████| 4515/4515 [00:21<00:00, 212.06it/s]\n"
     ]
    },
    {
     "name": "stdout",
     "output_type": "stream",
     "text": [
      "Save best model with loss = 0.5727280940130304\n"
     ]
    },
    {
     "name": "stderr",
     "output_type": "stream",
     "text": [
      "Epoch 238: Total loss: 0.5763711730457619, Accuracy: 0.8013: 100%|██████████| 4515/4515 [00:21<00:00, 212.37it/s]\n",
      "Epoch 239: Total loss: 0.5768732924133968, Accuracy: 0.8006: 100%|██████████| 4515/4515 [00:21<00:00, 212.19it/s]\n",
      "Epoch 240: Total loss: 0.5765993470361133, Accuracy: 0.8017: 100%|██████████| 4515/4515 [00:20<00:00, 216.73it/s]\n",
      "Epoch 241: Total loss: 0.5751967276565129, Accuracy: 0.8009: 100%|██████████| 4515/4515 [00:21<00:00, 214.47it/s]\n",
      "Epoch 242: Total loss: 0.5751603304976772, Accuracy: 0.8007: 100%|██████████| 4515/4515 [00:21<00:00, 214.17it/s]\n",
      "Epoch 243: Total loss: 0.5713738622426459, Accuracy: 0.8025: 100%|██████████| 4515/4515 [00:20<00:00, 215.62it/s]\n"
     ]
    },
    {
     "name": "stdout",
     "output_type": "stream",
     "text": [
      "Save best model with loss = 0.5713738622426459\n"
     ]
    },
    {
     "name": "stderr",
     "output_type": "stream",
     "text": [
      "Epoch 244: Total loss: 0.5727258242080906, Accuracy: 0.8017: 100%|██████████| 4515/4515 [00:21<00:00, 212.52it/s]\n",
      "Epoch 245: Total loss: 0.5685641007268943, Accuracy: 0.8035: 100%|██████████| 4515/4515 [00:21<00:00, 214.96it/s]\n"
     ]
    },
    {
     "name": "stdout",
     "output_type": "stream",
     "text": [
      "Save best model with loss = 0.5685641007268943\n"
     ]
    },
    {
     "name": "stderr",
     "output_type": "stream",
     "text": [
      "Epoch 246: Total loss: 0.57140805461544, Accuracy: 0.8012: 100%|██████████| 4515/4515 [00:20<00:00, 215.34it/s]  \n",
      "Epoch 247: Total loss: 0.5712081915780424, Accuracy: 0.8023: 100%|██████████| 4515/4515 [00:21<00:00, 212.23it/s]\n",
      "Epoch 248: Total loss: 0.5657627446970934, Accuracy: 0.8044: 100%|██████████| 4515/4515 [00:21<00:00, 214.43it/s]\n"
     ]
    },
    {
     "name": "stdout",
     "output_type": "stream",
     "text": [
      "Save best model with loss = 0.5657627446970934\n"
     ]
    },
    {
     "name": "stderr",
     "output_type": "stream",
     "text": [
      "Epoch 249: Total loss: 0.5656855894201089, Accuracy: 0.8042: 100%|██████████| 4515/4515 [00:21<00:00, 212.24it/s]\n"
     ]
    },
    {
     "name": "stdout",
     "output_type": "stream",
     "text": [
      "Save best model with loss = 0.5656855894201089\n"
     ]
    },
    {
     "name": "stderr",
     "output_type": "stream",
     "text": [
      "Epoch 250: Total loss: 0.5654700287486759, Accuracy: 0.8040: 100%|██████████| 4515/4515 [00:21<00:00, 212.03it/s]\n"
     ]
    },
    {
     "name": "stdout",
     "output_type": "stream",
     "text": [
      "Save best model with loss = 0.5654700287486759\n"
     ]
    },
    {
     "name": "stderr",
     "output_type": "stream",
     "text": [
      "Epoch 251: Total loss: 0.5629124496433294, Accuracy: 0.8045: 100%|██████████| 4515/4515 [00:21<00:00, 212.48it/s]\n"
     ]
    },
    {
     "name": "stdout",
     "output_type": "stream",
     "text": [
      "Save best model with loss = 0.5629124496433294\n"
     ]
    },
    {
     "name": "stderr",
     "output_type": "stream",
     "text": [
      "Epoch 252: Total loss: 0.5673216927685215, Accuracy: 0.8044: 100%|██████████| 4515/4515 [00:21<00:00, 213.44it/s]\n",
      "Epoch 253: Total loss: 0.5641553477558451, Accuracy: 0.8048: 100%|██████████| 4515/4515 [00:22<00:00, 199.66it/s]\n",
      "Epoch 254: Total loss: 0.557449280078691, Accuracy: 0.8065: 100%|██████████| 4515/4515 [00:21<00:00, 206.47it/s] \n"
     ]
    },
    {
     "name": "stdout",
     "output_type": "stream",
     "text": [
      "Save best model with loss = 0.557449280078691\n"
     ]
    },
    {
     "name": "stderr",
     "output_type": "stream",
     "text": [
      "Epoch 255: Total loss: 0.5591565649069491, Accuracy: 0.8065: 100%|██████████| 4515/4515 [00:21<00:00, 205.42it/s]\n",
      "Epoch 256: Total loss: 0.5608970146671615, Accuracy: 0.8057: 100%|██████████| 4515/4515 [00:21<00:00, 207.18it/s]\n",
      "Epoch 257: Total loss: 0.5603536002395689, Accuracy: 0.8059: 100%|██████████| 4515/4515 [00:21<00:00, 208.99it/s]\n",
      "Epoch 258: Total loss: 0.5615304682077892, Accuracy: 0.8062: 100%|██████████| 4515/4515 [00:21<00:00, 207.78it/s]\n",
      "Epoch 259: Total loss: 0.5563162717262772, Accuracy: 0.8072: 100%|██████████| 4515/4515 [00:21<00:00, 206.57it/s]\n"
     ]
    },
    {
     "name": "stdout",
     "output_type": "stream",
     "text": [
      "Save best model with loss = 0.5563162717262772\n"
     ]
    },
    {
     "name": "stderr",
     "output_type": "stream",
     "text": [
      "Epoch 260: Total loss: 0.5563227049404073, Accuracy: 0.8078: 100%|██████████| 4515/4515 [00:21<00:00, 206.56it/s]\n",
      "Epoch 261: Total loss: 0.5532171191798229, Accuracy: 0.8080: 100%|██████████| 4515/4515 [00:21<00:00, 207.65it/s]\n"
     ]
    },
    {
     "name": "stdout",
     "output_type": "stream",
     "text": [
      "Save best model with loss = 0.5532171191798229\n"
     ]
    },
    {
     "name": "stderr",
     "output_type": "stream",
     "text": [
      "Epoch 262: Total loss: 0.5553413162925843, Accuracy: 0.8068: 100%|██████████| 4515/4515 [00:21<00:00, 213.14it/s]\n",
      "Epoch 263: Total loss: 0.5575433770320476, Accuracy: 0.8074: 100%|██████████| 4515/4515 [00:22<00:00, 204.86it/s]\n",
      "Epoch 264: Total loss: 0.5590258048700864, Accuracy: 0.8079: 100%|██████████| 4515/4515 [00:21<00:00, 212.96it/s]\n",
      "Epoch 265: Total loss: 0.5545458253402911, Accuracy: 0.8080: 100%|██████████| 4515/4515 [00:22<00:00, 202.92it/s]\n",
      "Epoch 266: Total loss: 0.5506928790348313, Accuracy: 0.8098: 100%|██████████| 4515/4515 [00:23<00:00, 190.92it/s]\n"
     ]
    },
    {
     "name": "stdout",
     "output_type": "stream",
     "text": [
      "Save best model with loss = 0.5506928790348313\n"
     ]
    },
    {
     "name": "stderr",
     "output_type": "stream",
     "text": [
      "Epoch 267: Total loss: 0.5460933999019207, Accuracy: 0.8103: 100%|██████████| 4515/4515 [00:21<00:00, 207.56it/s]\n"
     ]
    },
    {
     "name": "stdout",
     "output_type": "stream",
     "text": [
      "Save best model with loss = 0.5460933999019207\n"
     ]
    },
    {
     "name": "stderr",
     "output_type": "stream",
     "text": [
      "Epoch 268: Total loss: 0.5505665554094684, Accuracy: 0.8088: 100%|██████████| 4515/4515 [00:21<00:00, 210.62it/s]\n",
      "Epoch 269: Total loss: 0.549675970251444, Accuracy: 0.8106: 100%|██████████| 4515/4515 [00:21<00:00, 207.39it/s] \n",
      "Epoch 270: Total loss: 0.5476875339202575, Accuracy: 0.8106: 100%|██████████| 4515/4515 [00:21<00:00, 211.13it/s]\n",
      "Epoch 271: Total loss: 0.545277435658448, Accuracy: 0.8102: 100%|██████████| 4515/4515 [00:21<00:00, 209.24it/s] \n"
     ]
    },
    {
     "name": "stdout",
     "output_type": "stream",
     "text": [
      "Save best model with loss = 0.545277435658448\n"
     ]
    },
    {
     "name": "stderr",
     "output_type": "stream",
     "text": [
      "Epoch 272: Total loss: 0.5453003476079912, Accuracy: 0.8122: 100%|██████████| 4515/4515 [00:21<00:00, 212.18it/s]\n",
      "Epoch 273: Total loss: 0.5501321280814484, Accuracy: 0.8086: 100%|██████████| 4515/4515 [00:20<00:00, 216.97it/s]\n",
      "Epoch 274: Total loss: 0.5447286728971689, Accuracy: 0.8122: 100%|██████████| 4515/4515 [00:21<00:00, 214.16it/s]\n"
     ]
    },
    {
     "name": "stdout",
     "output_type": "stream",
     "text": [
      "Save best model with loss = 0.5447286728971689\n"
     ]
    },
    {
     "name": "stderr",
     "output_type": "stream",
     "text": [
      "Epoch 275: Total loss: 0.5419169302052042, Accuracy: 0.8116: 100%|██████████| 4515/4515 [00:21<00:00, 213.67it/s]\n"
     ]
    },
    {
     "name": "stdout",
     "output_type": "stream",
     "text": [
      "Save best model with loss = 0.5419169302052042\n"
     ]
    },
    {
     "name": "stderr",
     "output_type": "stream",
     "text": [
      "Epoch 276: Total loss: 0.5442216717622604, Accuracy: 0.8115: 100%|██████████| 4515/4515 [00:21<00:00, 214.48it/s]\n",
      "Epoch 277: Total loss: 0.5464972716893337, Accuracy: 0.8107: 100%|██████████| 4515/4515 [00:21<00:00, 213.23it/s]\n",
      "Epoch 278: Total loss: 0.541707568301315, Accuracy: 0.8122: 100%|██████████| 4515/4515 [00:21<00:00, 212.56it/s] \n"
     ]
    },
    {
     "name": "stdout",
     "output_type": "stream",
     "text": [
      "Save best model with loss = 0.541707568301315\n"
     ]
    },
    {
     "name": "stderr",
     "output_type": "stream",
     "text": [
      "Epoch 279: Total loss: 0.5452176593697876, Accuracy: 0.8105: 100%|██████████| 4515/4515 [00:21<00:00, 213.27it/s]\n",
      "Epoch 280: Total loss: 0.5412664460086347, Accuracy: 0.8131: 100%|██████████| 4515/4515 [00:21<00:00, 210.27it/s] \n"
     ]
    },
    {
     "name": "stdout",
     "output_type": "stream",
     "text": [
      "Save best model with loss = 0.5412664460086347\n"
     ]
    },
    {
     "name": "stderr",
     "output_type": "stream",
     "text": [
      "Epoch 281: Total loss: 0.5345995447362305, Accuracy: 0.8141:  86%|████████▋ | 3903/4515 [00:18<00:02, 207.23it/s]"
     ]
    }
   ],
   "source": [
    "from tqdm import tqdm\n",
    "\n",
    "\n",
    "num_epochs = 500\n",
    "best_loss = 99999999\n",
    "for epoch in range(num_epochs):\n",
    "    train_tqdm = tqdm(enumerate(text_loader), total=len(text_loader))\n",
    "    total_loss = 0\n",
    "    total_correct = 0\n",
    "    total_samples = 0\n",
    "    for i, data in train_tqdm:\n",
    "        # Separete input and output\n",
    "        inputs, labels = data\n",
    "        # feed forward\n",
    "\n",
    "        # move data to device\n",
    "        inputs = inputs.to(device)\n",
    "        labels = labels.to(device)\n",
    "\n",
    "        outputs = net(inputs)\n",
    "\n",
    "        # loss calculation\n",
    "        loss = loss_fn(outputs, labels)\n",
    "\n",
    "        # reset gradient\n",
    "        optimizer.zero_grad()\n",
    "        # calculate gradient\n",
    "        loss.backward()\n",
    "\n",
    "        # update weight\n",
    "        optimizer.step()\n",
    "\n",
    "        # calculate total loss\n",
    "        total_loss += loss.item()\n",
    "\n",
    "        _, predicted = torch.max(outputs, 1)\n",
    "        total_correct += (predicted == labels).sum().item()\n",
    "        total_samples += labels.size(0)\n",
    "        # update progress and show loss\n",
    "        train_tqdm.set_description(f\"Epoch {epoch}: Total loss: {total_loss/(i + 1)}, Accuracy: {total_correct / total_samples:.4f}\")\n",
    "\n",
    "    train_loss = total_loss / len(text_loader)\n",
    "\n",
    "    if train_loss <= best_loss:\n",
    "        print(f\"Save best model with loss = {train_loss}\")\n",
    "        best_loss = train_loss\n",
    "        torch.save(net.state_dict(), f\"weights/best_char_gen.pth\")"
   ]
  },
  {
   "cell_type": "code",
   "execution_count": 51,
   "metadata": {},
   "outputs": [
    {
     "name": "stdout",
     "output_type": "stream",
     "text": [
      "The next predicted character after 'alic' is: ' '\n"
     ]
    },
    {
     "name": "stderr",
     "output_type": "stream",
     "text": [
      "C:\\Users\\Owner\\AppData\\Local\\Temp\\ipykernel_24292\\1427713346.py:3: FutureWarning: You are using `torch.load` with `weights_only=False` (the current default value), which uses the default pickle module implicitly. It is possible to construct malicious pickle data which will execute arbitrary code during unpickling (See https://github.com/pytorch/pytorch/blob/main/SECURITY.md#untrusted-models for more details). In a future release, the default value for `weights_only` will be flipped to `True`. This limits the functions that could be executed during unpickling. Arbitrary objects will no longer be allowed to be loaded via this mode unless they are explicitly allowlisted by the user via `torch.serialization.add_safe_globals`. We recommend you start setting `weights_only=True` for any use case where you don't have full control of the loaded file. Please open an issue on GitHub for any issues related to this experimental feature.\n",
      "  model.load_state_dict(torch.load('weights/best_char_gen.pth'))\n"
     ]
    }
   ],
   "source": [
    "# Assuming the best weights are saved in a file 'best_model.pth'\n",
    "model = TextModel()\n",
    "model.load_state_dict(torch.load('weights/best_char_gen.pth'))\n",
    "model.eval()  # Set model to evaluation mode\n",
    "\n",
    "def predict_next_char(input_str, model, chars_to_int, int_to_chars, n_vocab):\n",
    "    # Convert input string to a list of integers\n",
    "    input_ints = [chars_to_int[char] for char in input_str]\n",
    "    \n",
    "    # Prepare the input tensor, adding batch dimension and sequence length\n",
    "    input_tensor = torch.tensor(input_ints).unsqueeze(0).unsqueeze(-1).float()\n",
    "    input_tensor = input_tensor / float(n_vocab)\n",
    "    # Pass the input through the model to get the predicted index\n",
    "    with torch.no_grad():  # No need to calculate gradients during inference\n",
    "        output = model(input_tensor)\n",
    "    \n",
    "    # Get the predicted character's index (taking the argmax to get the most likely class)\n",
    "    predicted_index = torch.argmax(output, dim=-1).item()\n",
    "    # Convert predicted index back to the corresponding character\n",
    "    predicted_char = int_to_chars[predicted_index]\n",
    "    return predicted_char\n",
    "\n",
    "# Example of predicting the next character after 'hello'\n",
    "input_str = 'alic'\n",
    "predicted_char = predict_next_char(input_str, model, chars_to_int, int_to_chars, n_vocab)\n",
    "print(f\"The next predicted character after '{input_str}' is: '{predicted_char}'\")"
   ]
  },
  {
   "cell_type": "code",
   "execution_count": null,
   "metadata": {},
   "outputs": [],
   "source": []
  },
  {
   "cell_type": "code",
   "execution_count": null,
   "metadata": {},
   "outputs": [],
   "source": []
  }
 ],
 "metadata": {
  "kernelspec": {
   "display_name": "Python 3",
   "language": "python",
   "name": "python3"
  },
  "language_info": {
   "codemirror_mode": {
    "name": "ipython",
    "version": 3
   },
   "file_extension": ".py",
   "mimetype": "text/x-python",
   "name": "python",
   "nbconvert_exporter": "python",
   "pygments_lexer": "ipython3",
   "version": "3.12.6"
  }
 },
 "nbformat": 4,
 "nbformat_minor": 2
}
