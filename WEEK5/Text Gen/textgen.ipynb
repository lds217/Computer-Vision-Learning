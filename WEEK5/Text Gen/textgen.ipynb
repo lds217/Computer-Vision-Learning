{
 "cells": [
  {
   "cell_type": "markdown",
   "metadata": {},
   "source": [
    "# Text Gen with LSTM"
   ]
  },
  {
   "cell_type": "code",
   "execution_count": 2,
   "metadata": {},
   "outputs": [],
   "source": [
    "import sys\n",
    "import numpy as np\n",
    "import torch \n",
    "import torch.nn as nn"
   ]
  },
  {
   "cell_type": "code",
   "execution_count": 3,
   "metadata": {},
   "outputs": [],
   "source": [
    "device = torch.device(\"cuda\" if torch.cuda.is_available() else \"cpu\")"
   ]
  },
  {
   "cell_type": "code",
   "execution_count": 4,
   "metadata": {},
   "outputs": [],
   "source": [
    "# load data as ASCII\n",
    "# and lower all\n",
    "filename = \"data/wonderland.txt\"\n",
    "raw_text = open(filename, 'r', encoding='utf-8').read()\n",
    "raw_text = raw_text.lower()"
   ]
  },
  {
   "cell_type": "code",
   "execution_count": 5,
   "metadata": {},
   "outputs": [
    {
     "name": "stdout",
     "output_type": "stream",
     "text": [
      "Total Characters:  144512\n",
      "Total Vocab:  45\n"
     ]
    }
   ],
   "source": [
    "# Summarize the dataset\n",
    "# set to remove duplicates\n",
    "# sorted to sort the characters\n",
    "# preapare a dictionary for mapping characters to integers\n",
    "chars = sorted(list(set(raw_text)))\n",
    "chars_to_int = dict((c, i) for i, c in enumerate(chars))\n",
    "int_to_chars = dict((i, c) for i, c in enumerate(chars))\n",
    "n_chars = len(raw_text)\n",
    "n_vocab = len(chars)\n",
    "print(\"Total Characters: \", n_chars)\n",
    "print(\"Total Vocab: \", n_vocab)"
   ]
  },
  {
   "cell_type": "code",
   "execution_count": 6,
   "metadata": {},
   "outputs": [
    {
     "name": "stdout",
     "output_type": "stream",
     "text": [
      "Total Patterns:  144462\n"
     ]
    }
   ],
   "source": [
    "# preapre data_length to gen the next character\n",
    "seq_length = 50\n",
    "dataX = []\n",
    "dataY = []\n",
    "for i in range(0, n_chars - seq_length, 1):\n",
    "    seq_in = raw_text[i:i + seq_length]\n",
    "    seq_out = raw_text[i + seq_length]\n",
    "    dataX.append([chars_to_int[char] for char in seq_in])\n",
    "    dataY.append(chars_to_int[seq_out])\n",
    "\n",
    "n_patterns = len(dataX)\n",
    "print(\"Total Patterns: \", n_patterns)"
   ]
  },
  {
   "cell_type": "code",
   "execution_count": 7,
   "metadata": {},
   "outputs": [],
   "source": [
    "# change the shape of the data to format for LSTM\n",
    "# [samples, time steps, features]\n",
    "# normalize the data\n",
    "X = np.reshape(dataX, (n_patterns, seq_length, 1))\n",
    "X = X / float(n_vocab)\n",
    "y = dataY"
   ]
  },
  {
   "cell_type": "code",
   "execution_count": 8,
   "metadata": {},
   "outputs": [],
   "source": [
    "class TextModel(nn.Module):\n",
    "    def __init__(self):\n",
    "        super().__init__()\n",
    "\n",
    "        self.lstm = nn.LSTM(1, 256, batch_first=True)\n",
    "        self.classifier = nn.Sequential(\n",
    "            nn.Linear(256, 256),\n",
    "            nn.Dropout(0.2),\n",
    "            nn.ReLU(),\n",
    "            nn.Linear(256, n_vocab),\n",
    "        )\n",
    "    def forward(self, x):\n",
    "        output, (h, c) = self.lstm(x)\n",
    "        # h is the hidden state of the LSTM\n",
    "        # c is the cell state of the LSTM\n",
    "        x = self.classifier(h.squeeze(0))\n",
    "        return x"
   ]
  },
  {
   "cell_type": "code",
   "execution_count": 9,
   "metadata": {},
   "outputs": [],
   "source": [
    "x = torch.randn(2, 50, 1).to(device)\n",
    "net = TextModel().to(device)\n"
   ]
  },
  {
   "cell_type": "code",
   "execution_count": 10,
   "metadata": {},
   "outputs": [],
   "source": [
    "from tqdm import tqdm\n",
    "from tqdm.notebook import tqdm\n",
    "from torch.utils.data import Dataset, DataLoader"
   ]
  },
  {
   "cell_type": "code",
   "execution_count": 11,
   "metadata": {},
   "outputs": [],
   "source": [
    "# It is designed to store and provide training data for a sequence-based task, such as language modeling or text generation\n",
    "class TextDataset(Dataset):\n",
    "    def __init__(self, data, next_chars):\n",
    "        super().__init__()\n",
    "\n",
    "        self.data = data\n",
    "        self.next_chars = next_chars\n",
    "\n",
    "    def __getitem__(self, index):\n",
    "        return torch.tensor(self.data[index], dtype=torch.float32), self.next_chars[index]\n",
    "\n",
    "    def __len__(self):\n",
    "        return len(self.data)"
   ]
  },
  {
   "cell_type": "code",
   "execution_count": 12,
   "metadata": {},
   "outputs": [],
   "source": [
    "text_dataset = TextDataset(X, y)\n",
    "text_loader = DataLoader(\n",
    "    dataset=text_dataset,\n",
    "    shuffle=True,\n",
    "    batch_size=32,\n",
    "    num_workers=0\n",
    ")\n"
   ]
  },
  {
   "cell_type": "code",
   "execution_count": 13,
   "metadata": {},
   "outputs": [],
   "source": [
    "loss_fn = torch.nn.CrossEntropyLoss()\n",
    "optimizer = torch.optim.Adam(net.parameters(), lr=0.001)"
   ]
  },
  {
   "cell_type": "code",
   "execution_count": null,
   "metadata": {},
   "outputs": [],
   "source": [
    "from tqdm import tqdm\n",
    "\n",
    "\n",
    "num_epochs = 500\n",
    "best_loss = 99999999\n",
    "for epoch in range(num_epochs):\n",
    "    train_tqdm = tqdm(enumerate(text_loader), total=len(text_loader))\n",
    "    total_loss = 0\n",
    "    total_correct = 0\n",
    "    total_samples = 0\n",
    "    for i, data in train_tqdm:\n",
    "        # Separete input and output\n",
    "        inputs, labels = data\n",
    "        # feed forward\n",
    "\n",
    "        # move data to device\n",
    "        inputs = inputs.to(device)\n",
    "        labels = labels.to(device)\n",
    "\n",
    "        outputs = net(inputs)\n",
    "\n",
    "        # loss calculation\n",
    "        loss = loss_fn(outputs, labels)\n",
    "\n",
    "        # reset gradient\n",
    "        optimizer.zero_grad()\n",
    "        # calculate gradient\n",
    "        loss.backward()\n",
    "\n",
    "        # update weight\n",
    "        optimizer.step()\n",
    "\n",
    "        # calculate total loss\n",
    "        total_loss += loss.item()\n",
    "\n",
    "        _, predicted = torch.max(outputs, 1)\n",
    "        total_correct += (predicted == labels).sum().item()\n",
    "        total_samples += labels.size(0)\n",
    "        # update progress and show loss\n",
    "        train_tqdm.set_description(f\"Epoch {epoch}: Total loss: {total_loss/(i + 1)}, Accuracy: {total_correct / total_samples:.4f}\")\n",
    "\n",
    "    train_loss = total_loss / len(text_loader)\n",
    "\n",
    "    if train_loss <= best_loss:\n",
    "        print(f\"Save best model with loss = {train_loss}\")\n",
    "        best_loss = train_loss\n",
    "        torch.save(net.state_dict(), f\"weights/best_char_gen.pth\")"
   ]
  },
  {
   "cell_type": "code",
   "execution_count": 78,
   "metadata": {},
   "outputs": [
    {
     "name": "stdout",
     "output_type": "stream",
     "text": [
      "The next predicted character after 'very soon she felt on her eyes tere ' is: 'w'\n"
     ]
    },
    {
     "name": "stderr",
     "output_type": "stream",
     "text": [
      "C:\\Users\\Owner\\AppData\\Local\\Temp\\ipykernel_22564\\1971879876.py:3: FutureWarning: You are using `torch.load` with `weights_only=False` (the current default value), which uses the default pickle module implicitly. It is possible to construct malicious pickle data which will execute arbitrary code during unpickling (See https://github.com/pytorch/pytorch/blob/main/SECURITY.md#untrusted-models for more details). In a future release, the default value for `weights_only` will be flipped to `True`. This limits the functions that could be executed during unpickling. Arbitrary objects will no longer be allowed to be loaded via this mode unless they are explicitly allowlisted by the user via `torch.serialization.add_safe_globals`. We recommend you start setting `weights_only=True` for any use case where you don't have full control of the loaded file. Please open an issue on GitHub for any issues related to this experimental feature.\n",
      "  model.load_state_dict(torch.load('weights/best_char_gen.pth'))\n"
     ]
    }
   ],
   "source": [
    "# Assuming the best weights are saved in a file 'best_model.pth'\n",
    "model = TextModel()\n",
    "model.load_state_dict(torch.load('weights/best_char_gen.pth'))\n",
    "model.eval()  # Set model to evaluation mode\n",
    "\n",
    "def predict_next_char(input_str, model, chars_to_int, int_to_chars, n_vocab):\n",
    "    # Convert input string to a list of integers\n",
    "    input_ints = [chars_to_int[char] for char in input_str]\n",
    "    \n",
    "    # Prepare the input tensor, adding batch dimension and sequence length\n",
    "    input_tensor = torch.tensor(input_ints).unsqueeze(0).unsqueeze(-1).float()\n",
    "    input_tensor = input_tensor / float(n_vocab)\n",
    "    # Pass the input through the model to get the predicted index\n",
    "    with torch.no_grad():  # No need to calculate gradients during inference\n",
    "        output = model(input_tensor)\n",
    "    \n",
    "    # Get the predicted character's index (taking the argmax to get the most likely class)\n",
    "    predicted_index = torch.argmax(output, dim=-1).item()\n",
    "    # Convert predicted index back to the corresponding character\n",
    "    predicted_char = int_to_chars[predicted_index]\n",
    "    return predicted_char\n",
    "\n",
    "# Example of predicting the next character after 'hello'\n",
    "input_str = 'very soon she felt on her eyes tere '\n",
    "predicted_char = predict_next_char(input_str, model, chars_to_int, int_to_chars, n_vocab)\n",
    "print(f\"The next predicted character after '{input_str}' is: '{predicted_char}'\")"
   ]
  },
  {
   "cell_type": "code",
   "execution_count": null,
   "metadata": {},
   "outputs": [],
   "source": []
  },
  {
   "cell_type": "code",
   "execution_count": null,
   "metadata": {},
   "outputs": [],
   "source": []
  }
 ],
 "metadata": {
  "kernelspec": {
   "display_name": "Python 3",
   "language": "python",
   "name": "python3"
  },
  "language_info": {
   "codemirror_mode": {
    "name": "ipython",
    "version": 3
   },
   "file_extension": ".py",
   "mimetype": "text/x-python",
   "name": "python",
   "nbconvert_exporter": "python",
   "pygments_lexer": "ipython3",
   "version": "3.12.6"
  }
 },
 "nbformat": 4,
 "nbformat_minor": 2
}
